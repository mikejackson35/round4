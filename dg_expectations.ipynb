{
 "cells": [
  {
   "cell_type": "code",
   "execution_count": 1,
   "id": "227b4ee1",
   "metadata": {},
   "outputs": [],
   "source": [
    "#dependencies\n",
    "\n",
    "from matplotlib import pyplot as plt\n",
    "from scipy.stats import linregress\n",
    "import numpy as np\n",
    "import pandas as pd\n",
    "import plotly.graph_objects as go\n",
    "import plotly.express as px\n",
    "\n",
    "import seaborn as sns\n",
    "%matplotlib inline"
   ]
  },
  {
   "cell_type": "code",
   "execution_count": 2,
   "id": "907a2817",
   "metadata": {},
   "outputs": [],
   "source": [
    "# Read in csv's\n",
    "\n",
    "temp_1 = \"..//practice_sources/datagolf_rankings_20210104.csv\"\n",
    "temp_2 = \"..//practice_sources/datagolf_rankings_20210111.csv\"\n",
    "temp_3 = \"..//practice_sources/datagolf_rankings_20210118.csv\"\n",
    "temp_4 = \"..//practice_sources/datagolf_rankings_20210125.csv\"\n",
    "temp_5 = \"..//practice_sources/datagolf_rankings_20210201.csv\"\n",
    "temp_6 = \"..//practice_sources/datagolf_rankings_20210208.csv\"\n",
    "temp_7 = \"..//practice_sources/datagolf_rankings_20210215.csv\"\n",
    "temp_8 = \"..//practice_sources/datagolf_rankings_20210222.csv\"\n",
    "temp_9 = \"..//practice_sources/datagolf_rankings_20210301.csv\"\n",
    "temp_10 = \"..//practice_sources/datagolf_rankings_20210308.csv\"\n",
    "temp_11 = \"..//practice_sources/datagolf_rankings_20210315.csv\"\n",
    "temp_12 = \"..//practice_sources/datagolf_rankings_20210322.csv\"\n",
    "temp_13 = \"..//practice_sources/datagolf_rankings_20210329.csv\"\n",
    "temp_14 = \"..//practice_sources/datagolf_rankings_20210405.csv\"\n",
    "temp_15 = \"..//practice_sources/datagolf_rankings_20210412.csv\"\n",
    "temp_16 = \"..//practice_sources/datagolf_rankings_20210419.csv\"\n",
    "temp_17 = \"..//practice_sources/datagolf_rankings_20210426.csv\"\n",
    "temp_18 = \"..//practice_sources/datagolf_rankings_20210503.csv\"\n",
    "temp_19 = \"..//practice_sources/datagolf_rankings_20210510.csv\"\n",
    "temp_20 = \"..//practice_sources/datagolf_rankings_20210517.csv\"\n",
    "temp_21 = \"..//practice_sources/datagolf_rankings_20210524.csv\"\n",
    "temp_22 = \"..//practice_sources/datagolf_rankings_20210531.csv\"\n",
    "temp_23 = \"..//practice_sources/datagolf_rankings_20210607.csv\"\n",
    "temp_24 = \"..//practice_sources/datagolf_rankings_20210614.csv\"\n",
    "temp_25 = \"..//practice_sources/datagolf_rankings_20210621.csv\"\n",
    "temp_26 = \"..//practice_sources/datagolf_rankings_20210628.csv\"\n",
    "temp_27 = \"..//practice_sources/datagolf_rankings_20210705.csv\"\n",
    "temp_28 = \"..//practice_sources/datagolf_rankings_20210712.csv\"\n",
    "temp_29 = \"..//practice_sources/datagolf_rankings_20210719.csv\"\n",
    "temp_30 = \"..//practice_sources/datagolf_rankings_20210726.csv\"\n",
    "temp_31 = \"..//practice_sources/datagolf_rankings_20210802.csv\"\n",
    "temp_32 = \"..//practice_sources/datagolf_rankings_20210809.csv\"\n",
    "temp_33 = \"..//practice_sources/datagolf_rankings_20210823.csv\"\n",
    "temp_34 = \"..//practice_sources/datagolf_rankings_20210830.csv\"\n",
    "temp_35 = \"..//practice_sources/datagolf_rankings_20210906.csv\"\n",
    "temp_36 = \"..//practice_sources/datagolf_rankings_20210913.csv\"\n",
    "temp_37 = \"..//practice_sources/datagolf_rankings_20210920.csv\"\n",
    "temp_38 = \"..//practice_sources/datagolf_rankings_20210927.csv\"\n",
    "temp_39 = \"..//practice_sources/datagolf_rankings_20211011.csv\"\n",
    "temp_40 = \"..//practice_sources/datagolf_rankings_20211018.csv\"\n",
    "temp_41 = \"..//practice_sources/datagolf_rankings_20211025.csv\"\n",
    "temp_42 = \"..//practice_sources/datagolf_rankings_20211101.csv\"\n",
    "temp_43 = \"..//practice_sources/datagolf_rankings_20211108.csv\"\n",
    "temp_44 = \"..//practice_sources/datagolf_rankings_20211115.csv\"\n",
    "temp_45 = \"..//practice_sources/datagolf_rankings_20211122.csv\"\n",
    "temp_46 = \"..//practice_sources/datagolf_rankings_20211129.csv\"\n",
    "temp_47 = \"..//practice_sources/datagolf_rankings_20211206.csv\"\n",
    "temp_48 = \"..//practice_sources/datagolf_rankings_20211213.csv\"\n",
    "temp_49 = \"..//practice_sources/datagolf_rankings_20211220.csv\"\n",
    "temp_50 = \"..//practice_sources/datagolf_rankings_20211227.csv\"\n",
    "temp_51 = \"..//practice_sources/datagolf_rankings_20220103.csv\"\n",
    "temp_52 = \"..//practice_sources/datagolf_rankings_20220110.csv\"\n",
    "temp_53 = \"..//practice_sources/datagolf_rankings_20220117.csv\"\n",
    "temp_54 = \"..//practice_sources/datagolf_rankings_20220124.csv\"\n",
    "temp_55 = \"..//practice_sources/datagolf_rankings_20220131.csv\"\n",
    "temp_56 = \"..//practice_sources/datagolf_rankings_20220207.csv\"\n",
    "temp_57 = \"..//practice_sources/datagolf_rankings_20220214.csv\"\n",
    "temp_58 = \"..//practice_sources/datagolf_rankings_20220221.csv\"\n",
    "temp_59 = \"..//practice_sources/datagolf_rankings_20220228.csv\"\n",
    "temp_60 = \"..//practice_sources/datagolf_rankings_20220307.csv\"\n",
    "\n",
    "temp_1 = pd.read_csv(temp_1)\n",
    "temp_1['event_completed'] = pd.to_datetime('1/10/2021')\n",
    "temp_2 = pd.read_csv(temp_2)\n",
    "temp_2['event_completed'] = pd.to_datetime('1/17/2021')\n",
    "temp_3 = pd.read_csv(temp_3)\n",
    "temp_3['event_completed'] = pd.to_datetime('1/24/2021')\n",
    "temp_4 = pd.read_csv(temp_4)\n",
    "temp_4['event_completed'] = pd.to_datetime('1/31/2021')\n",
    "temp_5 = pd.read_csv(temp_5)\n",
    "temp_5['event_completed'] = pd.to_datetime('2/7/2021')\n",
    "temp_6 = pd.read_csv(temp_6)\n",
    "temp_6['event_completed'] = pd.to_datetime('2/14/2021')\n",
    "temp_7 = pd.read_csv(temp_7)\n",
    "temp_7['event_completed'] = pd.to_datetime('2/21/2021')\n",
    "temp_8 = pd.read_csv(temp_8)\n",
    "temp_8['event_completed'] = pd.to_datetime('2/28/2021')\n",
    "temp_9 = pd.read_csv(temp_9)\n",
    "temp_9['event_completed'] = pd.to_datetime('3/7/2021')\n",
    "temp_10 = pd.read_csv(temp_10)\n",
    "temp_10['event_completed'] = pd.to_datetime('3/14/2021')\n",
    "temp_11 = pd.read_csv(temp_11)\n",
    "temp_11['event_completed'] = pd.to_datetime('3/21/2021')\n",
    "temp_12 = pd.read_csv(temp_12)\n",
    "temp_12['event_completed'] = pd.to_datetime('3/28/2021')\n",
    "temp_13 = pd.read_csv(temp_13)\n",
    "temp_13['event_completed'] = pd.to_datetime('4/4/2021')\n",
    "temp_14 = pd.read_csv(temp_14)\n",
    "temp_14['event_completed'] = pd.to_datetime('4/11/2021')\n",
    "temp_15 = pd.read_csv(temp_15)\n",
    "temp_15['event_completed'] = pd.to_datetime('4/18/2021')\n",
    "temp_16 = pd.read_csv(temp_16)\n",
    "temp_16['event_completed'] = pd.to_datetime('4/25/2021')\n",
    "temp_17 = pd.read_csv(temp_17)\n",
    "temp_17['event_completed'] = pd.to_datetime('5/2/2021')\n",
    "temp_18 = pd.read_csv(temp_18)\n",
    "temp_18['event_completed'] = pd.to_datetime('5/9/2021')\n",
    "temp_19 = pd.read_csv(temp_19)\n",
    "temp_19['event_completed'] = pd.to_datetime('5/16/2021')\n",
    "temp_20 = pd.read_csv(temp_20)\n",
    "temp_20['event_completed'] = pd.to_datetime('5/23/2021')\n",
    "temp_21 = pd.read_csv(temp_21)\n",
    "temp_21['event_completed'] = pd.to_datetime('5/30/2021')\n",
    "temp_22 = pd.read_csv(temp_22)\n",
    "temp_22['event_completed'] = pd.to_datetime('6/6/2021')\n",
    "temp_23 = pd.read_csv(temp_23)\n",
    "temp_23['event_completed'] = pd.to_datetime('6/13/2021')\n",
    "temp_24 = pd.read_csv(temp_24)\n",
    "temp_24['event_completed'] = pd.to_datetime('6/20/2021')\n",
    "temp_25 = pd.read_csv(temp_25)\n",
    "temp_25['event_completed'] = pd.to_datetime('6/27/2021')\n",
    "temp_26 = pd.read_csv(temp_26)\n",
    "temp_26['event_completed'] = pd.to_datetime('7/4/2021')\n",
    "temp_27 = pd.read_csv(temp_27)\n",
    "temp_27['event_completed'] = pd.to_datetime('7/11/2021')\n",
    "temp_28 = pd.read_csv(temp_28)\n",
    "temp_28['event_completed'] = pd.to_datetime('7/18/2021')\n",
    "temp_29 = pd.read_csv(temp_29)\n",
    "temp_29['event_completed'] = pd.to_datetime('7/25/2021')\n",
    "temp_30 = pd.read_csv(temp_30)\n",
    "temp_30['event_completed'] = pd.to_datetime('8/1/2021')\n",
    "temp_31 = pd.read_csv(temp_31)\n",
    "temp_31['event_completed'] = pd.to_datetime('8/8/2021')\n",
    "temp_32 = pd.read_csv(temp_32)\n",
    "temp_32['event_completed'] = pd.to_datetime('8/15/2021')\n",
    "temp_33 = pd.read_csv(temp_33)\n",
    "temp_33['event_completed'] = pd.to_datetime('8/22/2021')\n",
    "temp_34 = pd.read_csv(temp_34)\n",
    "temp_34['event_completed'] = pd.to_datetime('8/29/2021')\n",
    "temp_35 = pd.read_csv(temp_35)\n",
    "temp_35['event_completed'] = pd.to_datetime('9/5/2021')\n",
    "temp_36 = pd.read_csv(temp_36)\n",
    "temp_36['event_completed'] = pd.to_datetime('9/12/2021')\n",
    "temp_37 = pd.read_csv(temp_37)\n",
    "temp_37['event_completed'] = pd.to_datetime('9/19/2021')\n",
    "temp_38 = pd.read_csv(temp_38)\n",
    "temp_38['event_completed'] = pd.to_datetime('9/26/2021')\n",
    "temp_39 = pd.read_csv(temp_39)\n",
    "temp_39['event_completed'] = pd.to_datetime('10/3/2021')\n",
    "temp_40 = pd.read_csv(temp_40)\n",
    "temp_40['event_completed'] = pd.to_datetime('10/10/2021')\n",
    "temp_41 = pd.read_csv(temp_41)\n",
    "temp_41['event_completed'] = pd.to_datetime('10/17/2021')\n",
    "temp_42 = pd.read_csv(temp_42)\n",
    "temp_42['event_completed'] = pd.to_datetime('10/24/2021')\n",
    "temp_43 = pd.read_csv(temp_43)\n",
    "temp_43['event_completed'] = pd.to_datetime('10/31/2021')\n",
    "temp_44 = pd.read_csv(temp_44)\n",
    "temp_44['event_completed'] = pd.to_datetime('11/7/2021')\n",
    "temp_45 = pd.read_csv(temp_45)\n",
    "temp_45['event_completed'] = pd.to_datetime('11/14/2021')\n",
    "temp_46 = pd.read_csv(temp_46)\n",
    "temp_46['event_completed'] = pd.to_datetime('11/21/2021')\n",
    "temp_47 = pd.read_csv(temp_47)\n",
    "temp_47['event_completed'] = pd.to_datetime('11/28/2021')\n",
    "temp_48 = pd.read_csv(temp_48)\n",
    "temp_48['event_completed'] = pd.to_datetime('12/5/2021')\n",
    "temp_49 = pd.read_csv(temp_49)\n",
    "temp_49['event_completed'] = pd.to_datetime('12/13/2021')\n",
    "temp_50 = pd.read_csv(temp_50)\n",
    "temp_50['event_completed'] = pd.to_datetime('12/20/2021')\n",
    "temp_51 = pd.read_csv(temp_51)\n",
    "temp_51['event_completed'] = pd.to_datetime('12/27/2021')\n",
    "temp_52 = pd.read_csv(temp_52)\n",
    "temp_52['event_completed'] = pd.to_datetime('1/2/2022')\n",
    "temp_53 = pd.read_csv(temp_53)\n",
    "temp_53['event_completed'] = pd.to_datetime('1/9/2022')\n",
    "temp_54 = pd.read_csv(temp_54)\n",
    "temp_54['event_completed'] = pd.to_datetime('1/16/2022')\n",
    "temp_55 = pd.read_csv(temp_55)\n",
    "temp_55['event_completed'] = pd.to_datetime('1/23/2022')\n",
    "temp_56 = pd.read_csv(temp_56)\n",
    "temp_56['event_completed'] = pd.to_datetime('1/29/2022')\n",
    "temp_57 = pd.read_csv(temp_57)\n",
    "temp_57['event_completed'] = pd.to_datetime('2/6/2022')\n",
    "temp_58 = pd.read_csv(temp_58)\n",
    "temp_58['event_completed'] = pd.to_datetime('2/13/2022')\n",
    "temp_59 = pd.read_csv(temp_59)\n",
    "temp_59['event_completed'] = pd.to_datetime('2/20/2022')\n",
    "temp_60 = pd.read_csv(temp_60)\n",
    "temp_60['event_completed'] = pd.to_datetime('2/27/2022')"
   ]
  },
  {
   "cell_type": "code",
   "execution_count": 3,
   "id": "7fdf6730",
   "metadata": {},
   "outputs": [],
   "source": [
    "#concat all 11 csv's\n",
    "\n",
    "ind_dfs = [temp_1, temp_2,  temp_3,  temp_4,  temp_5,  temp_6,  temp_7,  temp_8,  temp_9,  temp_10,\n",
    "          temp_11, temp_12, temp_13, temp_14, temp_15, temp_16, temp_17, temp_18, temp_19, temp_20,\n",
    "          temp_21, temp_22, temp_23, temp_24, temp_25, temp_26, temp_27, temp_28, temp_29, temp_30,\n",
    "          temp_31, temp_32, temp_33, temp_34, temp_35, temp_36, temp_37, temp_38, temp_39, temp_40,\n",
    "          temp_41, temp_42, temp_43, temp_44, temp_45, temp_46, temp_47, temp_48, temp_49, temp_50,\n",
    "          temp_51, temp_52, temp_53, temp_54, temp_55, temp_56, temp_57, temp_58, temp_59, temp_60\n",
    "          ]\n",
    "main_df = pd.concat(ind_dfs)"
   ]
  },
  {
   "cell_type": "code",
   "execution_count": 4,
   "id": "45ea27e9",
   "metadata": {},
   "outputs": [],
   "source": [
    "main_df['pga_index_mean'] = round(main_df[main_df.primary_tour=='pga']['dg_index'].mean(),3)\n",
    "main_df['euro_index_mean'] = round(main_df[main_df.primary_tour=='euro']['dg_index'].mean(),3)\n",
    "main_df['jpn_index_mean'] = round(main_df[main_df.primary_tour=='jpn']['dg_index'].mean(),3)\n",
    "main_df['am_index_mean'] = round(main_df[main_df.primary_tour=='am']['dg_index'].mean(),3)\n",
    "main_df['kft_index_mean'] = round(main_df[main_df.primary_tour=='kft']['dg_index'].mean(),3)\n",
    "main_df['champ_index_mean'] = round(main_df[main_df.primary_tour=='champ']['dg_index'].mean(),3)"
   ]
  },
  {
   "cell_type": "code",
   "execution_count": 5,
   "id": "48c1a6ad",
   "metadata": {},
   "outputs": [
    {
     "data": {
      "text/html": [
       "<div>\n",
       "<style scoped>\n",
       "    .dataframe tbody tr th:only-of-type {\n",
       "        vertical-align: middle;\n",
       "    }\n",
       "\n",
       "    .dataframe tbody tr th {\n",
       "        vertical-align: top;\n",
       "    }\n",
       "\n",
       "    .dataframe thead th {\n",
       "        text-align: right;\n",
       "    }\n",
       "</style>\n",
       "<table border=\"1\" class=\"dataframe\">\n",
       "  <thead>\n",
       "    <tr style=\"text-align: right;\">\n",
       "      <th></th>\n",
       "      <th>player_name</th>\n",
       "      <th>sample_size</th>\n",
       "      <th>primary_tour</th>\n",
       "      <th>dg_rank</th>\n",
       "      <th>dg_change</th>\n",
       "      <th>owgr_rank</th>\n",
       "      <th>owgr_change</th>\n",
       "      <th>dg_index</th>\n",
       "      <th>event_completed</th>\n",
       "      <th>pga_index_mean</th>\n",
       "      <th>euro_index_mean</th>\n",
       "      <th>jpn_index_mean</th>\n",
       "      <th>am_index_mean</th>\n",
       "      <th>kft_index_mean</th>\n",
       "      <th>champ_index_mean</th>\n",
       "    </tr>\n",
       "  </thead>\n",
       "  <tbody>\n",
       "    <tr>\n",
       "      <th>0</th>\n",
       "      <td>Johnson, Dustin</td>\n",
       "      <td>150</td>\n",
       "      <td>pga</td>\n",
       "      <td>1</td>\n",
       "      <td>0</td>\n",
       "      <td>1</td>\n",
       "      <td>0</td>\n",
       "      <td>2.353918</td>\n",
       "      <td>2021-01-10</td>\n",
       "      <td>0.145</td>\n",
       "      <td>-0.541</td>\n",
       "      <td>-0.821</td>\n",
       "      <td>-0.888</td>\n",
       "      <td>-0.687</td>\n",
       "      <td>-0.851</td>\n",
       "    </tr>\n",
       "    <tr>\n",
       "      <th>1</th>\n",
       "      <td>Rahm, Jon</td>\n",
       "      <td>150</td>\n",
       "      <td>pga</td>\n",
       "      <td>2</td>\n",
       "      <td>0</td>\n",
       "      <td>2</td>\n",
       "      <td>0</td>\n",
       "      <td>2.215693</td>\n",
       "      <td>2021-01-10</td>\n",
       "      <td>0.145</td>\n",
       "      <td>-0.541</td>\n",
       "      <td>-0.821</td>\n",
       "      <td>-0.888</td>\n",
       "      <td>-0.687</td>\n",
       "      <td>-0.851</td>\n",
       "    </tr>\n",
       "    <tr>\n",
       "      <th>2</th>\n",
       "      <td>Thomas, Justin</td>\n",
       "      <td>150</td>\n",
       "      <td>pga</td>\n",
       "      <td>3</td>\n",
       "      <td>0</td>\n",
       "      <td>3</td>\n",
       "      <td>0</td>\n",
       "      <td>2.186185</td>\n",
       "      <td>2021-01-10</td>\n",
       "      <td>0.145</td>\n",
       "      <td>-0.541</td>\n",
       "      <td>-0.821</td>\n",
       "      <td>-0.888</td>\n",
       "      <td>-0.687</td>\n",
       "      <td>-0.851</td>\n",
       "    </tr>\n",
       "    <tr>\n",
       "      <th>3</th>\n",
       "      <td>Schauffele, Xander</td>\n",
       "      <td>150</td>\n",
       "      <td>pga</td>\n",
       "      <td>4</td>\n",
       "      <td>0</td>\n",
       "      <td>6</td>\n",
       "      <td>2</td>\n",
       "      <td>2.093749</td>\n",
       "      <td>2021-01-10</td>\n",
       "      <td>0.145</td>\n",
       "      <td>-0.541</td>\n",
       "      <td>-0.821</td>\n",
       "      <td>-0.888</td>\n",
       "      <td>-0.687</td>\n",
       "      <td>-0.851</td>\n",
       "    </tr>\n",
       "    <tr>\n",
       "      <th>4</th>\n",
       "      <td>McIlroy, Rory</td>\n",
       "      <td>150</td>\n",
       "      <td>pga</td>\n",
       "      <td>5</td>\n",
       "      <td>1</td>\n",
       "      <td>4</td>\n",
       "      <td>0</td>\n",
       "      <td>1.776558</td>\n",
       "      <td>2021-01-10</td>\n",
       "      <td>0.145</td>\n",
       "      <td>-0.541</td>\n",
       "      <td>-0.821</td>\n",
       "      <td>-0.888</td>\n",
       "      <td>-0.687</td>\n",
       "      <td>-0.851</td>\n",
       "    </tr>\n",
       "    <tr>\n",
       "      <th>...</th>\n",
       "      <td>...</td>\n",
       "      <td>...</td>\n",
       "      <td>...</td>\n",
       "      <td>...</td>\n",
       "      <td>...</td>\n",
       "      <td>...</td>\n",
       "      <td>...</td>\n",
       "      <td>...</td>\n",
       "      <td>...</td>\n",
       "      <td>...</td>\n",
       "      <td>...</td>\n",
       "      <td>...</td>\n",
       "      <td>...</td>\n",
       "      <td>...</td>\n",
       "      <td>...</td>\n",
       "    </tr>\n",
       "    <tr>\n",
       "      <th>495</th>\n",
       "      <td>Pepperell, Eddie</td>\n",
       "      <td>150</td>\n",
       "      <td>euro</td>\n",
       "      <td>496</td>\n",
       "      <td>-9</td>\n",
       "      <td>468</td>\n",
       "      <td>-23</td>\n",
       "      <td>-1.239836</td>\n",
       "      <td>2022-02-27</td>\n",
       "      <td>0.145</td>\n",
       "      <td>-0.541</td>\n",
       "      <td>-0.821</td>\n",
       "      <td>-0.888</td>\n",
       "      <td>-0.687</td>\n",
       "      <td>-0.851</td>\n",
       "    </tr>\n",
       "    <tr>\n",
       "      <th>496</th>\n",
       "      <td>Fishburn, Patrick</td>\n",
       "      <td>150</td>\n",
       "      <td>kft</td>\n",
       "      <td>497</td>\n",
       "      <td>-4</td>\n",
       "      <td>9999</td>\n",
       "      <td>0</td>\n",
       "      <td>-1.239879</td>\n",
       "      <td>2022-02-27</td>\n",
       "      <td>0.145</td>\n",
       "      <td>-0.541</td>\n",
       "      <td>-0.821</td>\n",
       "      <td>-0.888</td>\n",
       "      <td>-0.687</td>\n",
       "      <td>-0.851</td>\n",
       "    </tr>\n",
       "    <tr>\n",
       "      <th>497</th>\n",
       "      <td>Coupland, Dave</td>\n",
       "      <td>150</td>\n",
       "      <td>euro</td>\n",
       "      <td>498</td>\n",
       "      <td>0</td>\n",
       "      <td>9999</td>\n",
       "      <td>0</td>\n",
       "      <td>-1.240651</td>\n",
       "      <td>2022-02-27</td>\n",
       "      <td>0.145</td>\n",
       "      <td>-0.541</td>\n",
       "      <td>-0.821</td>\n",
       "      <td>-0.888</td>\n",
       "      <td>-0.687</td>\n",
       "      <td>-0.851</td>\n",
       "    </tr>\n",
       "    <tr>\n",
       "      <th>498</th>\n",
       "      <td>Hammer, Cole</td>\n",
       "      <td>150</td>\n",
       "      <td>am</td>\n",
       "      <td>499</td>\n",
       "      <td>0</td>\n",
       "      <td>9999</td>\n",
       "      <td>0</td>\n",
       "      <td>-1.243111</td>\n",
       "      <td>2022-02-27</td>\n",
       "      <td>0.145</td>\n",
       "      <td>-0.541</td>\n",
       "      <td>-0.821</td>\n",
       "      <td>-0.888</td>\n",
       "      <td>-0.687</td>\n",
       "      <td>-0.851</td>\n",
       "    </tr>\n",
       "    <tr>\n",
       "      <th>499</th>\n",
       "      <td>Drysdale, David</td>\n",
       "      <td>150</td>\n",
       "      <td>euro</td>\n",
       "      <td>500</td>\n",
       "      <td>0</td>\n",
       "      <td>9999</td>\n",
       "      <td>0</td>\n",
       "      <td>-1.253622</td>\n",
       "      <td>2022-02-27</td>\n",
       "      <td>0.145</td>\n",
       "      <td>-0.541</td>\n",
       "      <td>-0.821</td>\n",
       "      <td>-0.888</td>\n",
       "      <td>-0.687</td>\n",
       "      <td>-0.851</td>\n",
       "    </tr>\n",
       "  </tbody>\n",
       "</table>\n",
       "<p>30000 rows × 15 columns</p>\n",
       "</div>"
      ],
      "text/plain": [
       "            player_name  sample_size primary_tour  dg_rank  dg_change  \\\n",
       "0       Johnson, Dustin          150          pga        1          0   \n",
       "1             Rahm, Jon          150          pga        2          0   \n",
       "2        Thomas, Justin          150          pga        3          0   \n",
       "3    Schauffele, Xander          150          pga        4          0   \n",
       "4         McIlroy, Rory          150          pga        5          1   \n",
       "..                  ...          ...          ...      ...        ...   \n",
       "495    Pepperell, Eddie          150         euro      496         -9   \n",
       "496   Fishburn, Patrick          150          kft      497         -4   \n",
       "497      Coupland, Dave          150         euro      498          0   \n",
       "498        Hammer, Cole          150           am      499          0   \n",
       "499     Drysdale, David          150         euro      500          0   \n",
       "\n",
       "     owgr_rank  owgr_change  dg_index event_completed  pga_index_mean  \\\n",
       "0            1            0  2.353918      2021-01-10           0.145   \n",
       "1            2            0  2.215693      2021-01-10           0.145   \n",
       "2            3            0  2.186185      2021-01-10           0.145   \n",
       "3            6            2  2.093749      2021-01-10           0.145   \n",
       "4            4            0  1.776558      2021-01-10           0.145   \n",
       "..         ...          ...       ...             ...             ...   \n",
       "495        468          -23 -1.239836      2022-02-27           0.145   \n",
       "496       9999            0 -1.239879      2022-02-27           0.145   \n",
       "497       9999            0 -1.240651      2022-02-27           0.145   \n",
       "498       9999            0 -1.243111      2022-02-27           0.145   \n",
       "499       9999            0 -1.253622      2022-02-27           0.145   \n",
       "\n",
       "     euro_index_mean  jpn_index_mean  am_index_mean  kft_index_mean  \\\n",
       "0             -0.541          -0.821         -0.888          -0.687   \n",
       "1             -0.541          -0.821         -0.888          -0.687   \n",
       "2             -0.541          -0.821         -0.888          -0.687   \n",
       "3             -0.541          -0.821         -0.888          -0.687   \n",
       "4             -0.541          -0.821         -0.888          -0.687   \n",
       "..               ...             ...            ...             ...   \n",
       "495           -0.541          -0.821         -0.888          -0.687   \n",
       "496           -0.541          -0.821         -0.888          -0.687   \n",
       "497           -0.541          -0.821         -0.888          -0.687   \n",
       "498           -0.541          -0.821         -0.888          -0.687   \n",
       "499           -0.541          -0.821         -0.888          -0.687   \n",
       "\n",
       "     champ_index_mean  \n",
       "0              -0.851  \n",
       "1              -0.851  \n",
       "2              -0.851  \n",
       "3              -0.851  \n",
       "4              -0.851  \n",
       "..                ...  \n",
       "495            -0.851  \n",
       "496            -0.851  \n",
       "497            -0.851  \n",
       "498            -0.851  \n",
       "499            -0.851  \n",
       "\n",
       "[30000 rows x 15 columns]"
      ]
     },
     "execution_count": 5,
     "metadata": {},
     "output_type": "execute_result"
    }
   ],
   "source": [
    "main_df"
   ]
  },
  {
   "cell_type": "code",
   "execution_count": 13,
   "id": "83b21d7c",
   "metadata": {},
   "outputs": [
    {
     "data": {
      "application/vnd.plotly.v1+json": {
       "config": {
        "plotlyServerURL": "https://plot.ly"
       },
       "data": [
        {
         "hovertemplate": "player_name=Johnson, Dustin<br>event_completed=%{x}<br>dg_index=%{y}<extra></extra>",
         "legendgroup": "Johnson, Dustin",
         "line": {
          "color": "#636efa",
          "dash": "solid"
         },
         "marker": {
          "symbol": "circle"
         },
         "mode": "lines",
         "name": "Johnson, Dustin",
         "orientation": "v",
         "showlegend": true,
         "type": "scatter",
         "x": [
          "2021-01-10T00:00:00",
          "2021-01-17T00:00:00",
          "2021-01-24T00:00:00",
          "2021-01-31T00:00:00",
          "2021-02-07T00:00:00",
          "2021-02-14T00:00:00",
          "2021-02-21T00:00:00",
          "2021-02-28T00:00:00",
          "2021-03-07T00:00:00",
          "2021-03-14T00:00:00",
          "2021-03-21T00:00:00",
          "2021-03-28T00:00:00",
          "2021-04-04T00:00:00",
          "2021-04-11T00:00:00",
          "2021-04-18T00:00:00",
          "2021-04-25T00:00:00",
          "2021-05-02T00:00:00",
          "2021-05-09T00:00:00",
          "2021-05-16T00:00:00",
          "2021-05-23T00:00:00",
          "2021-05-30T00:00:00",
          "2021-06-06T00:00:00",
          "2021-06-13T00:00:00",
          "2021-06-20T00:00:00",
          "2021-06-27T00:00:00",
          "2021-07-04T00:00:00",
          "2021-07-11T00:00:00",
          "2021-07-18T00:00:00",
          "2021-07-25T00:00:00",
          "2021-08-01T00:00:00",
          "2021-08-08T00:00:00",
          "2021-08-15T00:00:00",
          "2021-08-22T00:00:00",
          "2021-08-29T00:00:00",
          "2021-09-05T00:00:00",
          "2021-09-12T00:00:00",
          "2021-09-19T00:00:00",
          "2021-09-26T00:00:00",
          "2021-10-03T00:00:00",
          "2021-10-10T00:00:00",
          "2021-10-17T00:00:00",
          "2021-10-24T00:00:00",
          "2021-10-31T00:00:00",
          "2021-11-07T00:00:00",
          "2021-11-14T00:00:00",
          "2021-11-21T00:00:00",
          "2021-11-28T00:00:00",
          "2021-12-05T00:00:00",
          "2021-12-13T00:00:00",
          "2021-12-20T00:00:00",
          "2021-12-27T00:00:00",
          "2022-01-02T00:00:00",
          "2022-01-09T00:00:00",
          "2022-01-16T00:00:00",
          "2022-01-23T00:00:00",
          "2022-01-29T00:00:00",
          "2022-02-06T00:00:00",
          "2022-02-13T00:00:00",
          "2022-02-20T00:00:00",
          "2022-02-27T00:00:00"
         ],
         "xaxis": "x",
         "y": [
          2.35391758028175,
          2.4307780557721297,
          2.40783240505622,
          2.38488675434032,
          2.3619411036244102,
          2.4847988801585,
          2.46149632917263,
          2.4458187453882303,
          2.12194757244796,
          2.10044532328509,
          1.99598847315863,
          1.97507558550482,
          2.06359213785582,
          2.0423635693718403,
          1.93001247195178,
          1.93146220978794,
          1.91085218761047,
          1.7841292497825398,
          1.76420861003483,
          1.74428797028712,
          1.69760675814515,
          1.67809092693118,
          1.65857509571722,
          1.6874745013871002,
          1.70483508064474,
          1.66286459656561,
          1.6435114362653702,
          1.6241582759651203,
          1.71845621716932,
          1.5842988651544698,
          1.56522591313654,
          1.67349593611361,
          1.579449753618,
          1.71222285716934,
          1.75409487432224,
          1.7342283724689098,
          1.71435260971112,
          1.6945729288371398,
          1.65501356708919,
          1.6397347112879102,
          1.62048939255244,
          1.60124407381697,
          1.58189891622953,
          1.56254250919399,
          1.54329719045852,
          1.5240518717230502,
          1.50480655298758,
          1.48556123425211,
          1.46631591551665,
          1.44707059678118,
          1.42782527804571,
          1.408455607,
          1.38921028800006,
          1.36996496926459,
          1.61851756890134,
          1.59664876650179,
          1.5776039249245102,
          1.48101086646002,
          1.46236765777876,
          1.44386322466643
         ],
         "yaxis": "y"
        },
        {
         "hovertemplate": "player_name=Rahm, Jon<br>event_completed=%{x}<br>dg_index=%{y}<extra></extra>",
         "legendgroup": "Rahm, Jon",
         "line": {
          "color": "#EF553B",
          "dash": "solid"
         },
         "marker": {
          "symbol": "circle"
         },
         "mode": "lines",
         "name": "Rahm, Jon",
         "orientation": "v",
         "showlegend": true,
         "type": "scatter",
         "x": [
          "2021-01-10T00:00:00",
          "2021-01-17T00:00:00",
          "2021-01-24T00:00:00",
          "2021-01-31T00:00:00",
          "2021-02-07T00:00:00",
          "2021-02-14T00:00:00",
          "2021-02-21T00:00:00",
          "2021-02-28T00:00:00",
          "2021-03-07T00:00:00",
          "2021-03-14T00:00:00",
          "2021-03-21T00:00:00",
          "2021-03-28T00:00:00",
          "2021-04-04T00:00:00",
          "2021-04-11T00:00:00",
          "2021-04-18T00:00:00",
          "2021-04-25T00:00:00",
          "2021-05-02T00:00:00",
          "2021-05-09T00:00:00",
          "2021-05-16T00:00:00",
          "2021-05-23T00:00:00",
          "2021-05-30T00:00:00",
          "2021-06-06T00:00:00",
          "2021-06-13T00:00:00",
          "2021-06-20T00:00:00",
          "2021-06-27T00:00:00",
          "2021-07-04T00:00:00",
          "2021-07-11T00:00:00",
          "2021-07-18T00:00:00",
          "2021-07-25T00:00:00",
          "2021-08-01T00:00:00",
          "2021-08-08T00:00:00",
          "2021-08-15T00:00:00",
          "2021-08-22T00:00:00",
          "2021-08-29T00:00:00",
          "2021-09-05T00:00:00",
          "2021-09-12T00:00:00",
          "2021-09-19T00:00:00",
          "2021-09-26T00:00:00",
          "2021-10-03T00:00:00",
          "2021-10-10T00:00:00",
          "2021-10-17T00:00:00",
          "2021-10-24T00:00:00",
          "2021-10-31T00:00:00",
          "2021-11-07T00:00:00",
          "2021-11-14T00:00:00",
          "2021-11-21T00:00:00",
          "2021-11-28T00:00:00",
          "2021-12-05T00:00:00",
          "2021-12-13T00:00:00",
          "2021-12-20T00:00:00",
          "2021-12-27T00:00:00",
          "2022-01-02T00:00:00",
          "2022-01-09T00:00:00",
          "2022-01-16T00:00:00",
          "2022-01-23T00:00:00",
          "2022-01-29T00:00:00",
          "2022-02-06T00:00:00",
          "2022-02-13T00:00:00",
          "2022-02-20T00:00:00",
          "2022-02-27T00:00:00"
         ],
         "xaxis": "x",
         "y": [
          2.21569347628394,
          2.34760090260255,
          2.3250451196961697,
          2.3024893367898,
          2.33809163090009,
          2.27676326226702,
          2.25453871766911,
          2.28875275339382,
          2.18175779990794,
          2.1599775028668,
          2.20947151518341,
          2.18756191631201,
          2.18873958530988,
          2.1669273693474,
          2.26660800793871,
          2.24443195881318,
          2.2222559096876497,
          2.20007986056211,
          2.12348770076271,
          1.96730726253225,
          2.00904168643943,
          1.98807085069417,
          2.38001972558182,
          2.3572912684998903,
          2.51429314153968,
          2.49091371637549,
          2.46758001794845,
          2.46952629635946,
          2.54932916474872,
          2.52583140178287,
          2.50228465533812,
          2.4787333522906803,
          2.65303022124902,
          2.63131785690423,
          2.71461666903538,
          2.69029632681031,
          2.55401508520097,
          2.5304947956837403,
          2.3433677912072004,
          2.067820968186,
          2.0465023933498503,
          2.02525588048646,
          2.00400936762308,
          1.9826834018153603,
          1.96143688895197,
          1.94019037608859,
          1.9189438632252,
          1.89769735036182,
          1.87645083749843,
          1.85520432463505,
          1.83395781177166,
          2.257751507,
          2.23561614458204,
          2.17489213628844,
          2.21172720795763,
          2.1897177866823,
          2.23383766270321,
          2.18081388247508,
          2.15896263671604,
          2.15558302607523
         ],
         "yaxis": "y"
        },
        {
         "hovertemplate": "player_name=Scheffler, Scottie<br>event_completed=%{x}<br>dg_index=%{y}<extra></extra>",
         "legendgroup": "Scheffler, Scottie",
         "line": {
          "color": "#00cc96",
          "dash": "solid"
         },
         "marker": {
          "symbol": "circle"
         },
         "mode": "lines",
         "name": "Scheffler, Scottie",
         "orientation": "v",
         "showlegend": true,
         "type": "scatter",
         "x": [
          "2021-01-10T00:00:00",
          "2021-01-17T00:00:00",
          "2021-01-24T00:00:00",
          "2021-01-31T00:00:00",
          "2021-02-07T00:00:00",
          "2021-02-14T00:00:00",
          "2021-02-21T00:00:00",
          "2021-02-28T00:00:00",
          "2021-03-07T00:00:00",
          "2021-03-14T00:00:00",
          "2021-03-21T00:00:00",
          "2021-03-28T00:00:00",
          "2021-04-04T00:00:00",
          "2021-04-11T00:00:00",
          "2021-04-18T00:00:00",
          "2021-04-25T00:00:00",
          "2021-05-02T00:00:00",
          "2021-05-09T00:00:00",
          "2021-05-16T00:00:00",
          "2021-05-23T00:00:00",
          "2021-05-30T00:00:00",
          "2021-06-06T00:00:00",
          "2021-06-13T00:00:00",
          "2021-06-20T00:00:00",
          "2021-06-27T00:00:00",
          "2021-07-04T00:00:00",
          "2021-07-11T00:00:00",
          "2021-07-18T00:00:00",
          "2021-07-25T00:00:00",
          "2021-08-01T00:00:00",
          "2021-08-08T00:00:00",
          "2021-08-15T00:00:00",
          "2021-08-22T00:00:00",
          "2021-08-29T00:00:00",
          "2021-09-05T00:00:00",
          "2021-09-12T00:00:00",
          "2021-09-19T00:00:00",
          "2021-09-26T00:00:00",
          "2021-10-03T00:00:00",
          "2021-10-10T00:00:00",
          "2021-10-17T00:00:00",
          "2021-10-24T00:00:00",
          "2021-10-31T00:00:00",
          "2021-11-07T00:00:00",
          "2021-11-14T00:00:00",
          "2021-11-21T00:00:00",
          "2021-11-28T00:00:00",
          "2021-12-05T00:00:00",
          "2021-12-13T00:00:00",
          "2021-12-20T00:00:00",
          "2021-12-27T00:00:00",
          "2022-01-02T00:00:00",
          "2022-01-09T00:00:00",
          "2022-01-16T00:00:00",
          "2022-01-23T00:00:00",
          "2022-01-29T00:00:00",
          "2022-02-06T00:00:00",
          "2022-02-13T00:00:00",
          "2022-02-20T00:00:00",
          "2022-02-27T00:00:00"
         ],
         "xaxis": "x",
         "y": [
          1.2180432350014,
          1.34860378271265,
          1.33072072528682,
          1.30634842076111,
          1.23474136666387,
          1.3459903068643,
          1.32811947120153,
          1.3546489652364495,
          1.56337220253468,
          1.5444008086089098,
          1.5287435366303,
          1.51001777216197,
          1.54602153949306,
          1.38081616337454,
          1.42314150978396,
          1.4049109135413602,
          1.38668031729876,
          1.36958716595944,
          1.35160710647448,
          1.2422764176108798,
          1.35455807741157,
          1.22165161577046,
          1.49187412790732,
          1.4732706377501,
          1.5998794558393,
          1.4902631228998602,
          1.4716947775221003,
          1.48570833344926,
          1.55824135946369,
          1.53937982293761,
          1.52046896169818,
          1.59590152450511,
          1.5412138003128002,
          1.55486445878819,
          1.4699940411609298,
          1.4514945204616898,
          1.43304572038792,
          1.41459692031415,
          1.32310066884843,
          1.26663374696761,
          1.24907290522813,
          1.23157470614115,
          1.3772503652655,
          1.51771851606159,
          1.35128273037057,
          1.33338863739807,
          1.47596550142992,
          1.4574885358060905,
          1.43901157018226,
          1.42053460455844,
          1.4020576389346102,
          1.383526191,
          1.3650492251491202,
          1.4293602023920802,
          1.45617421154019,
          1.4377227429094,
          1.6450171909311,
          1.75374806451264,
          1.7339221647892902,
          1.9278833141232696
         ],
         "yaxis": "y"
        }
       ],
       "layout": {
        "legend": {
         "title": {
          "text": "player_name"
         },
         "tracegroupgap": 0
        },
        "margin": {
         "t": 60
        },
        "template": {
         "data": {
          "bar": [
           {
            "error_x": {
             "color": "#2a3f5f"
            },
            "error_y": {
             "color": "#2a3f5f"
            },
            "marker": {
             "line": {
              "color": "#E5ECF6",
              "width": 0.5
             },
             "pattern": {
              "fillmode": "overlay",
              "size": 10,
              "solidity": 0.2
             }
            },
            "type": "bar"
           }
          ],
          "barpolar": [
           {
            "marker": {
             "line": {
              "color": "#E5ECF6",
              "width": 0.5
             },
             "pattern": {
              "fillmode": "overlay",
              "size": 10,
              "solidity": 0.2
             }
            },
            "type": "barpolar"
           }
          ],
          "carpet": [
           {
            "aaxis": {
             "endlinecolor": "#2a3f5f",
             "gridcolor": "white",
             "linecolor": "white",
             "minorgridcolor": "white",
             "startlinecolor": "#2a3f5f"
            },
            "baxis": {
             "endlinecolor": "#2a3f5f",
             "gridcolor": "white",
             "linecolor": "white",
             "minorgridcolor": "white",
             "startlinecolor": "#2a3f5f"
            },
            "type": "carpet"
           }
          ],
          "choropleth": [
           {
            "colorbar": {
             "outlinewidth": 0,
             "ticks": ""
            },
            "type": "choropleth"
           }
          ],
          "contour": [
           {
            "colorbar": {
             "outlinewidth": 0,
             "ticks": ""
            },
            "colorscale": [
             [
              0,
              "#0d0887"
             ],
             [
              0.1111111111111111,
              "#46039f"
             ],
             [
              0.2222222222222222,
              "#7201a8"
             ],
             [
              0.3333333333333333,
              "#9c179e"
             ],
             [
              0.4444444444444444,
              "#bd3786"
             ],
             [
              0.5555555555555556,
              "#d8576b"
             ],
             [
              0.6666666666666666,
              "#ed7953"
             ],
             [
              0.7777777777777778,
              "#fb9f3a"
             ],
             [
              0.8888888888888888,
              "#fdca26"
             ],
             [
              1,
              "#f0f921"
             ]
            ],
            "type": "contour"
           }
          ],
          "contourcarpet": [
           {
            "colorbar": {
             "outlinewidth": 0,
             "ticks": ""
            },
            "type": "contourcarpet"
           }
          ],
          "heatmap": [
           {
            "colorbar": {
             "outlinewidth": 0,
             "ticks": ""
            },
            "colorscale": [
             [
              0,
              "#0d0887"
             ],
             [
              0.1111111111111111,
              "#46039f"
             ],
             [
              0.2222222222222222,
              "#7201a8"
             ],
             [
              0.3333333333333333,
              "#9c179e"
             ],
             [
              0.4444444444444444,
              "#bd3786"
             ],
             [
              0.5555555555555556,
              "#d8576b"
             ],
             [
              0.6666666666666666,
              "#ed7953"
             ],
             [
              0.7777777777777778,
              "#fb9f3a"
             ],
             [
              0.8888888888888888,
              "#fdca26"
             ],
             [
              1,
              "#f0f921"
             ]
            ],
            "type": "heatmap"
           }
          ],
          "heatmapgl": [
           {
            "colorbar": {
             "outlinewidth": 0,
             "ticks": ""
            },
            "colorscale": [
             [
              0,
              "#0d0887"
             ],
             [
              0.1111111111111111,
              "#46039f"
             ],
             [
              0.2222222222222222,
              "#7201a8"
             ],
             [
              0.3333333333333333,
              "#9c179e"
             ],
             [
              0.4444444444444444,
              "#bd3786"
             ],
             [
              0.5555555555555556,
              "#d8576b"
             ],
             [
              0.6666666666666666,
              "#ed7953"
             ],
             [
              0.7777777777777778,
              "#fb9f3a"
             ],
             [
              0.8888888888888888,
              "#fdca26"
             ],
             [
              1,
              "#f0f921"
             ]
            ],
            "type": "heatmapgl"
           }
          ],
          "histogram": [
           {
            "marker": {
             "pattern": {
              "fillmode": "overlay",
              "size": 10,
              "solidity": 0.2
             }
            },
            "type": "histogram"
           }
          ],
          "histogram2d": [
           {
            "colorbar": {
             "outlinewidth": 0,
             "ticks": ""
            },
            "colorscale": [
             [
              0,
              "#0d0887"
             ],
             [
              0.1111111111111111,
              "#46039f"
             ],
             [
              0.2222222222222222,
              "#7201a8"
             ],
             [
              0.3333333333333333,
              "#9c179e"
             ],
             [
              0.4444444444444444,
              "#bd3786"
             ],
             [
              0.5555555555555556,
              "#d8576b"
             ],
             [
              0.6666666666666666,
              "#ed7953"
             ],
             [
              0.7777777777777778,
              "#fb9f3a"
             ],
             [
              0.8888888888888888,
              "#fdca26"
             ],
             [
              1,
              "#f0f921"
             ]
            ],
            "type": "histogram2d"
           }
          ],
          "histogram2dcontour": [
           {
            "colorbar": {
             "outlinewidth": 0,
             "ticks": ""
            },
            "colorscale": [
             [
              0,
              "#0d0887"
             ],
             [
              0.1111111111111111,
              "#46039f"
             ],
             [
              0.2222222222222222,
              "#7201a8"
             ],
             [
              0.3333333333333333,
              "#9c179e"
             ],
             [
              0.4444444444444444,
              "#bd3786"
             ],
             [
              0.5555555555555556,
              "#d8576b"
             ],
             [
              0.6666666666666666,
              "#ed7953"
             ],
             [
              0.7777777777777778,
              "#fb9f3a"
             ],
             [
              0.8888888888888888,
              "#fdca26"
             ],
             [
              1,
              "#f0f921"
             ]
            ],
            "type": "histogram2dcontour"
           }
          ],
          "mesh3d": [
           {
            "colorbar": {
             "outlinewidth": 0,
             "ticks": ""
            },
            "type": "mesh3d"
           }
          ],
          "parcoords": [
           {
            "line": {
             "colorbar": {
              "outlinewidth": 0,
              "ticks": ""
             }
            },
            "type": "parcoords"
           }
          ],
          "pie": [
           {
            "automargin": true,
            "type": "pie"
           }
          ],
          "scatter": [
           {
            "fillpattern": {
             "fillmode": "overlay",
             "size": 10,
             "solidity": 0.2
            },
            "type": "scatter"
           }
          ],
          "scatter3d": [
           {
            "line": {
             "colorbar": {
              "outlinewidth": 0,
              "ticks": ""
             }
            },
            "marker": {
             "colorbar": {
              "outlinewidth": 0,
              "ticks": ""
             }
            },
            "type": "scatter3d"
           }
          ],
          "scattercarpet": [
           {
            "marker": {
             "colorbar": {
              "outlinewidth": 0,
              "ticks": ""
             }
            },
            "type": "scattercarpet"
           }
          ],
          "scattergeo": [
           {
            "marker": {
             "colorbar": {
              "outlinewidth": 0,
              "ticks": ""
             }
            },
            "type": "scattergeo"
           }
          ],
          "scattergl": [
           {
            "marker": {
             "colorbar": {
              "outlinewidth": 0,
              "ticks": ""
             }
            },
            "type": "scattergl"
           }
          ],
          "scattermapbox": [
           {
            "marker": {
             "colorbar": {
              "outlinewidth": 0,
              "ticks": ""
             }
            },
            "type": "scattermapbox"
           }
          ],
          "scatterpolar": [
           {
            "marker": {
             "colorbar": {
              "outlinewidth": 0,
              "ticks": ""
             }
            },
            "type": "scatterpolar"
           }
          ],
          "scatterpolargl": [
           {
            "marker": {
             "colorbar": {
              "outlinewidth": 0,
              "ticks": ""
             }
            },
            "type": "scatterpolargl"
           }
          ],
          "scatterternary": [
           {
            "marker": {
             "colorbar": {
              "outlinewidth": 0,
              "ticks": ""
             }
            },
            "type": "scatterternary"
           }
          ],
          "surface": [
           {
            "colorbar": {
             "outlinewidth": 0,
             "ticks": ""
            },
            "colorscale": [
             [
              0,
              "#0d0887"
             ],
             [
              0.1111111111111111,
              "#46039f"
             ],
             [
              0.2222222222222222,
              "#7201a8"
             ],
             [
              0.3333333333333333,
              "#9c179e"
             ],
             [
              0.4444444444444444,
              "#bd3786"
             ],
             [
              0.5555555555555556,
              "#d8576b"
             ],
             [
              0.6666666666666666,
              "#ed7953"
             ],
             [
              0.7777777777777778,
              "#fb9f3a"
             ],
             [
              0.8888888888888888,
              "#fdca26"
             ],
             [
              1,
              "#f0f921"
             ]
            ],
            "type": "surface"
           }
          ],
          "table": [
           {
            "cells": {
             "fill": {
              "color": "#EBF0F8"
             },
             "line": {
              "color": "white"
             }
            },
            "header": {
             "fill": {
              "color": "#C8D4E3"
             },
             "line": {
              "color": "white"
             }
            },
            "type": "table"
           }
          ]
         },
         "layout": {
          "annotationdefaults": {
           "arrowcolor": "#2a3f5f",
           "arrowhead": 0,
           "arrowwidth": 1
          },
          "autotypenumbers": "strict",
          "coloraxis": {
           "colorbar": {
            "outlinewidth": 0,
            "ticks": ""
           }
          },
          "colorscale": {
           "diverging": [
            [
             0,
             "#8e0152"
            ],
            [
             0.1,
             "#c51b7d"
            ],
            [
             0.2,
             "#de77ae"
            ],
            [
             0.3,
             "#f1b6da"
            ],
            [
             0.4,
             "#fde0ef"
            ],
            [
             0.5,
             "#f7f7f7"
            ],
            [
             0.6,
             "#e6f5d0"
            ],
            [
             0.7,
             "#b8e186"
            ],
            [
             0.8,
             "#7fbc41"
            ],
            [
             0.9,
             "#4d9221"
            ],
            [
             1,
             "#276419"
            ]
           ],
           "sequential": [
            [
             0,
             "#0d0887"
            ],
            [
             0.1111111111111111,
             "#46039f"
            ],
            [
             0.2222222222222222,
             "#7201a8"
            ],
            [
             0.3333333333333333,
             "#9c179e"
            ],
            [
             0.4444444444444444,
             "#bd3786"
            ],
            [
             0.5555555555555556,
             "#d8576b"
            ],
            [
             0.6666666666666666,
             "#ed7953"
            ],
            [
             0.7777777777777778,
             "#fb9f3a"
            ],
            [
             0.8888888888888888,
             "#fdca26"
            ],
            [
             1,
             "#f0f921"
            ]
           ],
           "sequentialminus": [
            [
             0,
             "#0d0887"
            ],
            [
             0.1111111111111111,
             "#46039f"
            ],
            [
             0.2222222222222222,
             "#7201a8"
            ],
            [
             0.3333333333333333,
             "#9c179e"
            ],
            [
             0.4444444444444444,
             "#bd3786"
            ],
            [
             0.5555555555555556,
             "#d8576b"
            ],
            [
             0.6666666666666666,
             "#ed7953"
            ],
            [
             0.7777777777777778,
             "#fb9f3a"
            ],
            [
             0.8888888888888888,
             "#fdca26"
            ],
            [
             1,
             "#f0f921"
            ]
           ]
          },
          "colorway": [
           "#636efa",
           "#EF553B",
           "#00cc96",
           "#ab63fa",
           "#FFA15A",
           "#19d3f3",
           "#FF6692",
           "#B6E880",
           "#FF97FF",
           "#FECB52"
          ],
          "font": {
           "color": "#2a3f5f"
          },
          "geo": {
           "bgcolor": "white",
           "lakecolor": "white",
           "landcolor": "#E5ECF6",
           "showlakes": true,
           "showland": true,
           "subunitcolor": "white"
          },
          "hoverlabel": {
           "align": "left"
          },
          "hovermode": "closest",
          "mapbox": {
           "style": "light"
          },
          "paper_bgcolor": "white",
          "plot_bgcolor": "#E5ECF6",
          "polar": {
           "angularaxis": {
            "gridcolor": "white",
            "linecolor": "white",
            "ticks": ""
           },
           "bgcolor": "#E5ECF6",
           "radialaxis": {
            "gridcolor": "white",
            "linecolor": "white",
            "ticks": ""
           }
          },
          "scene": {
           "xaxis": {
            "backgroundcolor": "#E5ECF6",
            "gridcolor": "white",
            "gridwidth": 2,
            "linecolor": "white",
            "showbackground": true,
            "ticks": "",
            "zerolinecolor": "white"
           },
           "yaxis": {
            "backgroundcolor": "#E5ECF6",
            "gridcolor": "white",
            "gridwidth": 2,
            "linecolor": "white",
            "showbackground": true,
            "ticks": "",
            "zerolinecolor": "white"
           },
           "zaxis": {
            "backgroundcolor": "#E5ECF6",
            "gridcolor": "white",
            "gridwidth": 2,
            "linecolor": "white",
            "showbackground": true,
            "ticks": "",
            "zerolinecolor": "white"
           }
          },
          "shapedefaults": {
           "line": {
            "color": "#2a3f5f"
           }
          },
          "ternary": {
           "aaxis": {
            "gridcolor": "white",
            "linecolor": "white",
            "ticks": ""
           },
           "baxis": {
            "gridcolor": "white",
            "linecolor": "white",
            "ticks": ""
           },
           "bgcolor": "#E5ECF6",
           "caxis": {
            "gridcolor": "white",
            "linecolor": "white",
            "ticks": ""
           }
          },
          "title": {
           "x": 0.05
          },
          "xaxis": {
           "automargin": true,
           "gridcolor": "white",
           "linecolor": "white",
           "ticks": "",
           "title": {
            "standoff": 15
           },
           "zerolinecolor": "white",
           "zerolinewidth": 2
          },
          "yaxis": {
           "automargin": true,
           "gridcolor": "white",
           "linecolor": "white",
           "ticks": "",
           "title": {
            "standoff": 15
           },
           "zerolinecolor": "white",
           "zerolinewidth": 2
          }
         }
        },
        "xaxis": {
         "anchor": "y",
         "domain": [
          0,
          1
         ],
         "title": {
          "text": "event_completed"
         }
        },
        "yaxis": {
         "anchor": "x",
         "domain": [
          0,
          1
         ],
         "title": {
          "text": "dg_index"
         }
        }
       }
      },
      "text/html": [
       "<div>                            <div id=\"af8d817c-ec6a-4cd2-9b9a-c53f45db0b86\" class=\"plotly-graph-div\" style=\"height:525px; width:100%;\"></div>            <script type=\"text/javascript\">                require([\"plotly\"], function(Plotly) {                    window.PLOTLYENV=window.PLOTLYENV || {};                                    if (document.getElementById(\"af8d817c-ec6a-4cd2-9b9a-c53f45db0b86\")) {                    Plotly.newPlot(                        \"af8d817c-ec6a-4cd2-9b9a-c53f45db0b86\",                        [{\"hovertemplate\":\"player_name=Johnson, Dustin<br>event_completed=%{x}<br>dg_index=%{y}<extra></extra>\",\"legendgroup\":\"Johnson, Dustin\",\"line\":{\"color\":\"#636efa\",\"dash\":\"solid\"},\"marker\":{\"symbol\":\"circle\"},\"mode\":\"lines\",\"name\":\"Johnson, Dustin\",\"orientation\":\"v\",\"showlegend\":true,\"x\":[\"2021-01-10T00:00:00\",\"2021-01-17T00:00:00\",\"2021-01-24T00:00:00\",\"2021-01-31T00:00:00\",\"2021-02-07T00:00:00\",\"2021-02-14T00:00:00\",\"2021-02-21T00:00:00\",\"2021-02-28T00:00:00\",\"2021-03-07T00:00:00\",\"2021-03-14T00:00:00\",\"2021-03-21T00:00:00\",\"2021-03-28T00:00:00\",\"2021-04-04T00:00:00\",\"2021-04-11T00:00:00\",\"2021-04-18T00:00:00\",\"2021-04-25T00:00:00\",\"2021-05-02T00:00:00\",\"2021-05-09T00:00:00\",\"2021-05-16T00:00:00\",\"2021-05-23T00:00:00\",\"2021-05-30T00:00:00\",\"2021-06-06T00:00:00\",\"2021-06-13T00:00:00\",\"2021-06-20T00:00:00\",\"2021-06-27T00:00:00\",\"2021-07-04T00:00:00\",\"2021-07-11T00:00:00\",\"2021-07-18T00:00:00\",\"2021-07-25T00:00:00\",\"2021-08-01T00:00:00\",\"2021-08-08T00:00:00\",\"2021-08-15T00:00:00\",\"2021-08-22T00:00:00\",\"2021-08-29T00:00:00\",\"2021-09-05T00:00:00\",\"2021-09-12T00:00:00\",\"2021-09-19T00:00:00\",\"2021-09-26T00:00:00\",\"2021-10-03T00:00:00\",\"2021-10-10T00:00:00\",\"2021-10-17T00:00:00\",\"2021-10-24T00:00:00\",\"2021-10-31T00:00:00\",\"2021-11-07T00:00:00\",\"2021-11-14T00:00:00\",\"2021-11-21T00:00:00\",\"2021-11-28T00:00:00\",\"2021-12-05T00:00:00\",\"2021-12-13T00:00:00\",\"2021-12-20T00:00:00\",\"2021-12-27T00:00:00\",\"2022-01-02T00:00:00\",\"2022-01-09T00:00:00\",\"2022-01-16T00:00:00\",\"2022-01-23T00:00:00\",\"2022-01-29T00:00:00\",\"2022-02-06T00:00:00\",\"2022-02-13T00:00:00\",\"2022-02-20T00:00:00\",\"2022-02-27T00:00:00\"],\"xaxis\":\"x\",\"y\":[2.35391758028175,2.4307780557721297,2.40783240505622,2.38488675434032,2.3619411036244102,2.4847988801585,2.46149632917263,2.4458187453882303,2.12194757244796,2.10044532328509,1.99598847315863,1.97507558550482,2.06359213785582,2.0423635693718403,1.93001247195178,1.93146220978794,1.91085218761047,1.7841292497825398,1.76420861003483,1.74428797028712,1.69760675814515,1.67809092693118,1.65857509571722,1.6874745013871002,1.70483508064474,1.66286459656561,1.6435114362653702,1.6241582759651203,1.71845621716932,1.5842988651544698,1.56522591313654,1.67349593611361,1.579449753618,1.71222285716934,1.75409487432224,1.7342283724689098,1.71435260971112,1.6945729288371398,1.65501356708919,1.6397347112879102,1.62048939255244,1.60124407381697,1.58189891622953,1.56254250919399,1.54329719045852,1.5240518717230502,1.50480655298758,1.48556123425211,1.46631591551665,1.44707059678118,1.42782527804571,1.408455607,1.38921028800006,1.36996496926459,1.61851756890134,1.59664876650179,1.5776039249245102,1.48101086646002,1.46236765777876,1.44386322466643],\"yaxis\":\"y\",\"type\":\"scatter\"},{\"hovertemplate\":\"player_name=Rahm, Jon<br>event_completed=%{x}<br>dg_index=%{y}<extra></extra>\",\"legendgroup\":\"Rahm, Jon\",\"line\":{\"color\":\"#EF553B\",\"dash\":\"solid\"},\"marker\":{\"symbol\":\"circle\"},\"mode\":\"lines\",\"name\":\"Rahm, Jon\",\"orientation\":\"v\",\"showlegend\":true,\"x\":[\"2021-01-10T00:00:00\",\"2021-01-17T00:00:00\",\"2021-01-24T00:00:00\",\"2021-01-31T00:00:00\",\"2021-02-07T00:00:00\",\"2021-02-14T00:00:00\",\"2021-02-21T00:00:00\",\"2021-02-28T00:00:00\",\"2021-03-07T00:00:00\",\"2021-03-14T00:00:00\",\"2021-03-21T00:00:00\",\"2021-03-28T00:00:00\",\"2021-04-04T00:00:00\",\"2021-04-11T00:00:00\",\"2021-04-18T00:00:00\",\"2021-04-25T00:00:00\",\"2021-05-02T00:00:00\",\"2021-05-09T00:00:00\",\"2021-05-16T00:00:00\",\"2021-05-23T00:00:00\",\"2021-05-30T00:00:00\",\"2021-06-06T00:00:00\",\"2021-06-13T00:00:00\",\"2021-06-20T00:00:00\",\"2021-06-27T00:00:00\",\"2021-07-04T00:00:00\",\"2021-07-11T00:00:00\",\"2021-07-18T00:00:00\",\"2021-07-25T00:00:00\",\"2021-08-01T00:00:00\",\"2021-08-08T00:00:00\",\"2021-08-15T00:00:00\",\"2021-08-22T00:00:00\",\"2021-08-29T00:00:00\",\"2021-09-05T00:00:00\",\"2021-09-12T00:00:00\",\"2021-09-19T00:00:00\",\"2021-09-26T00:00:00\",\"2021-10-03T00:00:00\",\"2021-10-10T00:00:00\",\"2021-10-17T00:00:00\",\"2021-10-24T00:00:00\",\"2021-10-31T00:00:00\",\"2021-11-07T00:00:00\",\"2021-11-14T00:00:00\",\"2021-11-21T00:00:00\",\"2021-11-28T00:00:00\",\"2021-12-05T00:00:00\",\"2021-12-13T00:00:00\",\"2021-12-20T00:00:00\",\"2021-12-27T00:00:00\",\"2022-01-02T00:00:00\",\"2022-01-09T00:00:00\",\"2022-01-16T00:00:00\",\"2022-01-23T00:00:00\",\"2022-01-29T00:00:00\",\"2022-02-06T00:00:00\",\"2022-02-13T00:00:00\",\"2022-02-20T00:00:00\",\"2022-02-27T00:00:00\"],\"xaxis\":\"x\",\"y\":[2.21569347628394,2.34760090260255,2.3250451196961697,2.3024893367898,2.33809163090009,2.27676326226702,2.25453871766911,2.28875275339382,2.18175779990794,2.1599775028668,2.20947151518341,2.18756191631201,2.18873958530988,2.1669273693474,2.26660800793871,2.24443195881318,2.2222559096876497,2.20007986056211,2.12348770076271,1.96730726253225,2.00904168643943,1.98807085069417,2.38001972558182,2.3572912684998903,2.51429314153968,2.49091371637549,2.46758001794845,2.46952629635946,2.54932916474872,2.52583140178287,2.50228465533812,2.4787333522906803,2.65303022124902,2.63131785690423,2.71461666903538,2.69029632681031,2.55401508520097,2.5304947956837403,2.3433677912072004,2.067820968186,2.0465023933498503,2.02525588048646,2.00400936762308,1.9826834018153603,1.96143688895197,1.94019037608859,1.9189438632252,1.89769735036182,1.87645083749843,1.85520432463505,1.83395781177166,2.257751507,2.23561614458204,2.17489213628844,2.21172720795763,2.1897177866823,2.23383766270321,2.18081388247508,2.15896263671604,2.15558302607523],\"yaxis\":\"y\",\"type\":\"scatter\"},{\"hovertemplate\":\"player_name=Scheffler, Scottie<br>event_completed=%{x}<br>dg_index=%{y}<extra></extra>\",\"legendgroup\":\"Scheffler, Scottie\",\"line\":{\"color\":\"#00cc96\",\"dash\":\"solid\"},\"marker\":{\"symbol\":\"circle\"},\"mode\":\"lines\",\"name\":\"Scheffler, Scottie\",\"orientation\":\"v\",\"showlegend\":true,\"x\":[\"2021-01-10T00:00:00\",\"2021-01-17T00:00:00\",\"2021-01-24T00:00:00\",\"2021-01-31T00:00:00\",\"2021-02-07T00:00:00\",\"2021-02-14T00:00:00\",\"2021-02-21T00:00:00\",\"2021-02-28T00:00:00\",\"2021-03-07T00:00:00\",\"2021-03-14T00:00:00\",\"2021-03-21T00:00:00\",\"2021-03-28T00:00:00\",\"2021-04-04T00:00:00\",\"2021-04-11T00:00:00\",\"2021-04-18T00:00:00\",\"2021-04-25T00:00:00\",\"2021-05-02T00:00:00\",\"2021-05-09T00:00:00\",\"2021-05-16T00:00:00\",\"2021-05-23T00:00:00\",\"2021-05-30T00:00:00\",\"2021-06-06T00:00:00\",\"2021-06-13T00:00:00\",\"2021-06-20T00:00:00\",\"2021-06-27T00:00:00\",\"2021-07-04T00:00:00\",\"2021-07-11T00:00:00\",\"2021-07-18T00:00:00\",\"2021-07-25T00:00:00\",\"2021-08-01T00:00:00\",\"2021-08-08T00:00:00\",\"2021-08-15T00:00:00\",\"2021-08-22T00:00:00\",\"2021-08-29T00:00:00\",\"2021-09-05T00:00:00\",\"2021-09-12T00:00:00\",\"2021-09-19T00:00:00\",\"2021-09-26T00:00:00\",\"2021-10-03T00:00:00\",\"2021-10-10T00:00:00\",\"2021-10-17T00:00:00\",\"2021-10-24T00:00:00\",\"2021-10-31T00:00:00\",\"2021-11-07T00:00:00\",\"2021-11-14T00:00:00\",\"2021-11-21T00:00:00\",\"2021-11-28T00:00:00\",\"2021-12-05T00:00:00\",\"2021-12-13T00:00:00\",\"2021-12-20T00:00:00\",\"2021-12-27T00:00:00\",\"2022-01-02T00:00:00\",\"2022-01-09T00:00:00\",\"2022-01-16T00:00:00\",\"2022-01-23T00:00:00\",\"2022-01-29T00:00:00\",\"2022-02-06T00:00:00\",\"2022-02-13T00:00:00\",\"2022-02-20T00:00:00\",\"2022-02-27T00:00:00\"],\"xaxis\":\"x\",\"y\":[1.2180432350014,1.34860378271265,1.33072072528682,1.30634842076111,1.23474136666387,1.3459903068643,1.32811947120153,1.3546489652364495,1.56337220253468,1.5444008086089098,1.5287435366303,1.51001777216197,1.54602153949306,1.38081616337454,1.42314150978396,1.4049109135413602,1.38668031729876,1.36958716595944,1.35160710647448,1.2422764176108798,1.35455807741157,1.22165161577046,1.49187412790732,1.4732706377501,1.5998794558393,1.4902631228998602,1.4716947775221003,1.48570833344926,1.55824135946369,1.53937982293761,1.52046896169818,1.59590152450511,1.5412138003128002,1.55486445878819,1.4699940411609298,1.4514945204616898,1.43304572038792,1.41459692031415,1.32310066884843,1.26663374696761,1.24907290522813,1.23157470614115,1.3772503652655,1.51771851606159,1.35128273037057,1.33338863739807,1.47596550142992,1.4574885358060905,1.43901157018226,1.42053460455844,1.4020576389346102,1.383526191,1.3650492251491202,1.4293602023920802,1.45617421154019,1.4377227429094,1.6450171909311,1.75374806451264,1.7339221647892902,1.9278833141232696],\"yaxis\":\"y\",\"type\":\"scatter\"}],                        {\"template\":{\"data\":{\"histogram2dcontour\":[{\"type\":\"histogram2dcontour\",\"colorbar\":{\"outlinewidth\":0,\"ticks\":\"\"},\"colorscale\":[[0.0,\"#0d0887\"],[0.1111111111111111,\"#46039f\"],[0.2222222222222222,\"#7201a8\"],[0.3333333333333333,\"#9c179e\"],[0.4444444444444444,\"#bd3786\"],[0.5555555555555556,\"#d8576b\"],[0.6666666666666666,\"#ed7953\"],[0.7777777777777778,\"#fb9f3a\"],[0.8888888888888888,\"#fdca26\"],[1.0,\"#f0f921\"]]}],\"choropleth\":[{\"type\":\"choropleth\",\"colorbar\":{\"outlinewidth\":0,\"ticks\":\"\"}}],\"histogram2d\":[{\"type\":\"histogram2d\",\"colorbar\":{\"outlinewidth\":0,\"ticks\":\"\"},\"colorscale\":[[0.0,\"#0d0887\"],[0.1111111111111111,\"#46039f\"],[0.2222222222222222,\"#7201a8\"],[0.3333333333333333,\"#9c179e\"],[0.4444444444444444,\"#bd3786\"],[0.5555555555555556,\"#d8576b\"],[0.6666666666666666,\"#ed7953\"],[0.7777777777777778,\"#fb9f3a\"],[0.8888888888888888,\"#fdca26\"],[1.0,\"#f0f921\"]]}],\"heatmap\":[{\"type\":\"heatmap\",\"colorbar\":{\"outlinewidth\":0,\"ticks\":\"\"},\"colorscale\":[[0.0,\"#0d0887\"],[0.1111111111111111,\"#46039f\"],[0.2222222222222222,\"#7201a8\"],[0.3333333333333333,\"#9c179e\"],[0.4444444444444444,\"#bd3786\"],[0.5555555555555556,\"#d8576b\"],[0.6666666666666666,\"#ed7953\"],[0.7777777777777778,\"#fb9f3a\"],[0.8888888888888888,\"#fdca26\"],[1.0,\"#f0f921\"]]}],\"heatmapgl\":[{\"type\":\"heatmapgl\",\"colorbar\":{\"outlinewidth\":0,\"ticks\":\"\"},\"colorscale\":[[0.0,\"#0d0887\"],[0.1111111111111111,\"#46039f\"],[0.2222222222222222,\"#7201a8\"],[0.3333333333333333,\"#9c179e\"],[0.4444444444444444,\"#bd3786\"],[0.5555555555555556,\"#d8576b\"],[0.6666666666666666,\"#ed7953\"],[0.7777777777777778,\"#fb9f3a\"],[0.8888888888888888,\"#fdca26\"],[1.0,\"#f0f921\"]]}],\"contourcarpet\":[{\"type\":\"contourcarpet\",\"colorbar\":{\"outlinewidth\":0,\"ticks\":\"\"}}],\"contour\":[{\"type\":\"contour\",\"colorbar\":{\"outlinewidth\":0,\"ticks\":\"\"},\"colorscale\":[[0.0,\"#0d0887\"],[0.1111111111111111,\"#46039f\"],[0.2222222222222222,\"#7201a8\"],[0.3333333333333333,\"#9c179e\"],[0.4444444444444444,\"#bd3786\"],[0.5555555555555556,\"#d8576b\"],[0.6666666666666666,\"#ed7953\"],[0.7777777777777778,\"#fb9f3a\"],[0.8888888888888888,\"#fdca26\"],[1.0,\"#f0f921\"]]}],\"surface\":[{\"type\":\"surface\",\"colorbar\":{\"outlinewidth\":0,\"ticks\":\"\"},\"colorscale\":[[0.0,\"#0d0887\"],[0.1111111111111111,\"#46039f\"],[0.2222222222222222,\"#7201a8\"],[0.3333333333333333,\"#9c179e\"],[0.4444444444444444,\"#bd3786\"],[0.5555555555555556,\"#d8576b\"],[0.6666666666666666,\"#ed7953\"],[0.7777777777777778,\"#fb9f3a\"],[0.8888888888888888,\"#fdca26\"],[1.0,\"#f0f921\"]]}],\"mesh3d\":[{\"type\":\"mesh3d\",\"colorbar\":{\"outlinewidth\":0,\"ticks\":\"\"}}],\"scatter\":[{\"fillpattern\":{\"fillmode\":\"overlay\",\"size\":10,\"solidity\":0.2},\"type\":\"scatter\"}],\"parcoords\":[{\"type\":\"parcoords\",\"line\":{\"colorbar\":{\"outlinewidth\":0,\"ticks\":\"\"}}}],\"scatterpolargl\":[{\"type\":\"scatterpolargl\",\"marker\":{\"colorbar\":{\"outlinewidth\":0,\"ticks\":\"\"}}}],\"bar\":[{\"error_x\":{\"color\":\"#2a3f5f\"},\"error_y\":{\"color\":\"#2a3f5f\"},\"marker\":{\"line\":{\"color\":\"#E5ECF6\",\"width\":0.5},\"pattern\":{\"fillmode\":\"overlay\",\"size\":10,\"solidity\":0.2}},\"type\":\"bar\"}],\"scattergeo\":[{\"type\":\"scattergeo\",\"marker\":{\"colorbar\":{\"outlinewidth\":0,\"ticks\":\"\"}}}],\"scatterpolar\":[{\"type\":\"scatterpolar\",\"marker\":{\"colorbar\":{\"outlinewidth\":0,\"ticks\":\"\"}}}],\"histogram\":[{\"marker\":{\"pattern\":{\"fillmode\":\"overlay\",\"size\":10,\"solidity\":0.2}},\"type\":\"histogram\"}],\"scattergl\":[{\"type\":\"scattergl\",\"marker\":{\"colorbar\":{\"outlinewidth\":0,\"ticks\":\"\"}}}],\"scatter3d\":[{\"type\":\"scatter3d\",\"line\":{\"colorbar\":{\"outlinewidth\":0,\"ticks\":\"\"}},\"marker\":{\"colorbar\":{\"outlinewidth\":0,\"ticks\":\"\"}}}],\"scattermapbox\":[{\"type\":\"scattermapbox\",\"marker\":{\"colorbar\":{\"outlinewidth\":0,\"ticks\":\"\"}}}],\"scatterternary\":[{\"type\":\"scatterternary\",\"marker\":{\"colorbar\":{\"outlinewidth\":0,\"ticks\":\"\"}}}],\"scattercarpet\":[{\"type\":\"scattercarpet\",\"marker\":{\"colorbar\":{\"outlinewidth\":0,\"ticks\":\"\"}}}],\"carpet\":[{\"aaxis\":{\"endlinecolor\":\"#2a3f5f\",\"gridcolor\":\"white\",\"linecolor\":\"white\",\"minorgridcolor\":\"white\",\"startlinecolor\":\"#2a3f5f\"},\"baxis\":{\"endlinecolor\":\"#2a3f5f\",\"gridcolor\":\"white\",\"linecolor\":\"white\",\"minorgridcolor\":\"white\",\"startlinecolor\":\"#2a3f5f\"},\"type\":\"carpet\"}],\"table\":[{\"cells\":{\"fill\":{\"color\":\"#EBF0F8\"},\"line\":{\"color\":\"white\"}},\"header\":{\"fill\":{\"color\":\"#C8D4E3\"},\"line\":{\"color\":\"white\"}},\"type\":\"table\"}],\"barpolar\":[{\"marker\":{\"line\":{\"color\":\"#E5ECF6\",\"width\":0.5},\"pattern\":{\"fillmode\":\"overlay\",\"size\":10,\"solidity\":0.2}},\"type\":\"barpolar\"}],\"pie\":[{\"automargin\":true,\"type\":\"pie\"}]},\"layout\":{\"autotypenumbers\":\"strict\",\"colorway\":[\"#636efa\",\"#EF553B\",\"#00cc96\",\"#ab63fa\",\"#FFA15A\",\"#19d3f3\",\"#FF6692\",\"#B6E880\",\"#FF97FF\",\"#FECB52\"],\"font\":{\"color\":\"#2a3f5f\"},\"hovermode\":\"closest\",\"hoverlabel\":{\"align\":\"left\"},\"paper_bgcolor\":\"white\",\"plot_bgcolor\":\"#E5ECF6\",\"polar\":{\"bgcolor\":\"#E5ECF6\",\"angularaxis\":{\"gridcolor\":\"white\",\"linecolor\":\"white\",\"ticks\":\"\"},\"radialaxis\":{\"gridcolor\":\"white\",\"linecolor\":\"white\",\"ticks\":\"\"}},\"ternary\":{\"bgcolor\":\"#E5ECF6\",\"aaxis\":{\"gridcolor\":\"white\",\"linecolor\":\"white\",\"ticks\":\"\"},\"baxis\":{\"gridcolor\":\"white\",\"linecolor\":\"white\",\"ticks\":\"\"},\"caxis\":{\"gridcolor\":\"white\",\"linecolor\":\"white\",\"ticks\":\"\"}},\"coloraxis\":{\"colorbar\":{\"outlinewidth\":0,\"ticks\":\"\"}},\"colorscale\":{\"sequential\":[[0.0,\"#0d0887\"],[0.1111111111111111,\"#46039f\"],[0.2222222222222222,\"#7201a8\"],[0.3333333333333333,\"#9c179e\"],[0.4444444444444444,\"#bd3786\"],[0.5555555555555556,\"#d8576b\"],[0.6666666666666666,\"#ed7953\"],[0.7777777777777778,\"#fb9f3a\"],[0.8888888888888888,\"#fdca26\"],[1.0,\"#f0f921\"]],\"sequentialminus\":[[0.0,\"#0d0887\"],[0.1111111111111111,\"#46039f\"],[0.2222222222222222,\"#7201a8\"],[0.3333333333333333,\"#9c179e\"],[0.4444444444444444,\"#bd3786\"],[0.5555555555555556,\"#d8576b\"],[0.6666666666666666,\"#ed7953\"],[0.7777777777777778,\"#fb9f3a\"],[0.8888888888888888,\"#fdca26\"],[1.0,\"#f0f921\"]],\"diverging\":[[0,\"#8e0152\"],[0.1,\"#c51b7d\"],[0.2,\"#de77ae\"],[0.3,\"#f1b6da\"],[0.4,\"#fde0ef\"],[0.5,\"#f7f7f7\"],[0.6,\"#e6f5d0\"],[0.7,\"#b8e186\"],[0.8,\"#7fbc41\"],[0.9,\"#4d9221\"],[1,\"#276419\"]]},\"xaxis\":{\"gridcolor\":\"white\",\"linecolor\":\"white\",\"ticks\":\"\",\"title\":{\"standoff\":15},\"zerolinecolor\":\"white\",\"automargin\":true,\"zerolinewidth\":2},\"yaxis\":{\"gridcolor\":\"white\",\"linecolor\":\"white\",\"ticks\":\"\",\"title\":{\"standoff\":15},\"zerolinecolor\":\"white\",\"automargin\":true,\"zerolinewidth\":2},\"scene\":{\"xaxis\":{\"backgroundcolor\":\"#E5ECF6\",\"gridcolor\":\"white\",\"linecolor\":\"white\",\"showbackground\":true,\"ticks\":\"\",\"zerolinecolor\":\"white\",\"gridwidth\":2},\"yaxis\":{\"backgroundcolor\":\"#E5ECF6\",\"gridcolor\":\"white\",\"linecolor\":\"white\",\"showbackground\":true,\"ticks\":\"\",\"zerolinecolor\":\"white\",\"gridwidth\":2},\"zaxis\":{\"backgroundcolor\":\"#E5ECF6\",\"gridcolor\":\"white\",\"linecolor\":\"white\",\"showbackground\":true,\"ticks\":\"\",\"zerolinecolor\":\"white\",\"gridwidth\":2}},\"shapedefaults\":{\"line\":{\"color\":\"#2a3f5f\"}},\"annotationdefaults\":{\"arrowcolor\":\"#2a3f5f\",\"arrowhead\":0,\"arrowwidth\":1},\"geo\":{\"bgcolor\":\"white\",\"landcolor\":\"#E5ECF6\",\"subunitcolor\":\"white\",\"showland\":true,\"showlakes\":true,\"lakecolor\":\"white\"},\"title\":{\"x\":0.05},\"mapbox\":{\"style\":\"light\"}}},\"xaxis\":{\"anchor\":\"y\",\"domain\":[0.0,1.0],\"title\":{\"text\":\"event_completed\"}},\"yaxis\":{\"anchor\":\"x\",\"domain\":[0.0,1.0],\"title\":{\"text\":\"dg_index\"}},\"legend\":{\"title\":{\"text\":\"player_name\"},\"tracegroupgap\":0},\"margin\":{\"t\":60}},                        {\"responsive\": true}                    ).then(function(){\n",
       "                            \n",
       "var gd = document.getElementById('af8d817c-ec6a-4cd2-9b9a-c53f45db0b86');\n",
       "var x = new MutationObserver(function (mutations, observer) {{\n",
       "        var display = window.getComputedStyle(gd).display;\n",
       "        if (!display || display === 'none') {{\n",
       "            console.log([gd, 'removed!']);\n",
       "            Plotly.purge(gd);\n",
       "            observer.disconnect();\n",
       "        }}\n",
       "}});\n",
       "\n",
       "// Listen for the removal of the full notebook cells\n",
       "var notebookContainer = gd.closest('#notebook-container');\n",
       "if (notebookContainer) {{\n",
       "    x.observe(notebookContainer, {childList: true});\n",
       "}}\n",
       "\n",
       "// Listen for the clearing of the current output cell\n",
       "var outputEl = gd.closest('.output');\n",
       "if (outputEl) {{\n",
       "    x.observe(outputEl, {childList: true});\n",
       "}}\n",
       "\n",
       "                        })                };                });            </script>        </div>"
      ]
     },
     "metadata": {},
     "output_type": "display_data"
    }
   ],
   "source": [
    "fig = px.line(main_df[(main_df.player_name == 'Johnson, Dustin') | (main_df.player_name=='Rahm, Jon') | (main_df.player_name=='Scheffler, Scottie')],\n",
    "            x='event_completed',\n",
    "            y='dg_index',\n",
    "            color = 'player_name')\n",
    "fig.show()"
   ]
  },
  {
   "cell_type": "code",
   "execution_count": null,
   "id": "c531c4a6",
   "metadata": {},
   "outputs": [],
   "source": [
    "# remove unwanted pipes from tags with .split()\n",
    "\n",
    "def split_tags(tag):\n",
    "    if tag == '[none]': return []\n",
    "    return tag.lower().replace('\"','').split('|')\n",
    "\n",
    "main_df['tags'] = main_df['tags'].apply(split_tags)"
   ]
  },
  {
   "cell_type": "code",
   "execution_count": null,
   "id": "155bf641",
   "metadata": {},
   "outputs": [],
   "source": [
    "# drop uneeded columns\n",
    "\n",
    "main_df.drop(['comments_disabled', 'ratings_disabled'], axis = 1, inplace = True)"
   ]
  },
  {
   "cell_type": "code",
   "execution_count": null,
   "id": "3a90d4e1",
   "metadata": {},
   "outputs": [],
   "source": [
    "#drop uneeded columns\n",
    "\n",
    "main_df.drop(['video_id', 'channelId'], axis = 1, inplace = True)"
   ]
  },
  {
   "cell_type": "code",
   "execution_count": null,
   "id": "29c9bb61",
   "metadata": {},
   "outputs": [],
   "source": [
    "# dataframe for user behaviors (User Engagement Page)\n",
    "\n",
    "engagement_df = main_df[['cat_codes', 'country','channelTitle', 'title', 'view_count', 'comment_count', 'likes', 'dislikes']]\n",
    "engagement_df.head()"
   ]
  },
  {
   "cell_type": "code",
   "execution_count": null,
   "id": "b005ed02",
   "metadata": {},
   "outputs": [],
   "source": []
  }
 ],
 "metadata": {
  "kernelspec": {
   "display_name": "Python 3 (ipykernel)",
   "language": "python",
   "name": "python3"
  },
  "language_info": {
   "codemirror_mode": {
    "name": "ipython",
    "version": 3
   },
   "file_extension": ".py",
   "mimetype": "text/x-python",
   "name": "python",
   "nbconvert_exporter": "python",
   "pygments_lexer": "ipython3",
   "version": "3.9.7"
  }
 },
 "nbformat": 4,
 "nbformat_minor": 5
}
