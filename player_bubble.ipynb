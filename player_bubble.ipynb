{
 "cells": [
  {
   "cell_type": "code",
   "execution_count": null,
   "metadata": {},
   "outputs": [],
   "source": [
    "# send to database\n",
    "# unique.to_sql('final_unique', engine)"
   ]
  },
  {
   "cell_type": "code",
   "execution_count": null,
   "metadata": {
    "scrolled": true
   },
   "outputs": [],
   "source": [
    "stats[(stats.year==2022)].sort_values('event_completed')['event_completed'].unique()"
   ]
  },
  {
   "cell_type": "code",
   "execution_count": 2,
   "metadata": {},
   "outputs": [],
   "source": [
    "import warnings\n",
    "warnings.filterwarnings('ignore')\n",
    "\n",
    "##  IMPORT DEPENDENCIES\n",
    "\n",
    "from matplotlib import pyplot as plt\n",
    "from scipy.stats import linregress\n",
    "import numpy as np\n",
    "import pandas as pd\n",
    "import datetime as dt\n",
    "import plotly.express as px\n",
    "\n",
    "# files\n",
    "\n",
    "file_one = \"..//practice_sources/stats.csv\"\n",
    "file_one_df = pd.read_csv(file_one)\n",
    "file_three = \"..//practice_sources/dg_rankings.csv\"\n",
    "file_three_df = pd.read_csv(file_three)"
   ]
  },
  {
   "cell_type": "code",
   "execution_count": 35,
   "metadata": {},
   "outputs": [],
   "source": [
    "# cleanup 'finish_pos'\n",
    "stats = file_one_df.copy()\n",
    "stats['fin_text'] = pd.to_numeric(stats['fin_text'].str.replace(\"T\",\"\"), errors='coerce')\n",
    "stats.rename(columns={'fin_text':\"finish_pos\"}, inplace=True) \n",
    "\n",
    "# make unique event identifier just in case it becomes handy later (concat year and event_id)\n",
    "# add score to par column\n",
    "stats['unique_event_id'] = stats['season'].astype(str) + stats['event_id'].astype(str)\n",
    "stats['score_to_par'] = stats['round_score'] - stats['course_par']\n",
    "stats.drop(stats[stats.round_score < 40].index, inplace=True)\n",
    "\n",
    "# add player world rankings, current datagolf rankings, and skill estimate\n",
    "dg_rankings = file_three_df.copy()\n",
    "temp_ranks = dg_rankings[['player_name', 'owgr_rank', 'datagolf_rank', 'dg_skill_estimate']]\n",
    "stats = pd.merge(stats, temp_ranks, on='player_name')\n",
    "\n",
    "non_stat_cols = ['event_name','unique_event_id','event_completed','player_name','round_num','round_score','finish_pos','datagolf_rank']\n",
    "\n",
    "# leaderboard thru 3 rounds of all tournaments\n",
    "temp = stats[(stats.round_num < 4) & (stats.season > 2017)][non_stat_cols].sort_values(['event_completed','player_name','round_num','round_score'])\n",
    "temp['cum_sum'] = temp.groupby(['player_name','unique_event_id'])['round_score'].cumsum(axis=0)\n",
    "leaderboard_after_3 = temp[temp.round_num==3].sort_values(['unique_event_id', 'cum_sum']) # keeping for leaderboard thru 3 rounds\n",
    "\n",
    "# # r4_delta column \n",
    "temp = leaderboard_after_3.groupby('unique_event_id')[['unique_event_id','cum_sum']].min().rename(columns={'cum_sum':'cum_sum_min'}).reset_index(drop=True)\n",
    "leaderboard_deltas_after_3 = pd.merge(leaderboard_after_3,temp,on='unique_event_id')\n",
    "leaderboard_deltas_after_3['r4_delta'] = leaderboard_deltas_after_3.cum_sum - leaderboard_deltas_after_3.cum_sum_min\n",
    "\n",
    "# data golf rankings bins by 100\n",
    "bins100 = [0, 100, 200, 300, 400, 500]\n",
    "labels100 = ['1-100', '101-200', '201-300', '301-400', '401-500']\n",
    "bins40 = [0, 40, 80, 120, 160, 200, 240, 280, 320, 360, 400, 440, 500]\n",
    "labels40 = ['1-40', '41-80', '81-120', '121-160', '161-200', \n",
    "            '201-240', '241-280', '281-320', '321-360', '361-400', \n",
    "            '400-440', '441-500']\n",
    "stats['bin_40'] = pd.cut(stats['datagolf_rank'], bins=bins40, labels=labels40)\n",
    "stats['bin_100'] = pd.cut(stats['datagolf_rank'], bins=bins100, labels=labels100)\n",
    "leaderboard_deltas_after_3['bin_100'] = pd.cut(leaderboard_deltas_after_3['datagolf_rank'], bins=bins100, labels=labels100)\n",
    "leaderboard_deltas_after_3['bin_40'] = pd.cut(leaderboard_deltas_after_3['datagolf_rank'], bins=bins40, labels=labels40)\n",
    "\n",
    "# remove winners, whittle down to 2 strokes delta, add loser_key\n",
    "losers_df = leaderboard_deltas_after_3[(leaderboard_deltas_after_3.r4_delta <= 2) & (leaderboard_deltas_after_3.finish_pos > 1)].reset_index(drop=True)\n",
    "losers_df['loser_key'] = list(zip(losers_df.player_name.astype(str), losers_df.unique_event_id.astype('category')))\n",
    "\n",
    "# prior and post dates for search\n",
    "losers_df.event_completed = pd.to_datetime(losers_df.event_completed)\n",
    "losers_df['prior_16'] = losers_df['event_completed'] - pd.Timedelta(weeks=16)\n",
    "losers_df['prior_24'] = losers_df['event_completed'] - pd.Timedelta(weeks=24)\n",
    "losers_df['prior_32'] = losers_df['event_completed'] - pd.Timedelta(weeks=32)\n",
    "\n",
    "losers_df['post_2'] = losers_df['event_completed'] + pd.Timedelta(weeks=2)\n",
    "losers_df['post_4'] = losers_df['event_completed'] + pd.Timedelta(weeks=4)\n",
    "losers_df['post_8'] = losers_df['event_completed'] + pd.Timedelta(weeks=8)\n",
    "\n",
    "# # remove now un-needed columns and fix dtypes\n",
    "losers_df.drop(columns=['round_score','round_num','cum_sum','cum_sum_min'], axis=1, inplace=True)\n",
    "#losers_df.event_completed = pd.to_datetime(losers_df.event_completed)\n",
    "losers_df.finish_pos = losers_df.finish_pos.astype('int64')\n",
    "stats.event_completed = pd.to_datetime(stats.event_completed)\n",
    "\n",
    "data = losers_df.copy() # the 554 instances where a player was leading or within 2 strokes going into round 4 and lost"
   ]
  },
  {
   "cell_type": "code",
   "execution_count": 36,
   "metadata": {},
   "outputs": [
    {
     "data": {
      "text/html": [
       "<div>\n",
       "<style scoped>\n",
       "    .dataframe tbody tr th:only-of-type {\n",
       "        vertical-align: middle;\n",
       "    }\n",
       "\n",
       "    .dataframe tbody tr th {\n",
       "        vertical-align: top;\n",
       "    }\n",
       "\n",
       "    .dataframe thead th {\n",
       "        text-align: right;\n",
       "    }\n",
       "</style>\n",
       "<table border=\"1\" class=\"dataframe\">\n",
       "  <thead>\n",
       "    <tr style=\"text-align: right;\">\n",
       "      <th></th>\n",
       "      <th>event_name</th>\n",
       "      <th>unique_event_id</th>\n",
       "      <th>event_completed</th>\n",
       "      <th>player_name</th>\n",
       "      <th>finish_pos</th>\n",
       "      <th>datagolf_rank</th>\n",
       "      <th>r4_delta</th>\n",
       "      <th>bin_100</th>\n",
       "      <th>bin_40</th>\n",
       "      <th>loser_key</th>\n",
       "      <th>prior_16</th>\n",
       "      <th>prior_24</th>\n",
       "      <th>prior_32</th>\n",
       "      <th>post_2</th>\n",
       "      <th>post_4</th>\n",
       "      <th>post_8</th>\n",
       "    </tr>\n",
       "  </thead>\n",
       "  <tbody>\n",
       "    <tr>\n",
       "      <th>552</th>\n",
       "      <td>Arnold Palmer Invitational presented by Master...</td>\n",
       "      <td>20229</td>\n",
       "      <td>2022-03-06</td>\n",
       "      <td>Horschel, Billy</td>\n",
       "      <td>2</td>\n",
       "      <td>21</td>\n",
       "      <td>0</td>\n",
       "      <td>1-100</td>\n",
       "      <td>1-40</td>\n",
       "      <td>(Horschel, Billy, 20229)</td>\n",
       "      <td>2021-11-14</td>\n",
       "      <td>2021-09-19</td>\n",
       "      <td>2021-07-25</td>\n",
       "      <td>2022-03-20</td>\n",
       "      <td>2022-04-03</td>\n",
       "      <td>2022-05-01</td>\n",
       "    </tr>\n",
       "    <tr>\n",
       "      <th>553</th>\n",
       "      <td>Arnold Palmer Invitational presented by Master...</td>\n",
       "      <td>20229</td>\n",
       "      <td>2022-03-06</td>\n",
       "      <td>Hovland, Viktor</td>\n",
       "      <td>2</td>\n",
       "      <td>15</td>\n",
       "      <td>1</td>\n",
       "      <td>1-100</td>\n",
       "      <td>1-40</td>\n",
       "      <td>(Hovland, Viktor, 20229)</td>\n",
       "      <td>2021-11-14</td>\n",
       "      <td>2021-09-19</td>\n",
       "      <td>2021-07-25</td>\n",
       "      <td>2022-03-20</td>\n",
       "      <td>2022-04-03</td>\n",
       "      <td>2022-05-01</td>\n",
       "    </tr>\n",
       "  </tbody>\n",
       "</table>\n",
       "</div>"
      ],
      "text/plain": [
       "                                            event_name unique_event_id  \\\n",
       "552  Arnold Palmer Invitational presented by Master...           20229   \n",
       "553  Arnold Palmer Invitational presented by Master...           20229   \n",
       "\n",
       "    event_completed      player_name  finish_pos  datagolf_rank  r4_delta  \\\n",
       "552      2022-03-06  Horschel, Billy           2             21         0   \n",
       "553      2022-03-06  Hovland, Viktor           2             15         1   \n",
       "\n",
       "    bin_100 bin_40                 loser_key   prior_16   prior_24   prior_32  \\\n",
       "552   1-100   1-40  (Horschel, Billy, 20229) 2021-11-14 2021-09-19 2021-07-25   \n",
       "553   1-100   1-40  (Hovland, Viktor, 20229) 2021-11-14 2021-09-19 2021-07-25   \n",
       "\n",
       "        post_2     post_4     post_8  \n",
       "552 2022-03-20 2022-04-03 2022-05-01  \n",
       "553 2022-03-20 2022-04-03 2022-05-01  "
      ]
     },
     "execution_count": 36,
     "metadata": {},
     "output_type": "execute_result"
    }
   ],
   "source": [
    "data.tail(2)"
   ]
  },
  {
   "cell_type": "code",
   "execution_count": 39,
   "metadata": {},
   "outputs": [],
   "source": [
    "drop_cols = ['sg_putt', 'sg_arg', 'sg_app', 'sg_ott',\n",
    "           'sg_t2g','driving_dist', 'driving_acc', 'gir',\n",
    "           'scrambling', 'prox_rgh', 'prox_fw','owgr_rank', \n",
    "           'datagolf_rank', 'dg_skill_estimate','course_num',\n",
    "           'course_par', ]\n",
    "\n",
    "losers_rounds = []\n",
    "\n",
    "for i in np.arange(0, len(data)):\n",
    "    \n",
    "    guy = data.player_name[i]\n",
    "    prior_16 = str(data.prior_16[i])\n",
    "    prior_24 = str(data.prior_24[i])\n",
    "    prior_32 = str(data.prior_32[i])\n",
    "    post_2 = str(data.post_2[i])\n",
    "    post_4 = str(data.post_4[i])\n",
    "    post_8 = str(data.post_8[i])\n",
    "    event = str(data.event_completed[i])\n",
    "    unique_event = str(data.unique_event_id[i])\n",
    "\n",
    "    before_guy = (stats\n",
    "                  [(stats.player_name == guy) & \n",
    "                   (stats.event_completed > prior_16) &\n",
    "                   (stats.event_completed < event)\n",
    "                  ]\n",
    "                 ).drop(columns=drop_cols)\n",
    "    before_guy['target'] = 0\n",
    "\n",
    "    after_guy = (stats\n",
    "                  [(stats.player_name == guy) & \n",
    "                   (stats.event_completed > event) &\n",
    "                   (stats.event_completed < post_8)\n",
    "                  ]\n",
    "                 ).drop(columns=drop_cols)\n",
    "    after_guy['target'] = 1\n",
    "\n",
    "    # concat before and after rounds\n",
    "    one_guy = pd.concat([before_guy, after_guy]).sort_values('event_completed').reset_index(drop=True)\n",
    "#     one_guy['loser_key'] = list(zip(one_guy.player_name.astype(str), one_guy.unique_event_id.astype('category')))\n",
    "    one_guy['loser_key'] = f'({guy}, {unique_event})'\n",
    "    losers_rounds.append(one_guy)\n"
   ]
  },
  {
   "cell_type": "code",
   "execution_count": 54,
   "metadata": {},
   "outputs": [
    {
     "ename": "ValueError",
     "evalue": "Shape of passed values is (554, 1), indices imply (554, 19)",
     "output_type": "error",
     "traceback": [
      "\u001b[1;31m---------------------------------------------------------------------------\u001b[0m",
      "\u001b[1;31mValueError\u001b[0m                                Traceback (most recent call last)",
      "\u001b[1;32m~\\AppData\\Local\\Temp/ipykernel_24064/2717398813.py\u001b[0m in \u001b[0;36m<module>\u001b[1;34m\u001b[0m\n\u001b[0;32m      1\u001b[0m \u001b[0mlist_name\u001b[0m \u001b[1;33m=\u001b[0m \u001b[0mlosers_rounds\u001b[0m\u001b[1;33m\u001b[0m\u001b[1;33m\u001b[0m\u001b[0m\n\u001b[1;32m----> 2\u001b[1;33m \u001b[0mdf\u001b[0m \u001b[1;33m=\u001b[0m \u001b[0mpd\u001b[0m\u001b[1;33m.\u001b[0m\u001b[0mDataFrame\u001b[0m \u001b[1;33m(\u001b[0m\u001b[0mlist_name\u001b[0m\u001b[1;33m,\u001b[0m \u001b[0mcolumns\u001b[0m \u001b[1;33m=\u001b[0m \u001b[0mone_guy\u001b[0m\u001b[1;33m.\u001b[0m\u001b[0mcolumns\u001b[0m\u001b[1;33m)\u001b[0m\u001b[1;33m\u001b[0m\u001b[1;33m\u001b[0m\u001b[0m\n\u001b[0m",
      "\u001b[1;32m~\\anaconda3\\lib\\site-packages\\pandas\\core\\frame.py\u001b[0m in \u001b[0;36m__init__\u001b[1;34m(self, data, index, columns, dtype, copy)\u001b[0m\n\u001b[0;32m    709\u001b[0m                     )\n\u001b[0;32m    710\u001b[0m                 \u001b[1;32melse\u001b[0m\u001b[1;33m:\u001b[0m\u001b[1;33m\u001b[0m\u001b[1;33m\u001b[0m\u001b[0m\n\u001b[1;32m--> 711\u001b[1;33m                     mgr = ndarray_to_mgr(\n\u001b[0m\u001b[0;32m    712\u001b[0m                         \u001b[0mdata\u001b[0m\u001b[1;33m,\u001b[0m\u001b[1;33m\u001b[0m\u001b[1;33m\u001b[0m\u001b[0m\n\u001b[0;32m    713\u001b[0m                         \u001b[0mindex\u001b[0m\u001b[1;33m,\u001b[0m\u001b[1;33m\u001b[0m\u001b[1;33m\u001b[0m\u001b[0m\n",
      "\u001b[1;32m~\\anaconda3\\lib\\site-packages\\pandas\\core\\internals\\construction.py\u001b[0m in \u001b[0;36mndarray_to_mgr\u001b[1;34m(values, index, columns, dtype, copy, typ)\u001b[0m\n\u001b[0;32m    322\u001b[0m     )\n\u001b[0;32m    323\u001b[0m \u001b[1;33m\u001b[0m\u001b[0m\n\u001b[1;32m--> 324\u001b[1;33m     \u001b[0m_check_values_indices_shape_match\u001b[0m\u001b[1;33m(\u001b[0m\u001b[0mvalues\u001b[0m\u001b[1;33m,\u001b[0m \u001b[0mindex\u001b[0m\u001b[1;33m,\u001b[0m \u001b[0mcolumns\u001b[0m\u001b[1;33m)\u001b[0m\u001b[1;33m\u001b[0m\u001b[1;33m\u001b[0m\u001b[0m\n\u001b[0m\u001b[0;32m    325\u001b[0m \u001b[1;33m\u001b[0m\u001b[0m\n\u001b[0;32m    326\u001b[0m     \u001b[1;32mif\u001b[0m \u001b[0mtyp\u001b[0m \u001b[1;33m==\u001b[0m \u001b[1;34m\"array\"\u001b[0m\u001b[1;33m:\u001b[0m\u001b[1;33m\u001b[0m\u001b[1;33m\u001b[0m\u001b[0m\n",
      "\u001b[1;32m~\\anaconda3\\lib\\site-packages\\pandas\\core\\internals\\construction.py\u001b[0m in \u001b[0;36m_check_values_indices_shape_match\u001b[1;34m(values, index, columns)\u001b[0m\n\u001b[0;32m    391\u001b[0m         \u001b[0mpassed\u001b[0m \u001b[1;33m=\u001b[0m \u001b[0mvalues\u001b[0m\u001b[1;33m.\u001b[0m\u001b[0mshape\u001b[0m\u001b[1;33m\u001b[0m\u001b[1;33m\u001b[0m\u001b[0m\n\u001b[0;32m    392\u001b[0m         \u001b[0mimplied\u001b[0m \u001b[1;33m=\u001b[0m \u001b[1;33m(\u001b[0m\u001b[0mlen\u001b[0m\u001b[1;33m(\u001b[0m\u001b[0mindex\u001b[0m\u001b[1;33m)\u001b[0m\u001b[1;33m,\u001b[0m \u001b[0mlen\u001b[0m\u001b[1;33m(\u001b[0m\u001b[0mcolumns\u001b[0m\u001b[1;33m)\u001b[0m\u001b[1;33m)\u001b[0m\u001b[1;33m\u001b[0m\u001b[1;33m\u001b[0m\u001b[0m\n\u001b[1;32m--> 393\u001b[1;33m         \u001b[1;32mraise\u001b[0m \u001b[0mValueError\u001b[0m\u001b[1;33m(\u001b[0m\u001b[1;34mf\"Shape of passed values is {passed}, indices imply {implied}\"\u001b[0m\u001b[1;33m)\u001b[0m\u001b[1;33m\u001b[0m\u001b[1;33m\u001b[0m\u001b[0m\n\u001b[0m\u001b[0;32m    394\u001b[0m \u001b[1;33m\u001b[0m\u001b[0m\n\u001b[0;32m    395\u001b[0m \u001b[1;33m\u001b[0m\u001b[0m\n",
      "\u001b[1;31mValueError\u001b[0m: Shape of passed values is (554, 1), indices imply (554, 19)"
     ]
    }
   ],
   "source": [
    "list_name = losers_rounds\n",
    "df = pd.DataFrame (list_name, columns = one_guy.columns)"
   ]
  },
  {
   "cell_type": "code",
   "execution_count": null,
   "metadata": {
    "scrolled": false
   },
   "outputs": [],
   "source": [
    "fig = px.scatter(df.groupby('event_completed')[['score_to_par','target']].mean(),\n",
    "            y='score_to_par',\n",
    "             color='target')\n",
    "fig.show()"
   ]
  },
  {
   "cell_type": "code",
   "execution_count": 15,
   "metadata": {},
   "outputs": [
    {
     "data": {
      "application/vnd.plotly.v1+json": {
       "config": {
        "plotlyServerURL": "https://plot.ly"
       },
       "data": [
        {
         "customdata": [
          [
           "Schauffele, Xander",
           5,
           3,
           -0.79,
           7
          ],
          [
           "Todd, Brendon",
           2,
           84,
           0.25,
           2
          ],
          [
           "Matsuyama, Hideki",
           2,
           22,
           0.47,
           5
          ],
          [
           "Matsuyama, Hideki",
           2,
           22,
           0.47,
           5
          ],
          [
           "Scheffler, Scottie",
           3,
           2,
           -0.67,
           3
          ],
          [
           "Scheffler, Scottie",
           3,
           2,
           -0.67,
           3
          ],
          [
           "Scheffler, Scottie",
           3,
           2,
           -0.67,
           3
          ],
          [
           "Thomas, Justin",
           4,
           8,
           0.08,
           13
          ],
          [
           "Thomas, Justin",
           4,
           8,
           0.08,
           13
          ],
          [
           "Thomas, Justin",
           4,
           8,
           0.08,
           13
          ],
          [
           "Thomas, Justin",
           4,
           8,
           0.08,
           13
          ],
          [
           "DeChambeau, Bryson",
           2,
           59,
           -1.45,
           8
          ],
          [
           "DeChambeau, Bryson",
           2,
           59,
           -1.45,
           8
          ],
          [
           "McIlroy, Rory",
           2,
           1,
           -0.81,
           8
          ],
          [
           "McIlroy, Rory",
           2,
           1,
           -0.81,
           8
          ],
          [
           "Kim, Si Woo",
           2,
           54,
           -0.52,
           2
          ],
          [
           "Theegala, Sahith",
           2,
           77,
           -0.7,
           0
          ],
          [
           "Kuchar, Matt",
           2,
           43,
           0.41,
           2
          ],
          [
           "Todd, Brendon",
           2,
           84,
           0.25,
           2
          ],
          [
           "Kuchar, Matt",
           2,
           43,
           0.41,
           2
          ],
          [
           "McNealy, Maverick",
           2,
           48,
           -1.52,
           0
          ],
          [
           "Merritt, Troy",
           2,
           85,
           -0.46,
           1
          ],
          [
           "Zalatoris, Will",
           2,
           11,
           -1.12,
           0
          ],
          [
           "Zalatoris, Will",
           2,
           11,
           -1.12,
           0
          ],
          [
           "Poston, J.T.",
           2,
           52,
           0.78,
           2
          ],
          [
           "Poston, J.T.",
           2,
           52,
           0.78,
           2
          ],
          [
           "Bradley, Keegan",
           2,
           31,
           0.52,
           1
          ],
          [
           "Bradley, Keegan",
           2,
           31,
           0.52,
           1
          ],
          [
           "Munoz, Sebastian",
           2,
           41,
           0.22,
           1
          ],
          [
           "Munoz, Sebastian",
           2,
           41,
           0.22,
           1
          ],
          [
           "Burns, Sam",
           2,
           13,
           -2.88,
           4
          ],
          [
           "Burns, Sam",
           2,
           13,
           -2.88,
           4
          ],
          [
           "Henley, Russell",
           4,
           36,
           0.24,
           1
          ],
          [
           "Henley, Russell",
           4,
           36,
           0.24,
           1
          ],
          [
           "Henley, Russell",
           4,
           36,
           0.24,
           1
          ],
          [
           "Henley, Russell",
           4,
           36,
           0.24,
           1
          ],
          [
           "Steele, Brendan",
           2,
           73,
           0.69,
           1
          ],
          [
           "Steele, Brendan",
           2,
           73,
           0.69,
           1
          ],
          [
           "Merritt, Troy",
           2,
           85,
           -0.46,
           1
          ],
          [
           "McNealy, Maverick",
           2,
           48,
           -1.52,
           0
          ],
          [
           "Woodland, Gary",
           2,
           68,
           0.43,
           2
          ],
          [
           "Kim, Si Woo",
           2,
           54,
           -0.52,
           2
          ],
          [
           "Rahm, Jon",
           5,
           7,
           -0.6,
           7
          ],
          [
           "Finau, Tony",
           5,
           10,
           0.19,
           2
          ],
          [
           "Woodland, Gary",
           2,
           68,
           0.43,
           2
          ],
          [
           "Finau, Tony",
           5,
           10,
           0.19,
           2
          ],
          [
           "Finau, Tony",
           5,
           10,
           0.19,
           2
          ],
          [
           "Berger, Daniel",
           2,
           24,
           -0.24,
           3
          ],
          [
           "Berger, Daniel",
           2,
           24,
           -0.24,
           3
          ],
          [
           "Finau, Tony",
           5,
           10,
           0.19,
           2
          ],
          [
           "Spieth, Jordan",
           4,
           16,
           0.78,
           5
          ],
          [
           "Spieth, Jordan",
           4,
           16,
           0.78,
           5
          ],
          [
           "Spieth, Jordan",
           4,
           16,
           0.78,
           5
          ],
          [
           "Schauffele, Xander",
           5,
           3,
           -0.79,
           7
          ],
          [
           "Schauffele, Xander",
           5,
           3,
           -0.79,
           7
          ],
          [
           "Schauffele, Xander",
           5,
           3,
           -0.79,
           7
          ],
          [
           "Schauffele, Xander",
           5,
           3,
           -0.79,
           7
          ],
          [
           "Spieth, Jordan",
           4,
           16,
           0.78,
           5
          ],
          [
           "Ancer, Abraham",
           3,
           34,
           -0.54,
           1
          ],
          [
           "Finau, Tony",
           5,
           10,
           0.19,
           2
          ],
          [
           "Theegala, Sahith",
           2,
           77,
           -0.7,
           0
          ],
          [
           "Rahm, Jon",
           5,
           7,
           -0.6,
           7
          ],
          [
           "Rahm, Jon",
           5,
           7,
           -0.6,
           7
          ],
          [
           "Rahm, Jon",
           5,
           7,
           -0.6,
           7
          ],
          [
           "Rahm, Jon",
           5,
           7,
           -0.6,
           7
          ],
          [
           "Ancer, Abraham",
           3,
           34,
           -0.54,
           1
          ],
          [
           "Ancer, Abraham",
           3,
           34,
           -0.54,
           1
          ],
          [
           "Johnson, Dustin",
           3,
           12,
           1.63,
           11
          ],
          [
           "Johnson, Dustin",
           3,
           12,
           1.63,
           11
          ],
          [
           "Johnson, Dustin",
           3,
           12,
           1.63,
           11
          ]
         ],
         "hovertemplate": "<b>%{customdata[0]}</b>                     <br>Count: %{customdata[1]}</b>                     <br>=================</b>                     <br>SG Before:%{x:>20}<br>After Loss SG:%{y:>14}</b>                     <br><b>Change:%{customdata[3]:>23}</b>                     <br>=================</b>                     <br>Wins Since 2017:%{customdata[4]:>11}</b>                     <br>Data Golf Rank:%{customdata[2]:>13}",
         "hovertext": [
          "Schauffele, Xander",
          "Todd, Brendon",
          "Matsuyama, Hideki",
          "Matsuyama, Hideki",
          "Scheffler, Scottie",
          "Scheffler, Scottie",
          "Scheffler, Scottie",
          "Thomas, Justin",
          "Thomas, Justin",
          "Thomas, Justin",
          "Thomas, Justin",
          "DeChambeau, Bryson",
          "DeChambeau, Bryson",
          "McIlroy, Rory",
          "McIlroy, Rory",
          "Kim, Si Woo",
          "Theegala, Sahith",
          "Kuchar, Matt",
          "Todd, Brendon",
          "Kuchar, Matt",
          "McNealy, Maverick",
          "Merritt, Troy",
          "Zalatoris, Will",
          "Zalatoris, Will",
          "Poston, J.T.",
          "Poston, J.T.",
          "Bradley, Keegan",
          "Bradley, Keegan",
          "Munoz, Sebastian",
          "Munoz, Sebastian",
          "Burns, Sam",
          "Burns, Sam",
          "Henley, Russell",
          "Henley, Russell",
          "Henley, Russell",
          "Henley, Russell",
          "Steele, Brendan",
          "Steele, Brendan",
          "Merritt, Troy",
          "McNealy, Maverick",
          "Woodland, Gary",
          "Kim, Si Woo",
          "Rahm, Jon",
          "Finau, Tony",
          "Woodland, Gary",
          "Finau, Tony",
          "Finau, Tony",
          "Berger, Daniel",
          "Berger, Daniel",
          "Finau, Tony",
          "Spieth, Jordan",
          "Spieth, Jordan",
          "Spieth, Jordan",
          "Schauffele, Xander",
          "Schauffele, Xander",
          "Schauffele, Xander",
          "Schauffele, Xander",
          "Spieth, Jordan",
          "Ancer, Abraham",
          "Finau, Tony",
          "Theegala, Sahith",
          "Rahm, Jon",
          "Rahm, Jon",
          "Rahm, Jon",
          "Rahm, Jon",
          "Ancer, Abraham",
          "Ancer, Abraham",
          "Johnson, Dustin",
          "Johnson, Dustin",
          "Johnson, Dustin"
         ],
         "legendgroup": "1-100",
         "marker": {
          "color": "rgb(76,114,176)",
          "size": [
           5,
           2,
           2,
           2,
           3,
           3,
           3,
           4,
           4,
           4,
           4,
           2,
           2,
           2,
           2,
           2,
           2,
           2,
           2,
           2,
           2,
           2,
           2,
           2,
           2,
           2,
           2,
           2,
           2,
           2,
           2,
           2,
           4,
           4,
           4,
           4,
           2,
           2,
           2,
           2,
           2,
           2,
           5,
           5,
           2,
           5,
           5,
           2,
           2,
           5,
           4,
           4,
           4,
           5,
           5,
           5,
           5,
           4,
           3,
           5,
           2,
           5,
           5,
           5,
           5,
           3,
           3,
           3,
           3,
           3
          ],
          "sizemode": "area",
          "sizeref": 0.0125,
          "symbol": "circle"
         },
         "mode": "markers",
         "name": "1-100",
         "orientation": "v",
         "showlegend": true,
         "type": "scatter",
         "x": [
          1.4,
          0.4,
          1.06,
          1.06,
          1.57,
          1.57,
          1.57,
          1.64,
          1.64,
          1.64,
          1.64,
          1.14,
          1.14,
          2.92,
          2.92,
          0.78,
          0.2,
          0.95,
          0.4,
          0.95,
          0.8,
          0.24,
          1.46,
          1.46,
          -0.12,
          -0.12,
          0.76,
          0.76,
          0.45,
          0.45,
          1,
          1,
          0.77,
          0.77,
          0.77,
          0.77,
          -0.36,
          -0.36,
          0.24,
          0.8,
          1,
          0.78,
          2.12,
          1.07,
          1,
          1.07,
          1.07,
          0.88,
          0.88,
          1.07,
          0.73,
          0.73,
          0.73,
          1.4,
          1.4,
          1.4,
          1.4,
          0.73,
          0.71,
          1.07,
          0.2,
          2.12,
          2.12,
          2.12,
          2.12,
          0.71,
          0.71,
          1.22,
          1.22,
          1.22
         ],
         "xaxis": "x",
         "y": [
          0.61,
          0.65,
          1.52,
          1.52,
          0.9,
          0.9,
          0.9,
          1.72,
          1.72,
          1.72,
          1.72,
          -0.31,
          -0.31,
          2.1,
          2.1,
          0.25,
          -0.5,
          1.36,
          0.65,
          1.36,
          -0.73,
          -0.23,
          0.34,
          0.34,
          0.66,
          0.66,
          1.28,
          1.28,
          0.66,
          0.66,
          -1.88,
          -1.88,
          1.01,
          1.01,
          1.01,
          1.01,
          0.33,
          0.33,
          -0.23,
          -0.73,
          1.42,
          0.25,
          1.52,
          1.26,
          1.42,
          1.26,
          1.26,
          0.64,
          0.64,
          1.26,
          1.52,
          1.52,
          1.52,
          0.61,
          0.61,
          0.61,
          0.61,
          1.52,
          0.17,
          1.26,
          -0.5,
          1.52,
          1.52,
          1.52,
          1.52,
          0.17,
          0.17,
          2.85,
          2.85,
          2.85
         ],
         "yaxis": "y"
        },
        {
         "customdata": [
          [
           "Hossler, Beau",
           4,
           151,
           -1.04,
           0
          ],
          [
           "Hossler, Beau",
           4,
           151,
           -1.04,
           0
          ],
          [
           "Hossler, Beau",
           4,
           151,
           -1.04,
           0
          ],
          [
           "Hossler, Beau",
           4,
           151,
           -1.04,
           0
          ],
          [
           "Putnam, Andrew",
           3,
           108,
           -0.12,
           0
          ],
          [
           "Putnam, Andrew",
           3,
           108,
           -0.12,
           0
          ],
          [
           "Westwood, Lee",
           2,
           171,
           -0.53,
           0
          ],
          [
           "Westwood, Lee",
           2,
           171,
           -0.53,
           0
          ],
          [
           "Putnam, Andrew",
           3,
           108,
           -0.12,
           0
          ],
          [
           "Wolff, Matthew",
           2,
           198,
           1.74,
           1
          ],
          [
           "Wolff, Matthew",
           2,
           198,
           1.74,
           1
          ],
          [
           "Palmer, Ryan",
           2,
           110,
           -1.64,
           0
          ],
          [
           "Fowler, Rickie",
           2,
           122,
           -1.4,
           3
          ],
          [
           "Fowler, Rickie",
           2,
           122,
           -1.4,
           3
          ],
          [
           "Palmer, Ryan",
           2,
           110,
           -1.64,
           0
          ]
         ],
         "hovertemplate": "<b>%{customdata[0]}</b>                     <br>Count: %{customdata[1]}</b>                     <br>=================</b>                     <br>SG Before:%{x:>20}<br>After Loss SG:%{y:>14}</b>                     <br><b>Change:%{customdata[3]:>23}</b>                     <br>=================</b>                     <br>Wins Since 2017:%{customdata[4]:>11}</b>                     <br>Data Golf Rank:%{customdata[2]:>13}",
         "hovertext": [
          "Hossler, Beau",
          "Hossler, Beau",
          "Hossler, Beau",
          "Hossler, Beau",
          "Putnam, Andrew",
          "Putnam, Andrew",
          "Westwood, Lee",
          "Westwood, Lee",
          "Putnam, Andrew",
          "Wolff, Matthew",
          "Wolff, Matthew",
          "Palmer, Ryan",
          "Fowler, Rickie",
          "Fowler, Rickie",
          "Palmer, Ryan"
         ],
         "legendgroup": "101-200",
         "marker": {
          "color": "rgb(221,132,82)",
          "size": [
           4,
           4,
           4,
           4,
           3,
           3,
           2,
           2,
           3,
           2,
           2,
           2,
           2,
           2,
           2
          ],
          "sizemode": "area",
          "sizeref": 0.0125,
          "symbol": "circle"
         },
         "mode": "markers",
         "name": "101-200",
         "orientation": "v",
         "showlegend": true,
         "type": "scatter",
         "x": [
          -0.07,
          -0.07,
          -0.07,
          -0.07,
          0.31,
          0.31,
          -0.29,
          -0.29,
          0.31,
          0.34,
          0.34,
          0.65,
          1.12,
          1.12,
          0.65
         ],
         "xaxis": "x",
         "y": [
          -1.12,
          -1.12,
          -1.12,
          -1.12,
          0.19,
          0.19,
          -0.82,
          -0.82,
          0.19,
          2.08,
          2.08,
          -0.99,
          -0.29,
          -0.29,
          -0.99
         ],
         "yaxis": "y"
        },
        {
         "customdata": [
          [
           "Streb, Robert",
           3,
           212,
           -3.05,
           1
          ],
          [
           "Streb, Robert",
           3,
           212,
           -3.05,
           1
          ],
          [
           "Streb, Robert",
           3,
           212,
           -3.05,
           1
          ],
          [
           "Snedeker, Brandt",
           2,
           275,
           -1.17,
           1
          ],
          [
           "Snedeker, Brandt",
           2,
           275,
           -1.17,
           1
          ],
          [
           "An, Byeong Hun",
           2,
           289,
           -0.83,
           0
          ],
          [
           "An, Byeong Hun",
           2,
           289,
           -0.83,
           0
          ]
         ],
         "hovertemplate": "<b>%{customdata[0]}</b>                     <br>Count: %{customdata[1]}</b>                     <br>=================</b>                     <br>SG Before:%{x:>20}<br>After Loss SG:%{y:>14}</b>                     <br><b>Change:%{customdata[3]:>23}</b>                     <br>=================</b>                     <br>Wins Since 2017:%{customdata[4]:>11}</b>                     <br>Data Golf Rank:%{customdata[2]:>13}",
         "hovertext": [
          "Streb, Robert",
          "Streb, Robert",
          "Streb, Robert",
          "Snedeker, Brandt",
          "Snedeker, Brandt",
          "An, Byeong Hun",
          "An, Byeong Hun"
         ],
         "legendgroup": "201-300",
         "marker": {
          "color": "rgb(85,168,104)",
          "size": [
           3,
           3,
           3,
           2,
           2,
           2,
           2
          ],
          "sizemode": "area",
          "sizeref": 0.0125,
          "symbol": "circle"
         },
         "mode": "markers",
         "name": "201-300",
         "orientation": "v",
         "showlegend": true,
         "type": "scatter",
         "x": [
          -0.67,
          -0.67,
          -0.67,
          -0.05,
          -0.05,
          0.8,
          0.8
         ],
         "xaxis": "x",
         "y": [
          -3.72,
          -3.72,
          -3.72,
          -1.22,
          -1.22,
          -0.04,
          -0.04
         ],
         "yaxis": "y"
        }
       ],
       "layout": {
        "height": 700,
        "hoverlabel": {
         "font": {
          "family": "Rockwell",
          "size": 15
         }
        },
        "legend": {
         "itemsizing": "constant",
         "title": {
          "text": "Datagolf Rank"
         },
         "tracegroupgap": 0
        },
        "shapes": [
         {
          "line": {
           "color": "Black",
           "width": 3
          },
          "type": "line",
          "x0": 0,
          "x1": 1,
          "xref": "x domain",
          "y0": 0,
          "y1": 0,
          "yref": "y"
         },
         {
          "line": {
           "color": "Black",
           "width": 3
          },
          "type": "line",
          "x0": 0,
          "x1": 0,
          "xref": "x",
          "y0": 0,
          "y1": 1,
          "yref": "y domain"
         },
         {
          "line": {
           "color": "DarkRed",
           "dash": "dashdot",
           "width": 1.5
          },
          "type": "line",
          "x0": -1.5,
          "x1": 2.5,
          "y0": -1.5,
          "y1": 2.5
         }
        ],
        "template": {
         "data": {
          "bar": [
           {
            "error_x": {
             "color": "rgb(36,36,36)"
            },
            "error_y": {
             "color": "rgb(36,36,36)"
            },
            "marker": {
             "line": {
              "color": "rgb(234,234,242)",
              "width": 0.5
             },
             "pattern": {
              "fillmode": "overlay",
              "size": 10,
              "solidity": 0.2
             }
            },
            "type": "bar"
           }
          ],
          "barpolar": [
           {
            "marker": {
             "line": {
              "color": "rgb(234,234,242)",
              "width": 0.5
             },
             "pattern": {
              "fillmode": "overlay",
              "size": 10,
              "solidity": 0.2
             }
            },
            "type": "barpolar"
           }
          ],
          "carpet": [
           {
            "aaxis": {
             "endlinecolor": "rgb(36,36,36)",
             "gridcolor": "white",
             "linecolor": "white",
             "minorgridcolor": "white",
             "startlinecolor": "rgb(36,36,36)"
            },
            "baxis": {
             "endlinecolor": "rgb(36,36,36)",
             "gridcolor": "white",
             "linecolor": "white",
             "minorgridcolor": "white",
             "startlinecolor": "rgb(36,36,36)"
            },
            "type": "carpet"
           }
          ],
          "choropleth": [
           {
            "colorbar": {
             "outlinewidth": 0,
             "tickcolor": "rgb(36,36,36)",
             "ticklen": 8,
             "ticks": "outside",
             "tickwidth": 2
            },
            "type": "choropleth"
           }
          ],
          "contour": [
           {
            "colorbar": {
             "outlinewidth": 0,
             "tickcolor": "rgb(36,36,36)",
             "ticklen": 8,
             "ticks": "outside",
             "tickwidth": 2
            },
            "colorscale": [
             [
              0,
              "rgb(2,4,25)"
             ],
             [
              0.06274509803921569,
              "rgb(24,15,41)"
             ],
             [
              0.12549019607843137,
              "rgb(47,23,57)"
             ],
             [
              0.18823529411764706,
              "rgb(71,28,72)"
             ],
             [
              0.25098039215686274,
              "rgb(97,30,82)"
             ],
             [
              0.3137254901960784,
              "rgb(123,30,89)"
             ],
             [
              0.3764705882352941,
              "rgb(150,27,91)"
             ],
             [
              0.4392156862745098,
              "rgb(177,22,88)"
             ],
             [
              0.5019607843137255,
              "rgb(203,26,79)"
             ],
             [
              0.5647058823529412,
              "rgb(223,47,67)"
             ],
             [
              0.6274509803921569,
              "rgb(236,76,61)"
             ],
             [
              0.6901960784313725,
              "rgb(242,107,73)"
             ],
             [
              0.7529411764705882,
              "rgb(244,135,95)"
             ],
             [
              0.8156862745098039,
              "rgb(245,162,122)"
             ],
             [
              0.8784313725490196,
              "rgb(246,188,153)"
             ],
             [
              0.9411764705882353,
              "rgb(247,212,187)"
             ],
             [
              1,
              "rgb(250,234,220)"
             ]
            ],
            "type": "contour"
           }
          ],
          "contourcarpet": [
           {
            "colorbar": {
             "outlinewidth": 0,
             "tickcolor": "rgb(36,36,36)",
             "ticklen": 8,
             "ticks": "outside",
             "tickwidth": 2
            },
            "type": "contourcarpet"
           }
          ],
          "heatmap": [
           {
            "colorbar": {
             "outlinewidth": 0,
             "tickcolor": "rgb(36,36,36)",
             "ticklen": 8,
             "ticks": "outside",
             "tickwidth": 2
            },
            "colorscale": [
             [
              0,
              "rgb(2,4,25)"
             ],
             [
              0.06274509803921569,
              "rgb(24,15,41)"
             ],
             [
              0.12549019607843137,
              "rgb(47,23,57)"
             ],
             [
              0.18823529411764706,
              "rgb(71,28,72)"
             ],
             [
              0.25098039215686274,
              "rgb(97,30,82)"
             ],
             [
              0.3137254901960784,
              "rgb(123,30,89)"
             ],
             [
              0.3764705882352941,
              "rgb(150,27,91)"
             ],
             [
              0.4392156862745098,
              "rgb(177,22,88)"
             ],
             [
              0.5019607843137255,
              "rgb(203,26,79)"
             ],
             [
              0.5647058823529412,
              "rgb(223,47,67)"
             ],
             [
              0.6274509803921569,
              "rgb(236,76,61)"
             ],
             [
              0.6901960784313725,
              "rgb(242,107,73)"
             ],
             [
              0.7529411764705882,
              "rgb(244,135,95)"
             ],
             [
              0.8156862745098039,
              "rgb(245,162,122)"
             ],
             [
              0.8784313725490196,
              "rgb(246,188,153)"
             ],
             [
              0.9411764705882353,
              "rgb(247,212,187)"
             ],
             [
              1,
              "rgb(250,234,220)"
             ]
            ],
            "type": "heatmap"
           }
          ],
          "heatmapgl": [
           {
            "colorbar": {
             "outlinewidth": 0,
             "tickcolor": "rgb(36,36,36)",
             "ticklen": 8,
             "ticks": "outside",
             "tickwidth": 2
            },
            "colorscale": [
             [
              0,
              "rgb(2,4,25)"
             ],
             [
              0.06274509803921569,
              "rgb(24,15,41)"
             ],
             [
              0.12549019607843137,
              "rgb(47,23,57)"
             ],
             [
              0.18823529411764706,
              "rgb(71,28,72)"
             ],
             [
              0.25098039215686274,
              "rgb(97,30,82)"
             ],
             [
              0.3137254901960784,
              "rgb(123,30,89)"
             ],
             [
              0.3764705882352941,
              "rgb(150,27,91)"
             ],
             [
              0.4392156862745098,
              "rgb(177,22,88)"
             ],
             [
              0.5019607843137255,
              "rgb(203,26,79)"
             ],
             [
              0.5647058823529412,
              "rgb(223,47,67)"
             ],
             [
              0.6274509803921569,
              "rgb(236,76,61)"
             ],
             [
              0.6901960784313725,
              "rgb(242,107,73)"
             ],
             [
              0.7529411764705882,
              "rgb(244,135,95)"
             ],
             [
              0.8156862745098039,
              "rgb(245,162,122)"
             ],
             [
              0.8784313725490196,
              "rgb(246,188,153)"
             ],
             [
              0.9411764705882353,
              "rgb(247,212,187)"
             ],
             [
              1,
              "rgb(250,234,220)"
             ]
            ],
            "type": "heatmapgl"
           }
          ],
          "histogram": [
           {
            "marker": {
             "pattern": {
              "fillmode": "overlay",
              "size": 10,
              "solidity": 0.2
             }
            },
            "type": "histogram"
           }
          ],
          "histogram2d": [
           {
            "colorbar": {
             "outlinewidth": 0,
             "tickcolor": "rgb(36,36,36)",
             "ticklen": 8,
             "ticks": "outside",
             "tickwidth": 2
            },
            "colorscale": [
             [
              0,
              "rgb(2,4,25)"
             ],
             [
              0.06274509803921569,
              "rgb(24,15,41)"
             ],
             [
              0.12549019607843137,
              "rgb(47,23,57)"
             ],
             [
              0.18823529411764706,
              "rgb(71,28,72)"
             ],
             [
              0.25098039215686274,
              "rgb(97,30,82)"
             ],
             [
              0.3137254901960784,
              "rgb(123,30,89)"
             ],
             [
              0.3764705882352941,
              "rgb(150,27,91)"
             ],
             [
              0.4392156862745098,
              "rgb(177,22,88)"
             ],
             [
              0.5019607843137255,
              "rgb(203,26,79)"
             ],
             [
              0.5647058823529412,
              "rgb(223,47,67)"
             ],
             [
              0.6274509803921569,
              "rgb(236,76,61)"
             ],
             [
              0.6901960784313725,
              "rgb(242,107,73)"
             ],
             [
              0.7529411764705882,
              "rgb(244,135,95)"
             ],
             [
              0.8156862745098039,
              "rgb(245,162,122)"
             ],
             [
              0.8784313725490196,
              "rgb(246,188,153)"
             ],
             [
              0.9411764705882353,
              "rgb(247,212,187)"
             ],
             [
              1,
              "rgb(250,234,220)"
             ]
            ],
            "type": "histogram2d"
           }
          ],
          "histogram2dcontour": [
           {
            "colorbar": {
             "outlinewidth": 0,
             "tickcolor": "rgb(36,36,36)",
             "ticklen": 8,
             "ticks": "outside",
             "tickwidth": 2
            },
            "colorscale": [
             [
              0,
              "rgb(2,4,25)"
             ],
             [
              0.06274509803921569,
              "rgb(24,15,41)"
             ],
             [
              0.12549019607843137,
              "rgb(47,23,57)"
             ],
             [
              0.18823529411764706,
              "rgb(71,28,72)"
             ],
             [
              0.25098039215686274,
              "rgb(97,30,82)"
             ],
             [
              0.3137254901960784,
              "rgb(123,30,89)"
             ],
             [
              0.3764705882352941,
              "rgb(150,27,91)"
             ],
             [
              0.4392156862745098,
              "rgb(177,22,88)"
             ],
             [
              0.5019607843137255,
              "rgb(203,26,79)"
             ],
             [
              0.5647058823529412,
              "rgb(223,47,67)"
             ],
             [
              0.6274509803921569,
              "rgb(236,76,61)"
             ],
             [
              0.6901960784313725,
              "rgb(242,107,73)"
             ],
             [
              0.7529411764705882,
              "rgb(244,135,95)"
             ],
             [
              0.8156862745098039,
              "rgb(245,162,122)"
             ],
             [
              0.8784313725490196,
              "rgb(246,188,153)"
             ],
             [
              0.9411764705882353,
              "rgb(247,212,187)"
             ],
             [
              1,
              "rgb(250,234,220)"
             ]
            ],
            "type": "histogram2dcontour"
           }
          ],
          "mesh3d": [
           {
            "colorbar": {
             "outlinewidth": 0,
             "tickcolor": "rgb(36,36,36)",
             "ticklen": 8,
             "ticks": "outside",
             "tickwidth": 2
            },
            "type": "mesh3d"
           }
          ],
          "parcoords": [
           {
            "line": {
             "colorbar": {
              "outlinewidth": 0,
              "tickcolor": "rgb(36,36,36)",
              "ticklen": 8,
              "ticks": "outside",
              "tickwidth": 2
             }
            },
            "type": "parcoords"
           }
          ],
          "pie": [
           {
            "automargin": true,
            "type": "pie"
           }
          ],
          "scatter": [
           {
            "fillpattern": {
             "fillmode": "overlay",
             "size": 10,
             "solidity": 0.2
            },
            "type": "scatter"
           }
          ],
          "scatter3d": [
           {
            "line": {
             "colorbar": {
              "outlinewidth": 0,
              "tickcolor": "rgb(36,36,36)",
              "ticklen": 8,
              "ticks": "outside",
              "tickwidth": 2
             }
            },
            "marker": {
             "colorbar": {
              "outlinewidth": 0,
              "tickcolor": "rgb(36,36,36)",
              "ticklen": 8,
              "ticks": "outside",
              "tickwidth": 2
             }
            },
            "type": "scatter3d"
           }
          ],
          "scattercarpet": [
           {
            "marker": {
             "colorbar": {
              "outlinewidth": 0,
              "tickcolor": "rgb(36,36,36)",
              "ticklen": 8,
              "ticks": "outside",
              "tickwidth": 2
             }
            },
            "type": "scattercarpet"
           }
          ],
          "scattergeo": [
           {
            "marker": {
             "colorbar": {
              "outlinewidth": 0,
              "tickcolor": "rgb(36,36,36)",
              "ticklen": 8,
              "ticks": "outside",
              "tickwidth": 2
             }
            },
            "type": "scattergeo"
           }
          ],
          "scattergl": [
           {
            "marker": {
             "colorbar": {
              "outlinewidth": 0,
              "tickcolor": "rgb(36,36,36)",
              "ticklen": 8,
              "ticks": "outside",
              "tickwidth": 2
             }
            },
            "type": "scattergl"
           }
          ],
          "scattermapbox": [
           {
            "marker": {
             "colorbar": {
              "outlinewidth": 0,
              "tickcolor": "rgb(36,36,36)",
              "ticklen": 8,
              "ticks": "outside",
              "tickwidth": 2
             }
            },
            "type": "scattermapbox"
           }
          ],
          "scatterpolar": [
           {
            "marker": {
             "colorbar": {
              "outlinewidth": 0,
              "tickcolor": "rgb(36,36,36)",
              "ticklen": 8,
              "ticks": "outside",
              "tickwidth": 2
             }
            },
            "type": "scatterpolar"
           }
          ],
          "scatterpolargl": [
           {
            "marker": {
             "colorbar": {
              "outlinewidth": 0,
              "tickcolor": "rgb(36,36,36)",
              "ticklen": 8,
              "ticks": "outside",
              "tickwidth": 2
             }
            },
            "type": "scatterpolargl"
           }
          ],
          "scatterternary": [
           {
            "marker": {
             "colorbar": {
              "outlinewidth": 0,
              "tickcolor": "rgb(36,36,36)",
              "ticklen": 8,
              "ticks": "outside",
              "tickwidth": 2
             }
            },
            "type": "scatterternary"
           }
          ],
          "surface": [
           {
            "colorbar": {
             "outlinewidth": 0,
             "tickcolor": "rgb(36,36,36)",
             "ticklen": 8,
             "ticks": "outside",
             "tickwidth": 2
            },
            "colorscale": [
             [
              0,
              "rgb(2,4,25)"
             ],
             [
              0.06274509803921569,
              "rgb(24,15,41)"
             ],
             [
              0.12549019607843137,
              "rgb(47,23,57)"
             ],
             [
              0.18823529411764706,
              "rgb(71,28,72)"
             ],
             [
              0.25098039215686274,
              "rgb(97,30,82)"
             ],
             [
              0.3137254901960784,
              "rgb(123,30,89)"
             ],
             [
              0.3764705882352941,
              "rgb(150,27,91)"
             ],
             [
              0.4392156862745098,
              "rgb(177,22,88)"
             ],
             [
              0.5019607843137255,
              "rgb(203,26,79)"
             ],
             [
              0.5647058823529412,
              "rgb(223,47,67)"
             ],
             [
              0.6274509803921569,
              "rgb(236,76,61)"
             ],
             [
              0.6901960784313725,
              "rgb(242,107,73)"
             ],
             [
              0.7529411764705882,
              "rgb(244,135,95)"
             ],
             [
              0.8156862745098039,
              "rgb(245,162,122)"
             ],
             [
              0.8784313725490196,
              "rgb(246,188,153)"
             ],
             [
              0.9411764705882353,
              "rgb(247,212,187)"
             ],
             [
              1,
              "rgb(250,234,220)"
             ]
            ],
            "type": "surface"
           }
          ],
          "table": [
           {
            "cells": {
             "fill": {
              "color": "rgb(231,231,240)"
             },
             "line": {
              "color": "white"
             }
            },
            "header": {
             "fill": {
              "color": "rgb(183,183,191)"
             },
             "line": {
              "color": "white"
             }
            },
            "type": "table"
           }
          ]
         },
         "layout": {
          "annotationdefaults": {
           "arrowcolor": "rgb(67,103,167)"
          },
          "autotypenumbers": "strict",
          "coloraxis": {
           "colorbar": {
            "outlinewidth": 0,
            "tickcolor": "rgb(36,36,36)",
            "ticklen": 8,
            "ticks": "outside",
            "tickwidth": 2
           }
          },
          "colorscale": {
           "sequential": [
            [
             0,
             "rgb(2,4,25)"
            ],
            [
             0.06274509803921569,
             "rgb(24,15,41)"
            ],
            [
             0.12549019607843137,
             "rgb(47,23,57)"
            ],
            [
             0.18823529411764706,
             "rgb(71,28,72)"
            ],
            [
             0.25098039215686274,
             "rgb(97,30,82)"
            ],
            [
             0.3137254901960784,
             "rgb(123,30,89)"
            ],
            [
             0.3764705882352941,
             "rgb(150,27,91)"
            ],
            [
             0.4392156862745098,
             "rgb(177,22,88)"
            ],
            [
             0.5019607843137255,
             "rgb(203,26,79)"
            ],
            [
             0.5647058823529412,
             "rgb(223,47,67)"
            ],
            [
             0.6274509803921569,
             "rgb(236,76,61)"
            ],
            [
             0.6901960784313725,
             "rgb(242,107,73)"
            ],
            [
             0.7529411764705882,
             "rgb(244,135,95)"
            ],
            [
             0.8156862745098039,
             "rgb(245,162,122)"
            ],
            [
             0.8784313725490196,
             "rgb(246,188,153)"
            ],
            [
             0.9411764705882353,
             "rgb(247,212,187)"
            ],
            [
             1,
             "rgb(250,234,220)"
            ]
           ],
           "sequentialminus": [
            [
             0,
             "rgb(2,4,25)"
            ],
            [
             0.06274509803921569,
             "rgb(24,15,41)"
            ],
            [
             0.12549019607843137,
             "rgb(47,23,57)"
            ],
            [
             0.18823529411764706,
             "rgb(71,28,72)"
            ],
            [
             0.25098039215686274,
             "rgb(97,30,82)"
            ],
            [
             0.3137254901960784,
             "rgb(123,30,89)"
            ],
            [
             0.3764705882352941,
             "rgb(150,27,91)"
            ],
            [
             0.4392156862745098,
             "rgb(177,22,88)"
            ],
            [
             0.5019607843137255,
             "rgb(203,26,79)"
            ],
            [
             0.5647058823529412,
             "rgb(223,47,67)"
            ],
            [
             0.6274509803921569,
             "rgb(236,76,61)"
            ],
            [
             0.6901960784313725,
             "rgb(242,107,73)"
            ],
            [
             0.7529411764705882,
             "rgb(244,135,95)"
            ],
            [
             0.8156862745098039,
             "rgb(245,162,122)"
            ],
            [
             0.8784313725490196,
             "rgb(246,188,153)"
            ],
            [
             0.9411764705882353,
             "rgb(247,212,187)"
            ],
            [
             1,
             "rgb(250,234,220)"
            ]
           ]
          },
          "colorway": [
           "rgb(76,114,176)",
           "rgb(221,132,82)",
           "rgb(85,168,104)",
           "rgb(196,78,82)",
           "rgb(129,114,179)",
           "rgb(147,120,96)",
           "rgb(218,139,195)",
           "rgb(140,140,140)",
           "rgb(204,185,116)",
           "rgb(100,181,205)"
          ],
          "font": {
           "color": "rgb(36,36,36)"
          },
          "geo": {
           "bgcolor": "white",
           "lakecolor": "white",
           "landcolor": "rgb(234,234,242)",
           "showlakes": true,
           "showland": true,
           "subunitcolor": "white"
          },
          "hoverlabel": {
           "align": "left"
          },
          "hovermode": "closest",
          "paper_bgcolor": "white",
          "plot_bgcolor": "rgb(234,234,242)",
          "polar": {
           "angularaxis": {
            "gridcolor": "white",
            "linecolor": "white",
            "showgrid": true,
            "ticks": ""
           },
           "bgcolor": "rgb(234,234,242)",
           "radialaxis": {
            "gridcolor": "white",
            "linecolor": "white",
            "showgrid": true,
            "ticks": ""
           }
          },
          "scene": {
           "xaxis": {
            "backgroundcolor": "rgb(234,234,242)",
            "gridcolor": "white",
            "gridwidth": 2,
            "linecolor": "white",
            "showbackground": true,
            "showgrid": true,
            "ticks": "",
            "zerolinecolor": "white"
           },
           "yaxis": {
            "backgroundcolor": "rgb(234,234,242)",
            "gridcolor": "white",
            "gridwidth": 2,
            "linecolor": "white",
            "showbackground": true,
            "showgrid": true,
            "ticks": "",
            "zerolinecolor": "white"
           },
           "zaxis": {
            "backgroundcolor": "rgb(234,234,242)",
            "gridcolor": "white",
            "gridwidth": 2,
            "linecolor": "white",
            "showbackground": true,
            "showgrid": true,
            "ticks": "",
            "zerolinecolor": "white"
           }
          },
          "shapedefaults": {
           "fillcolor": "rgb(67,103,167)",
           "line": {
            "width": 0
           },
           "opacity": 0.5
          },
          "ternary": {
           "aaxis": {
            "gridcolor": "white",
            "linecolor": "white",
            "showgrid": true,
            "ticks": ""
           },
           "baxis": {
            "gridcolor": "white",
            "linecolor": "white",
            "showgrid": true,
            "ticks": ""
           },
           "bgcolor": "rgb(234,234,242)",
           "caxis": {
            "gridcolor": "white",
            "linecolor": "white",
            "showgrid": true,
            "ticks": ""
           }
          },
          "xaxis": {
           "automargin": true,
           "gridcolor": "white",
           "linecolor": "white",
           "showgrid": true,
           "ticks": "",
           "title": {
            "standoff": 15
           },
           "zerolinecolor": "white"
          },
          "yaxis": {
           "automargin": true,
           "gridcolor": "white",
           "linecolor": "white",
           "showgrid": true,
           "ticks": "",
           "title": {
            "standoff": 15
           },
           "zerolinecolor": "white"
          }
         }
        },
        "title": {
         "text": "<b>STROKES BACK:</b> <b>0 or Less</b><br>Min Occurances: 2  /  <span style=\"font-size: 16px;\">Sample Size:</span> 92  /  Player Count: 35<br>"
        },
        "width": 950,
        "xaxis": {
         "anchor": "y",
         "domain": [
          0,
          1
         ],
         "gridcolor": "LightPink",
         "gridwidth": 1,
         "showgrid": true,
         "title": {
          "font": {
           "size": 15
          },
          "text": "SG/Rd - 26 WEEKS PRIOR"
         }
        },
        "yaxis": {
         "anchor": "x",
         "domain": [
          0,
          1
         ],
         "gridcolor": "LightPink",
         "gridwidth": 1,
         "showgrid": true,
         "title": {
          "font": {
           "size": 15
          },
          "text": "SG/Rd - 4 WEEKS AFTER"
         }
        }
       }
      },
      "text/html": [
       "<div>                            <div id=\"a988d7ab-2243-4a37-8d24-781ccf327b42\" class=\"plotly-graph-div\" style=\"height:700px; width:950px;\"></div>            <script type=\"text/javascript\">                require([\"plotly\"], function(Plotly) {                    window.PLOTLYENV=window.PLOTLYENV || {};                                    if (document.getElementById(\"a988d7ab-2243-4a37-8d24-781ccf327b42\")) {                    Plotly.newPlot(                        \"a988d7ab-2243-4a37-8d24-781ccf327b42\",                        [{\"customdata\":[[\"Schauffele, Xander\",5,3,-0.79,7.0],[\"Todd, Brendon\",2,84,0.25,2.0],[\"Matsuyama, Hideki\",2,22,0.47,5.0],[\"Matsuyama, Hideki\",2,22,0.47,5.0],[\"Scheffler, Scottie\",3,2,-0.67,3.0],[\"Scheffler, Scottie\",3,2,-0.67,3.0],[\"Scheffler, Scottie\",3,2,-0.67,3.0],[\"Thomas, Justin\",4,8,0.08,13.0],[\"Thomas, Justin\",4,8,0.08,13.0],[\"Thomas, Justin\",4,8,0.08,13.0],[\"Thomas, Justin\",4,8,0.08,13.0],[\"DeChambeau, Bryson\",2,59,-1.45,8.0],[\"DeChambeau, Bryson\",2,59,-1.45,8.0],[\"McIlroy, Rory\",2,1,-0.81,8.0],[\"McIlroy, Rory\",2,1,-0.81,8.0],[\"Kim, Si Woo\",2,54,-0.52,2.0],[\"Theegala, Sahith\",2,77,-0.7,0.0],[\"Kuchar, Matt\",2,43,0.41,2.0],[\"Todd, Brendon\",2,84,0.25,2.0],[\"Kuchar, Matt\",2,43,0.41,2.0],[\"McNealy, Maverick\",2,48,-1.52,0.0],[\"Merritt, Troy\",2,85,-0.46,1.0],[\"Zalatoris, Will\",2,11,-1.12,0.0],[\"Zalatoris, Will\",2,11,-1.12,0.0],[\"Poston, J.T.\",2,52,0.78,2.0],[\"Poston, J.T.\",2,52,0.78,2.0],[\"Bradley, Keegan\",2,31,0.52,1.0],[\"Bradley, Keegan\",2,31,0.52,1.0],[\"Munoz, Sebastian\",2,41,0.22,1.0],[\"Munoz, Sebastian\",2,41,0.22,1.0],[\"Burns, Sam\",2,13,-2.88,4.0],[\"Burns, Sam\",2,13,-2.88,4.0],[\"Henley, Russell\",4,36,0.24,1.0],[\"Henley, Russell\",4,36,0.24,1.0],[\"Henley, Russell\",4,36,0.24,1.0],[\"Henley, Russell\",4,36,0.24,1.0],[\"Steele, Brendan\",2,73,0.69,1.0],[\"Steele, Brendan\",2,73,0.69,1.0],[\"Merritt, Troy\",2,85,-0.46,1.0],[\"McNealy, Maverick\",2,48,-1.52,0.0],[\"Woodland, Gary\",2,68,0.43,2.0],[\"Kim, Si Woo\",2,54,-0.52,2.0],[\"Rahm, Jon\",5,7,-0.6,7.0],[\"Finau, Tony\",5,10,0.19,2.0],[\"Woodland, Gary\",2,68,0.43,2.0],[\"Finau, Tony\",5,10,0.19,2.0],[\"Finau, Tony\",5,10,0.19,2.0],[\"Berger, Daniel\",2,24,-0.24,3.0],[\"Berger, Daniel\",2,24,-0.24,3.0],[\"Finau, Tony\",5,10,0.19,2.0],[\"Spieth, Jordan\",4,16,0.78,5.0],[\"Spieth, Jordan\",4,16,0.78,5.0],[\"Spieth, Jordan\",4,16,0.78,5.0],[\"Schauffele, Xander\",5,3,-0.79,7.0],[\"Schauffele, Xander\",5,3,-0.79,7.0],[\"Schauffele, Xander\",5,3,-0.79,7.0],[\"Schauffele, Xander\",5,3,-0.79,7.0],[\"Spieth, Jordan\",4,16,0.78,5.0],[\"Ancer, Abraham\",3,34,-0.54,1.0],[\"Finau, Tony\",5,10,0.19,2.0],[\"Theegala, Sahith\",2,77,-0.7,0.0],[\"Rahm, Jon\",5,7,-0.6,7.0],[\"Rahm, Jon\",5,7,-0.6,7.0],[\"Rahm, Jon\",5,7,-0.6,7.0],[\"Rahm, Jon\",5,7,-0.6,7.0],[\"Ancer, Abraham\",3,34,-0.54,1.0],[\"Ancer, Abraham\",3,34,-0.54,1.0],[\"Johnson, Dustin\",3,12,1.63,11.0],[\"Johnson, Dustin\",3,12,1.63,11.0],[\"Johnson, Dustin\",3,12,1.63,11.0]],\"hovertemplate\":\"<b>%{customdata[0]}</b>                     <br>Count: %{customdata[1]}</b>                     <br>=================</b>                     <br>SG Before:%{x:>20}<br>After Loss SG:%{y:>14}</b>                     <br><b>Change:%{customdata[3]:>23}</b>                     <br>=================</b>                     <br>Wins Since 2017:%{customdata[4]:>11}</b>                     <br>Data Golf Rank:%{customdata[2]:>13}\",\"hovertext\":[\"Schauffele, Xander\",\"Todd, Brendon\",\"Matsuyama, Hideki\",\"Matsuyama, Hideki\",\"Scheffler, Scottie\",\"Scheffler, Scottie\",\"Scheffler, Scottie\",\"Thomas, Justin\",\"Thomas, Justin\",\"Thomas, Justin\",\"Thomas, Justin\",\"DeChambeau, Bryson\",\"DeChambeau, Bryson\",\"McIlroy, Rory\",\"McIlroy, Rory\",\"Kim, Si Woo\",\"Theegala, Sahith\",\"Kuchar, Matt\",\"Todd, Brendon\",\"Kuchar, Matt\",\"McNealy, Maverick\",\"Merritt, Troy\",\"Zalatoris, Will\",\"Zalatoris, Will\",\"Poston, J.T.\",\"Poston, J.T.\",\"Bradley, Keegan\",\"Bradley, Keegan\",\"Munoz, Sebastian\",\"Munoz, Sebastian\",\"Burns, Sam\",\"Burns, Sam\",\"Henley, Russell\",\"Henley, Russell\",\"Henley, Russell\",\"Henley, Russell\",\"Steele, Brendan\",\"Steele, Brendan\",\"Merritt, Troy\",\"McNealy, Maverick\",\"Woodland, Gary\",\"Kim, Si Woo\",\"Rahm, Jon\",\"Finau, Tony\",\"Woodland, Gary\",\"Finau, Tony\",\"Finau, Tony\",\"Berger, Daniel\",\"Berger, Daniel\",\"Finau, Tony\",\"Spieth, Jordan\",\"Spieth, Jordan\",\"Spieth, Jordan\",\"Schauffele, Xander\",\"Schauffele, Xander\",\"Schauffele, Xander\",\"Schauffele, Xander\",\"Spieth, Jordan\",\"Ancer, Abraham\",\"Finau, Tony\",\"Theegala, Sahith\",\"Rahm, Jon\",\"Rahm, Jon\",\"Rahm, Jon\",\"Rahm, Jon\",\"Ancer, Abraham\",\"Ancer, Abraham\",\"Johnson, Dustin\",\"Johnson, Dustin\",\"Johnson, Dustin\"],\"legendgroup\":\"1-100\",\"marker\":{\"color\":\"rgb(76,114,176)\",\"size\":[5,2,2,2,3,3,3,4,4,4,4,2,2,2,2,2,2,2,2,2,2,2,2,2,2,2,2,2,2,2,2,2,4,4,4,4,2,2,2,2,2,2,5,5,2,5,5,2,2,5,4,4,4,5,5,5,5,4,3,5,2,5,5,5,5,3,3,3,3,3],\"sizemode\":\"area\",\"sizeref\":0.0125,\"symbol\":\"circle\"},\"mode\":\"markers\",\"name\":\"1-100\",\"orientation\":\"v\",\"showlegend\":true,\"x\":[1.4,0.4,1.06,1.06,1.57,1.57,1.57,1.64,1.64,1.64,1.64,1.14,1.14,2.92,2.92,0.78,0.2,0.95,0.4,0.95,0.8,0.24,1.46,1.46,-0.12,-0.12,0.76,0.76,0.45,0.45,1.0,1.0,0.77,0.77,0.77,0.77,-0.36,-0.36,0.24,0.8,1.0,0.78,2.12,1.07,1.0,1.07,1.07,0.88,0.88,1.07,0.73,0.73,0.73,1.4,1.4,1.4,1.4,0.73,0.71,1.07,0.2,2.12,2.12,2.12,2.12,0.71,0.71,1.22,1.22,1.22],\"xaxis\":\"x\",\"y\":[0.61,0.65,1.52,1.52,0.9,0.9,0.9,1.72,1.72,1.72,1.72,-0.31,-0.31,2.1,2.1,0.25,-0.5,1.36,0.65,1.36,-0.73,-0.23,0.34,0.34,0.66,0.66,1.28,1.28,0.66,0.66,-1.88,-1.88,1.01,1.01,1.01,1.01,0.33,0.33,-0.23,-0.73,1.42,0.25,1.52,1.26,1.42,1.26,1.26,0.64,0.64,1.26,1.52,1.52,1.52,0.61,0.61,0.61,0.61,1.52,0.17,1.26,-0.5,1.52,1.52,1.52,1.52,0.17,0.17,2.85,2.85,2.85],\"yaxis\":\"y\",\"type\":\"scatter\"},{\"customdata\":[[\"Hossler, Beau\",4,151,-1.04,0.0],[\"Hossler, Beau\",4,151,-1.04,0.0],[\"Hossler, Beau\",4,151,-1.04,0.0],[\"Hossler, Beau\",4,151,-1.04,0.0],[\"Putnam, Andrew\",3,108,-0.12,0.0],[\"Putnam, Andrew\",3,108,-0.12,0.0],[\"Westwood, Lee\",2,171,-0.53,0.0],[\"Westwood, Lee\",2,171,-0.53,0.0],[\"Putnam, Andrew\",3,108,-0.12,0.0],[\"Wolff, Matthew\",2,198,1.74,1.0],[\"Wolff, Matthew\",2,198,1.74,1.0],[\"Palmer, Ryan\",2,110,-1.64,0.0],[\"Fowler, Rickie\",2,122,-1.4,3.0],[\"Fowler, Rickie\",2,122,-1.4,3.0],[\"Palmer, Ryan\",2,110,-1.64,0.0]],\"hovertemplate\":\"<b>%{customdata[0]}</b>                     <br>Count: %{customdata[1]}</b>                     <br>=================</b>                     <br>SG Before:%{x:>20}<br>After Loss SG:%{y:>14}</b>                     <br><b>Change:%{customdata[3]:>23}</b>                     <br>=================</b>                     <br>Wins Since 2017:%{customdata[4]:>11}</b>                     <br>Data Golf Rank:%{customdata[2]:>13}\",\"hovertext\":[\"Hossler, Beau\",\"Hossler, Beau\",\"Hossler, Beau\",\"Hossler, Beau\",\"Putnam, Andrew\",\"Putnam, Andrew\",\"Westwood, Lee\",\"Westwood, Lee\",\"Putnam, Andrew\",\"Wolff, Matthew\",\"Wolff, Matthew\",\"Palmer, Ryan\",\"Fowler, Rickie\",\"Fowler, Rickie\",\"Palmer, Ryan\"],\"legendgroup\":\"101-200\",\"marker\":{\"color\":\"rgb(221,132,82)\",\"size\":[4,4,4,4,3,3,2,2,3,2,2,2,2,2,2],\"sizemode\":\"area\",\"sizeref\":0.0125,\"symbol\":\"circle\"},\"mode\":\"markers\",\"name\":\"101-200\",\"orientation\":\"v\",\"showlegend\":true,\"x\":[-0.07,-0.07,-0.07,-0.07,0.31,0.31,-0.29,-0.29,0.31,0.34,0.34,0.65,1.12,1.12,0.65],\"xaxis\":\"x\",\"y\":[-1.12,-1.12,-1.12,-1.12,0.19,0.19,-0.82,-0.82,0.19,2.08,2.08,-0.99,-0.29,-0.29,-0.99],\"yaxis\":\"y\",\"type\":\"scatter\"},{\"customdata\":[[\"Streb, Robert\",3,212,-3.05,1.0],[\"Streb, Robert\",3,212,-3.05,1.0],[\"Streb, Robert\",3,212,-3.05,1.0],[\"Snedeker, Brandt\",2,275,-1.17,1.0],[\"Snedeker, Brandt\",2,275,-1.17,1.0],[\"An, Byeong Hun\",2,289,-0.83,0.0],[\"An, Byeong Hun\",2,289,-0.83,0.0]],\"hovertemplate\":\"<b>%{customdata[0]}</b>                     <br>Count: %{customdata[1]}</b>                     <br>=================</b>                     <br>SG Before:%{x:>20}<br>After Loss SG:%{y:>14}</b>                     <br><b>Change:%{customdata[3]:>23}</b>                     <br>=================</b>                     <br>Wins Since 2017:%{customdata[4]:>11}</b>                     <br>Data Golf Rank:%{customdata[2]:>13}\",\"hovertext\":[\"Streb, Robert\",\"Streb, Robert\",\"Streb, Robert\",\"Snedeker, Brandt\",\"Snedeker, Brandt\",\"An, Byeong Hun\",\"An, Byeong Hun\"],\"legendgroup\":\"201-300\",\"marker\":{\"color\":\"rgb(85,168,104)\",\"size\":[3,3,3,2,2,2,2],\"sizemode\":\"area\",\"sizeref\":0.0125,\"symbol\":\"circle\"},\"mode\":\"markers\",\"name\":\"201-300\",\"orientation\":\"v\",\"showlegend\":true,\"x\":[-0.67,-0.67,-0.67,-0.05,-0.05,0.8,0.8],\"xaxis\":\"x\",\"y\":[-3.72,-3.72,-3.72,-1.22,-1.22,-0.04,-0.04],\"yaxis\":\"y\",\"type\":\"scatter\"}],                        {\"template\":{\"data\":{\"barpolar\":[{\"marker\":{\"line\":{\"color\":\"rgb(234,234,242)\",\"width\":0.5},\"pattern\":{\"fillmode\":\"overlay\",\"size\":10,\"solidity\":0.2}},\"type\":\"barpolar\"}],\"bar\":[{\"error_x\":{\"color\":\"rgb(36,36,36)\"},\"error_y\":{\"color\":\"rgb(36,36,36)\"},\"marker\":{\"line\":{\"color\":\"rgb(234,234,242)\",\"width\":0.5},\"pattern\":{\"fillmode\":\"overlay\",\"size\":10,\"solidity\":0.2}},\"type\":\"bar\"}],\"carpet\":[{\"aaxis\":{\"endlinecolor\":\"rgb(36,36,36)\",\"gridcolor\":\"white\",\"linecolor\":\"white\",\"minorgridcolor\":\"white\",\"startlinecolor\":\"rgb(36,36,36)\"},\"baxis\":{\"endlinecolor\":\"rgb(36,36,36)\",\"gridcolor\":\"white\",\"linecolor\":\"white\",\"minorgridcolor\":\"white\",\"startlinecolor\":\"rgb(36,36,36)\"},\"type\":\"carpet\"}],\"choropleth\":[{\"colorbar\":{\"outlinewidth\":0,\"tickcolor\":\"rgb(36,36,36)\",\"ticklen\":8,\"ticks\":\"outside\",\"tickwidth\":2},\"type\":\"choropleth\"}],\"contourcarpet\":[{\"colorbar\":{\"outlinewidth\":0,\"tickcolor\":\"rgb(36,36,36)\",\"ticklen\":8,\"ticks\":\"outside\",\"tickwidth\":2},\"type\":\"contourcarpet\"}],\"contour\":[{\"colorbar\":{\"outlinewidth\":0,\"tickcolor\":\"rgb(36,36,36)\",\"ticklen\":8,\"ticks\":\"outside\",\"tickwidth\":2},\"colorscale\":[[0.0,\"rgb(2,4,25)\"],[0.06274509803921569,\"rgb(24,15,41)\"],[0.12549019607843137,\"rgb(47,23,57)\"],[0.18823529411764706,\"rgb(71,28,72)\"],[0.25098039215686274,\"rgb(97,30,82)\"],[0.3137254901960784,\"rgb(123,30,89)\"],[0.3764705882352941,\"rgb(150,27,91)\"],[0.4392156862745098,\"rgb(177,22,88)\"],[0.5019607843137255,\"rgb(203,26,79)\"],[0.5647058823529412,\"rgb(223,47,67)\"],[0.6274509803921569,\"rgb(236,76,61)\"],[0.6901960784313725,\"rgb(242,107,73)\"],[0.7529411764705882,\"rgb(244,135,95)\"],[0.8156862745098039,\"rgb(245,162,122)\"],[0.8784313725490196,\"rgb(246,188,153)\"],[0.9411764705882353,\"rgb(247,212,187)\"],[1.0,\"rgb(250,234,220)\"]],\"type\":\"contour\"}],\"heatmapgl\":[{\"colorbar\":{\"outlinewidth\":0,\"tickcolor\":\"rgb(36,36,36)\",\"ticklen\":8,\"ticks\":\"outside\",\"tickwidth\":2},\"colorscale\":[[0.0,\"rgb(2,4,25)\"],[0.06274509803921569,\"rgb(24,15,41)\"],[0.12549019607843137,\"rgb(47,23,57)\"],[0.18823529411764706,\"rgb(71,28,72)\"],[0.25098039215686274,\"rgb(97,30,82)\"],[0.3137254901960784,\"rgb(123,30,89)\"],[0.3764705882352941,\"rgb(150,27,91)\"],[0.4392156862745098,\"rgb(177,22,88)\"],[0.5019607843137255,\"rgb(203,26,79)\"],[0.5647058823529412,\"rgb(223,47,67)\"],[0.6274509803921569,\"rgb(236,76,61)\"],[0.6901960784313725,\"rgb(242,107,73)\"],[0.7529411764705882,\"rgb(244,135,95)\"],[0.8156862745098039,\"rgb(245,162,122)\"],[0.8784313725490196,\"rgb(246,188,153)\"],[0.9411764705882353,\"rgb(247,212,187)\"],[1.0,\"rgb(250,234,220)\"]],\"type\":\"heatmapgl\"}],\"heatmap\":[{\"colorbar\":{\"outlinewidth\":0,\"tickcolor\":\"rgb(36,36,36)\",\"ticklen\":8,\"ticks\":\"outside\",\"tickwidth\":2},\"colorscale\":[[0.0,\"rgb(2,4,25)\"],[0.06274509803921569,\"rgb(24,15,41)\"],[0.12549019607843137,\"rgb(47,23,57)\"],[0.18823529411764706,\"rgb(71,28,72)\"],[0.25098039215686274,\"rgb(97,30,82)\"],[0.3137254901960784,\"rgb(123,30,89)\"],[0.3764705882352941,\"rgb(150,27,91)\"],[0.4392156862745098,\"rgb(177,22,88)\"],[0.5019607843137255,\"rgb(203,26,79)\"],[0.5647058823529412,\"rgb(223,47,67)\"],[0.6274509803921569,\"rgb(236,76,61)\"],[0.6901960784313725,\"rgb(242,107,73)\"],[0.7529411764705882,\"rgb(244,135,95)\"],[0.8156862745098039,\"rgb(245,162,122)\"],[0.8784313725490196,\"rgb(246,188,153)\"],[0.9411764705882353,\"rgb(247,212,187)\"],[1.0,\"rgb(250,234,220)\"]],\"type\":\"heatmap\"}],\"histogram2dcontour\":[{\"colorbar\":{\"outlinewidth\":0,\"tickcolor\":\"rgb(36,36,36)\",\"ticklen\":8,\"ticks\":\"outside\",\"tickwidth\":2},\"colorscale\":[[0.0,\"rgb(2,4,25)\"],[0.06274509803921569,\"rgb(24,15,41)\"],[0.12549019607843137,\"rgb(47,23,57)\"],[0.18823529411764706,\"rgb(71,28,72)\"],[0.25098039215686274,\"rgb(97,30,82)\"],[0.3137254901960784,\"rgb(123,30,89)\"],[0.3764705882352941,\"rgb(150,27,91)\"],[0.4392156862745098,\"rgb(177,22,88)\"],[0.5019607843137255,\"rgb(203,26,79)\"],[0.5647058823529412,\"rgb(223,47,67)\"],[0.6274509803921569,\"rgb(236,76,61)\"],[0.6901960784313725,\"rgb(242,107,73)\"],[0.7529411764705882,\"rgb(244,135,95)\"],[0.8156862745098039,\"rgb(245,162,122)\"],[0.8784313725490196,\"rgb(246,188,153)\"],[0.9411764705882353,\"rgb(247,212,187)\"],[1.0,\"rgb(250,234,220)\"]],\"type\":\"histogram2dcontour\"}],\"histogram2d\":[{\"colorbar\":{\"outlinewidth\":0,\"tickcolor\":\"rgb(36,36,36)\",\"ticklen\":8,\"ticks\":\"outside\",\"tickwidth\":2},\"colorscale\":[[0.0,\"rgb(2,4,25)\"],[0.06274509803921569,\"rgb(24,15,41)\"],[0.12549019607843137,\"rgb(47,23,57)\"],[0.18823529411764706,\"rgb(71,28,72)\"],[0.25098039215686274,\"rgb(97,30,82)\"],[0.3137254901960784,\"rgb(123,30,89)\"],[0.3764705882352941,\"rgb(150,27,91)\"],[0.4392156862745098,\"rgb(177,22,88)\"],[0.5019607843137255,\"rgb(203,26,79)\"],[0.5647058823529412,\"rgb(223,47,67)\"],[0.6274509803921569,\"rgb(236,76,61)\"],[0.6901960784313725,\"rgb(242,107,73)\"],[0.7529411764705882,\"rgb(244,135,95)\"],[0.8156862745098039,\"rgb(245,162,122)\"],[0.8784313725490196,\"rgb(246,188,153)\"],[0.9411764705882353,\"rgb(247,212,187)\"],[1.0,\"rgb(250,234,220)\"]],\"type\":\"histogram2d\"}],\"histogram\":[{\"marker\":{\"pattern\":{\"fillmode\":\"overlay\",\"size\":10,\"solidity\":0.2}},\"type\":\"histogram\"}],\"mesh3d\":[{\"colorbar\":{\"outlinewidth\":0,\"tickcolor\":\"rgb(36,36,36)\",\"ticklen\":8,\"ticks\":\"outside\",\"tickwidth\":2},\"type\":\"mesh3d\"}],\"parcoords\":[{\"line\":{\"colorbar\":{\"outlinewidth\":0,\"tickcolor\":\"rgb(36,36,36)\",\"ticklen\":8,\"ticks\":\"outside\",\"tickwidth\":2}},\"type\":\"parcoords\"}],\"pie\":[{\"automargin\":true,\"type\":\"pie\"}],\"scatter3d\":[{\"line\":{\"colorbar\":{\"outlinewidth\":0,\"tickcolor\":\"rgb(36,36,36)\",\"ticklen\":8,\"ticks\":\"outside\",\"tickwidth\":2}},\"marker\":{\"colorbar\":{\"outlinewidth\":0,\"tickcolor\":\"rgb(36,36,36)\",\"ticklen\":8,\"ticks\":\"outside\",\"tickwidth\":2}},\"type\":\"scatter3d\"}],\"scattercarpet\":[{\"marker\":{\"colorbar\":{\"outlinewidth\":0,\"tickcolor\":\"rgb(36,36,36)\",\"ticklen\":8,\"ticks\":\"outside\",\"tickwidth\":2}},\"type\":\"scattercarpet\"}],\"scattergeo\":[{\"marker\":{\"colorbar\":{\"outlinewidth\":0,\"tickcolor\":\"rgb(36,36,36)\",\"ticklen\":8,\"ticks\":\"outside\",\"tickwidth\":2}},\"type\":\"scattergeo\"}],\"scattergl\":[{\"marker\":{\"colorbar\":{\"outlinewidth\":0,\"tickcolor\":\"rgb(36,36,36)\",\"ticklen\":8,\"ticks\":\"outside\",\"tickwidth\":2}},\"type\":\"scattergl\"}],\"scattermapbox\":[{\"marker\":{\"colorbar\":{\"outlinewidth\":0,\"tickcolor\":\"rgb(36,36,36)\",\"ticklen\":8,\"ticks\":\"outside\",\"tickwidth\":2}},\"type\":\"scattermapbox\"}],\"scatterpolargl\":[{\"marker\":{\"colorbar\":{\"outlinewidth\":0,\"tickcolor\":\"rgb(36,36,36)\",\"ticklen\":8,\"ticks\":\"outside\",\"tickwidth\":2}},\"type\":\"scatterpolargl\"}],\"scatterpolar\":[{\"marker\":{\"colorbar\":{\"outlinewidth\":0,\"tickcolor\":\"rgb(36,36,36)\",\"ticklen\":8,\"ticks\":\"outside\",\"tickwidth\":2}},\"type\":\"scatterpolar\"}],\"scatter\":[{\"fillpattern\":{\"fillmode\":\"overlay\",\"size\":10,\"solidity\":0.2},\"type\":\"scatter\"}],\"scatterternary\":[{\"marker\":{\"colorbar\":{\"outlinewidth\":0,\"tickcolor\":\"rgb(36,36,36)\",\"ticklen\":8,\"ticks\":\"outside\",\"tickwidth\":2}},\"type\":\"scatterternary\"}],\"surface\":[{\"colorbar\":{\"outlinewidth\":0,\"tickcolor\":\"rgb(36,36,36)\",\"ticklen\":8,\"ticks\":\"outside\",\"tickwidth\":2},\"colorscale\":[[0.0,\"rgb(2,4,25)\"],[0.06274509803921569,\"rgb(24,15,41)\"],[0.12549019607843137,\"rgb(47,23,57)\"],[0.18823529411764706,\"rgb(71,28,72)\"],[0.25098039215686274,\"rgb(97,30,82)\"],[0.3137254901960784,\"rgb(123,30,89)\"],[0.3764705882352941,\"rgb(150,27,91)\"],[0.4392156862745098,\"rgb(177,22,88)\"],[0.5019607843137255,\"rgb(203,26,79)\"],[0.5647058823529412,\"rgb(223,47,67)\"],[0.6274509803921569,\"rgb(236,76,61)\"],[0.6901960784313725,\"rgb(242,107,73)\"],[0.7529411764705882,\"rgb(244,135,95)\"],[0.8156862745098039,\"rgb(245,162,122)\"],[0.8784313725490196,\"rgb(246,188,153)\"],[0.9411764705882353,\"rgb(247,212,187)\"],[1.0,\"rgb(250,234,220)\"]],\"type\":\"surface\"}],\"table\":[{\"cells\":{\"fill\":{\"color\":\"rgb(231,231,240)\"},\"line\":{\"color\":\"white\"}},\"header\":{\"fill\":{\"color\":\"rgb(183,183,191)\"},\"line\":{\"color\":\"white\"}},\"type\":\"table\"}]},\"layout\":{\"annotationdefaults\":{\"arrowcolor\":\"rgb(67,103,167)\"},\"autotypenumbers\":\"strict\",\"coloraxis\":{\"colorbar\":{\"outlinewidth\":0,\"tickcolor\":\"rgb(36,36,36)\",\"ticklen\":8,\"ticks\":\"outside\",\"tickwidth\":2}},\"colorscale\":{\"sequential\":[[0.0,\"rgb(2,4,25)\"],[0.06274509803921569,\"rgb(24,15,41)\"],[0.12549019607843137,\"rgb(47,23,57)\"],[0.18823529411764706,\"rgb(71,28,72)\"],[0.25098039215686274,\"rgb(97,30,82)\"],[0.3137254901960784,\"rgb(123,30,89)\"],[0.3764705882352941,\"rgb(150,27,91)\"],[0.4392156862745098,\"rgb(177,22,88)\"],[0.5019607843137255,\"rgb(203,26,79)\"],[0.5647058823529412,\"rgb(223,47,67)\"],[0.6274509803921569,\"rgb(236,76,61)\"],[0.6901960784313725,\"rgb(242,107,73)\"],[0.7529411764705882,\"rgb(244,135,95)\"],[0.8156862745098039,\"rgb(245,162,122)\"],[0.8784313725490196,\"rgb(246,188,153)\"],[0.9411764705882353,\"rgb(247,212,187)\"],[1.0,\"rgb(250,234,220)\"]],\"sequentialminus\":[[0.0,\"rgb(2,4,25)\"],[0.06274509803921569,\"rgb(24,15,41)\"],[0.12549019607843137,\"rgb(47,23,57)\"],[0.18823529411764706,\"rgb(71,28,72)\"],[0.25098039215686274,\"rgb(97,30,82)\"],[0.3137254901960784,\"rgb(123,30,89)\"],[0.3764705882352941,\"rgb(150,27,91)\"],[0.4392156862745098,\"rgb(177,22,88)\"],[0.5019607843137255,\"rgb(203,26,79)\"],[0.5647058823529412,\"rgb(223,47,67)\"],[0.6274509803921569,\"rgb(236,76,61)\"],[0.6901960784313725,\"rgb(242,107,73)\"],[0.7529411764705882,\"rgb(244,135,95)\"],[0.8156862745098039,\"rgb(245,162,122)\"],[0.8784313725490196,\"rgb(246,188,153)\"],[0.9411764705882353,\"rgb(247,212,187)\"],[1.0,\"rgb(250,234,220)\"]]},\"colorway\":[\"rgb(76,114,176)\",\"rgb(221,132,82)\",\"rgb(85,168,104)\",\"rgb(196,78,82)\",\"rgb(129,114,179)\",\"rgb(147,120,96)\",\"rgb(218,139,195)\",\"rgb(140,140,140)\",\"rgb(204,185,116)\",\"rgb(100,181,205)\"],\"font\":{\"color\":\"rgb(36,36,36)\"},\"geo\":{\"bgcolor\":\"white\",\"lakecolor\":\"white\",\"landcolor\":\"rgb(234,234,242)\",\"showlakes\":true,\"showland\":true,\"subunitcolor\":\"white\"},\"hoverlabel\":{\"align\":\"left\"},\"hovermode\":\"closest\",\"paper_bgcolor\":\"white\",\"plot_bgcolor\":\"rgb(234,234,242)\",\"polar\":{\"angularaxis\":{\"gridcolor\":\"white\",\"linecolor\":\"white\",\"showgrid\":true,\"ticks\":\"\"},\"bgcolor\":\"rgb(234,234,242)\",\"radialaxis\":{\"gridcolor\":\"white\",\"linecolor\":\"white\",\"showgrid\":true,\"ticks\":\"\"}},\"scene\":{\"xaxis\":{\"backgroundcolor\":\"rgb(234,234,242)\",\"gridcolor\":\"white\",\"gridwidth\":2,\"linecolor\":\"white\",\"showbackground\":true,\"showgrid\":true,\"ticks\":\"\",\"zerolinecolor\":\"white\"},\"yaxis\":{\"backgroundcolor\":\"rgb(234,234,242)\",\"gridcolor\":\"white\",\"gridwidth\":2,\"linecolor\":\"white\",\"showbackground\":true,\"showgrid\":true,\"ticks\":\"\",\"zerolinecolor\":\"white\"},\"zaxis\":{\"backgroundcolor\":\"rgb(234,234,242)\",\"gridcolor\":\"white\",\"gridwidth\":2,\"linecolor\":\"white\",\"showbackground\":true,\"showgrid\":true,\"ticks\":\"\",\"zerolinecolor\":\"white\"}},\"shapedefaults\":{\"fillcolor\":\"rgb(67,103,167)\",\"line\":{\"width\":0},\"opacity\":0.5},\"ternary\":{\"aaxis\":{\"gridcolor\":\"white\",\"linecolor\":\"white\",\"showgrid\":true,\"ticks\":\"\"},\"baxis\":{\"gridcolor\":\"white\",\"linecolor\":\"white\",\"showgrid\":true,\"ticks\":\"\"},\"bgcolor\":\"rgb(234,234,242)\",\"caxis\":{\"gridcolor\":\"white\",\"linecolor\":\"white\",\"showgrid\":true,\"ticks\":\"\"}},\"xaxis\":{\"automargin\":true,\"gridcolor\":\"white\",\"linecolor\":\"white\",\"showgrid\":true,\"ticks\":\"\",\"title\":{\"standoff\":15},\"zerolinecolor\":\"white\"},\"yaxis\":{\"automargin\":true,\"gridcolor\":\"white\",\"linecolor\":\"white\",\"showgrid\":true,\"ticks\":\"\",\"title\":{\"standoff\":15},\"zerolinecolor\":\"white\"}}},\"xaxis\":{\"anchor\":\"y\",\"domain\":[0.0,1.0],\"title\":{\"text\":\"SG/Rd - 26 WEEKS PRIOR\",\"font\":{\"size\":15}},\"showgrid\":true,\"gridwidth\":1,\"gridcolor\":\"LightPink\"},\"yaxis\":{\"anchor\":\"x\",\"domain\":[0.0,1.0],\"title\":{\"text\":\"SG/Rd - 4 WEEKS AFTER\",\"font\":{\"size\":15}},\"showgrid\":true,\"gridwidth\":1,\"gridcolor\":\"LightPink\"},\"legend\":{\"title\":{\"text\":\"Datagolf Rank\"},\"tracegroupgap\":0,\"itemsizing\":\"constant\"},\"title\":{\"text\":\"<b>STROKES BACK:</b> <b>0 or Less</b><br>Min Occurances: 2  /  <span style=\\\"font-size: 16px;\\\">Sample Size:</span> 92  /  Player Count: 35<br>\"},\"height\":700,\"width\":950,\"shapes\":[{\"line\":{\"color\":\"Black\",\"width\":3},\"type\":\"line\",\"x0\":0,\"x1\":1,\"xref\":\"x domain\",\"y0\":0,\"y1\":0,\"yref\":\"y\"},{\"line\":{\"color\":\"Black\",\"width\":3},\"type\":\"line\",\"x0\":0,\"x1\":0,\"xref\":\"x\",\"y0\":0,\"y1\":1,\"yref\":\"y domain\"},{\"line\":{\"color\":\"DarkRed\",\"dash\":\"dashdot\",\"width\":1.5},\"type\":\"line\",\"x0\":-1.5,\"x1\":2.5,\"y0\":-1.5,\"y1\":2.5}],\"hoverlabel\":{\"font\":{\"size\":15,\"family\":\"Rockwell\"}}},                        {\"responsive\": true}                    ).then(function(){\n",
       "                            \n",
       "var gd = document.getElementById('a988d7ab-2243-4a37-8d24-781ccf327b42');\n",
       "var x = new MutationObserver(function (mutations, observer) {{\n",
       "        var display = window.getComputedStyle(gd).display;\n",
       "        if (!display || display === 'none') {{\n",
       "            console.log([gd, 'removed!']);\n",
       "            Plotly.purge(gd);\n",
       "            observer.disconnect();\n",
       "        }}\n",
       "}});\n",
       "\n",
       "// Listen for the removal of the full notebook cells\n",
       "var notebookContainer = gd.closest('#notebook-container');\n",
       "if (notebookContainer) {{\n",
       "    x.observe(notebookContainer, {childList: true});\n",
       "}}\n",
       "\n",
       "// Listen for the clearing of the current output cell\n",
       "var outputEl = gd.closest('.output');\n",
       "if (outputEl) {{\n",
       "    x.observe(outputEl, {childList: true});\n",
       "}}\n",
       "\n",
       "                        })                };                });            </script>        </div>"
      ]
     },
     "metadata": {},
     "output_type": "display_data"
    }
   ],
   "source": [
    "# CHART INPUTS ##############################################\n",
    "\n",
    "# stroke_delta chose 0, 1, or 2\n",
    "# weeks_prior chose any amount\n",
    "# weeks_after chose any amount\n",
    "# rank_bin chose 'bin_40' or 'bin_100'\n",
    "# min_instances chose any number > 0\n",
    "\n",
    "stroke_delta = int(0)\n",
    "weeks_prior = int(26)\n",
    "weeks_after = int(4)\n",
    "rank_bin = 'bin_100'\n",
    "min_instances = int(2)\n",
    "\n",
    "#############################################################\n",
    "\n",
    "chart_data = data[data.r4_delta <= stroke_delta].reset_index(drop=True)\n",
    "\n",
    "chart_data['prior_date'] = chart_data['event_completed'] - pd.Timedelta(weeks=weeks_prior)\n",
    "chart_data['post_date'] = chart_data['event_completed'] + pd.Timedelta(weeks=weeks_after)\n",
    "\n",
    "stats_cols = ['round_score','sg_putt', 'sg_arg', 'sg_app', 'sg_ott',\n",
    "       'sg_t2g', 'sg_total', 'driving_dist', 'driving_acc', 'gir',\n",
    "       'scrambling', 'prox_rgh', 'prox_fw']\n",
    "\n",
    "#######\n",
    "\n",
    "losers_rounds = []\n",
    "\n",
    "for i in np.arange(0, len(chart_data)):\n",
    "\n",
    "    guy = chart_data.player_name[i]\n",
    "    prior = str(chart_data.prior_date[i])\n",
    "    event = str(chart_data.event_completed[i])\n",
    "    post = str(chart_data.post_date[i])\n",
    "    \n",
    "    rounds_before = round(stats\n",
    "                          [(stats.player_name == guy) & (stats.event_completed > prior) & (stats.event_completed < event)]\n",
    "                          .groupby('player_name', as_index=False)\n",
    "                          [stats_cols]\n",
    "                          .mean(),2)\n",
    "    \n",
    "    rounds_after = round(stats\n",
    "                         [(stats.player_name == guy) & (stats.event_completed < post) & (stats.event_completed > event)]\n",
    "                         .groupby('player_name', as_index=False)\n",
    "                         [stats_cols]\n",
    "                         .mean(),2) \n",
    "\n",
    "    # add post_ prefix to columns headers\n",
    "    rounds_after.columns = 'post_' + rounds_after.columns\n",
    "    rounds_after.rename(columns={'post_player_name':'player_name'}, inplace=True)\n",
    "    \n",
    "    # merge players before and after rounds together and send to list\n",
    "    all_rounds = pd.merge(rounds_before,rounds_after, on='player_name')\n",
    "    losers_rounds.append(all_rounds)\n",
    "    \n",
    "########\n",
    "\n",
    "# concat before and after rounds\n",
    "custom_chart = pd.concat(losers_rounds).reset_index(drop=True)\n",
    "\n",
    "# add datagolf rankings columns\n",
    "temp_ranks = dg_rankings[['player_name','datagolf_rank']]\n",
    "custom_chart = pd.merge(custom_chart, temp_ranks, on='player_name')\n",
    "\n",
    "# bring in 'count', wins, and 'datagolf_rank', and 'rank_bin'\n",
    "temp_count = custom_chart.groupby('player_name',as_index=False)['sg_total'].count().sort_values('sg_total', ascending=False).rename(columns={'sg_total':'count'}).reset_index(drop=True)\n",
    "custom_chart = custom_chart.merge(temp_count, on='player_name', how = 'left')\n",
    "temp_bin = chart_data[['player_name',rank_bin]].drop_duplicates()#.sort_values('loser_key', ascending=False).rename(columns={'loser_key':'count'}).reset_index(drop=True)\n",
    "custom_chart = custom_chart.merge(temp_bin, on='player_name', how = 'left')\n",
    "temp_wins = stats[(stats.finish_pos == 1) & (stats.round_num == 4)].groupby('player_name')['finish_pos'].count().sort_values(ascending=False)\n",
    "custom_chart = custom_chart.merge(temp_wins, on='player_name', how = 'left')\n",
    "custom_chart.rename(columns={'finish_pos':'career_wins'},inplace=True)\n",
    "custom_chart['career_wins'] = custom_chart['career_wins'].fillna(0)\n",
    "\n",
    "temp_m = custom_chart.groupby('player_name',as_index=False)[['sg_total', 'post_sg_total']].mean()\n",
    "custom_chart = custom_chart.merge(temp_m, on='player_name', how = 'left').rename(columns = \n",
    "                                                                                 {'sg_total_x':'sg_total_round', \n",
    "                                                                                  'sg_total_y':'sg_total', \n",
    "                                                                                  'post_sg_total_x':'post_sg_total_round',\n",
    "                                                                                  'post_sg_total_y':'post_sg_total'}\n",
    "                                                                                )\n",
    "# calculate deltas\n",
    "custom_chart['delta_sg_total'] = custom_chart['post_sg_total'] - custom_chart['sg_total']\n",
    "# custom_chart['delta_sg_t2g'] = custom_chart['post_sg_t2g'] - custom_chart['sg_t2g']\n",
    "# custom_chart['delta_sg_ott'] = custom_chart['post_sg_ott'] - custom_chart['sg_ott']\n",
    "# custom_chart['delta_sg_app'] = custom_chart['post_sg_app'] - custom_chart['sg_app']\n",
    "# custom_chart['delta_sg_arg'] = custom_chart['post_sg_arg'] - custom_chart['sg_arg']\n",
    "# custom_chart['delta_sg_putt'] = custom_chart['post_sg_putt'] - custom_chart['sg_putt']\n",
    "\n",
    "# title formatting\n",
    "def format_title(title, subtitle=None, subtitle_font_size=16):\n",
    "    title = f'<b>{title}</b>'\n",
    "    if not subtitle:\n",
    "        return title\n",
    "    subtitle = f'<span style=\"font-size: {subtitle_font_size}px;\">{subtitle}</span>'\n",
    "    return f\"{title} <b>{stroke_delta} or Less</b><br>Min Occurances: {min_instances}  /  {subtitle} {custom_chart[custom_chart['count'] >= min_instances]['delta_sg_total'].count()}  /  Player Count: {custom_chart[custom_chart['count'] >= min_instances]['player_name'].nunique()}<br>\"\n",
    "\n",
    "# graph\n",
    "fig = px.scatter(round(custom_chart[custom_chart['count'] >= min_instances].sort_values(rank_bin),2),\n",
    "                 x = 'sg_total',\n",
    "                 y = 'post_sg_total',\n",
    "                 title = format_title('STROKES BACK:', \"Sample Size:\"),\n",
    "                 template = 'seaborn',\n",
    "                 color = rank_bin,\n",
    "                 size = 'count',\n",
    "                 size_max = 20,\n",
    "                 hover_name='player_name',\n",
    "                 custom_data=['player_name', 'count','datagolf_rank','delta_sg_total','career_wins'],\n",
    "                 height = 700,\n",
    "                 width = 950\n",
    "                )\n",
    "\n",
    "# format grids and lines\n",
    "fig.add_hline(y=0,line_width=3, line_color=\"Black\")\n",
    "fig.add_vline(x=0,line_width=3, line_color=\"Black\")\n",
    "fig.update_xaxes(showgrid=True, gridwidth=1, gridcolor='LightPink')\n",
    "fig.update_yaxes(showgrid=True, gridwidth=1, gridcolor='LightPink')\n",
    "fig.add_shape(type=\"line\", x0=-1.5, y0=-1.5, x1=2.5, y1=2.5, line=dict(color=\"DarkRed\", width=1.5, dash=\"dashdot\"))\n",
    "\n",
    "# format always-on labels\n",
    "fig.update_layout(xaxis_title=(f\"SG/Rd - {str(weeks_prior)} WEEKS PRIOR\"))\n",
    "fig.update_layout(yaxis_title=(f\"SG/Rd - {str(weeks_after)} WEEKS AFTER\"))\n",
    "fig.update_layout(yaxis = dict(titlefont = dict(size=15)))\n",
    "fig.update_layout(xaxis = dict(titlefont = dict(size=15)))\n",
    "fig.update_layout(legend_title=\"Datagolf Rank\")\n",
    "\n",
    "# format hover labels\n",
    "fig.update_layout(hoverlabel=dict(font_size=15,font_family=\"Rockwell\"))\n",
    "fig.update_traces(hovertemplate=\n",
    "                    \"<b>%{customdata[0]}</b> \\\n",
    "                    <br>Count: %{customdata[1]}</b> \\\n",
    "                    <br>=================</b> \\\n",
    "                    <br>SG Before:%{x:>20}<br>After Loss SG:%{y:>14}</b> \\\n",
    "                    <br><b>Change:%{customdata[3]:>23}</b> \\\n",
    "                    <br>=================</b> \\\n",
    "                    <br>Wins Since 2017:%{customdata[4]:>11}</b> \\\n",
    "                    <br>Data Golf Rank:%{customdata[2]:>13}\")\n",
    "                                                  \n",
    "\n",
    "fig.show()"
   ]
  },
  {
   "cell_type": "code",
   "execution_count": 16,
   "metadata": {},
   "outputs": [
    {
     "data": {
      "text/html": [
       "<div>\n",
       "<style scoped>\n",
       "    .dataframe tbody tr th:only-of-type {\n",
       "        vertical-align: middle;\n",
       "    }\n",
       "\n",
       "    .dataframe tbody tr th {\n",
       "        vertical-align: top;\n",
       "    }\n",
       "\n",
       "    .dataframe thead th {\n",
       "        text-align: right;\n",
       "    }\n",
       "</style>\n",
       "<table border=\"1\" class=\"dataframe\">\n",
       "  <thead>\n",
       "    <tr style=\"text-align: right;\">\n",
       "      <th></th>\n",
       "      <th>player_name</th>\n",
       "      <th>round_score</th>\n",
       "      <th>sg_putt</th>\n",
       "      <th>sg_arg</th>\n",
       "      <th>sg_app</th>\n",
       "      <th>sg_ott</th>\n",
       "      <th>sg_t2g</th>\n",
       "      <th>sg_total_round</th>\n",
       "      <th>driving_dist</th>\n",
       "      <th>driving_acc</th>\n",
       "      <th>...</th>\n",
       "      <th>post_scrambling</th>\n",
       "      <th>post_prox_rgh</th>\n",
       "      <th>post_prox_fw</th>\n",
       "      <th>datagolf_rank</th>\n",
       "      <th>count</th>\n",
       "      <th>bin_100</th>\n",
       "      <th>career_wins</th>\n",
       "      <th>sg_total</th>\n",
       "      <th>post_sg_total</th>\n",
       "      <th>delta_sg_total</th>\n",
       "    </tr>\n",
       "  </thead>\n",
       "  <tbody>\n",
       "    <tr>\n",
       "      <th>0</th>\n",
       "      <td>List, Luke</td>\n",
       "      <td>70.33</td>\n",
       "      <td>-0.17</td>\n",
       "      <td>0.20</td>\n",
       "      <td>0.07</td>\n",
       "      <td>0.54</td>\n",
       "      <td>0.81</td>\n",
       "      <td>0.75</td>\n",
       "      <td>304.56</td>\n",
       "      <td>0.57</td>\n",
       "      <td>...</td>\n",
       "      <td>0.64</td>\n",
       "      <td>40.45</td>\n",
       "      <td>34.85</td>\n",
       "      <td>93</td>\n",
       "      <td>1</td>\n",
       "      <td>1-100</td>\n",
       "      <td>1.0</td>\n",
       "      <td>0.7500</td>\n",
       "      <td>1.730000</td>\n",
       "      <td>0.980000</td>\n",
       "    </tr>\n",
       "    <tr>\n",
       "      <th>1</th>\n",
       "      <td>Kisner, Kevin</td>\n",
       "      <td>71.56</td>\n",
       "      <td>0.21</td>\n",
       "      <td>0.05</td>\n",
       "      <td>-0.30</td>\n",
       "      <td>-0.09</td>\n",
       "      <td>-0.34</td>\n",
       "      <td>-0.24</td>\n",
       "      <td>280.79</td>\n",
       "      <td>0.68</td>\n",
       "      <td>...</td>\n",
       "      <td>0.66</td>\n",
       "      <td>48.65</td>\n",
       "      <td>29.27</td>\n",
       "      <td>71</td>\n",
       "      <td>1</td>\n",
       "      <td>1-100</td>\n",
       "      <td>2.0</td>\n",
       "      <td>-0.2400</td>\n",
       "      <td>0.460000</td>\n",
       "      <td>0.700000</td>\n",
       "    </tr>\n",
       "    <tr>\n",
       "      <th>2</th>\n",
       "      <td>Schauffele, Xander</td>\n",
       "      <td>70.57</td>\n",
       "      <td>0.07</td>\n",
       "      <td>-0.00</td>\n",
       "      <td>0.46</td>\n",
       "      <td>0.29</td>\n",
       "      <td>0.74</td>\n",
       "      <td>0.81</td>\n",
       "      <td>295.07</td>\n",
       "      <td>0.62</td>\n",
       "      <td>...</td>\n",
       "      <td>0.53</td>\n",
       "      <td>52.41</td>\n",
       "      <td>29.59</td>\n",
       "      <td>3</td>\n",
       "      <td>5</td>\n",
       "      <td>1-100</td>\n",
       "      <td>7.0</td>\n",
       "      <td>1.4000</td>\n",
       "      <td>0.610000</td>\n",
       "      <td>-0.790000</td>\n",
       "    </tr>\n",
       "    <tr>\n",
       "      <th>3</th>\n",
       "      <td>Schauffele, Xander</td>\n",
       "      <td>69.10</td>\n",
       "      <td>-0.22</td>\n",
       "      <td>0.35</td>\n",
       "      <td>0.64</td>\n",
       "      <td>0.05</td>\n",
       "      <td>1.03</td>\n",
       "      <td>1.20</td>\n",
       "      <td>295.91</td>\n",
       "      <td>0.65</td>\n",
       "      <td>...</td>\n",
       "      <td>0.64</td>\n",
       "      <td>71.06</td>\n",
       "      <td>37.11</td>\n",
       "      <td>3</td>\n",
       "      <td>5</td>\n",
       "      <td>1-100</td>\n",
       "      <td>7.0</td>\n",
       "      <td>1.4000</td>\n",
       "      <td>0.610000</td>\n",
       "      <td>-0.790000</td>\n",
       "    </tr>\n",
       "    <tr>\n",
       "      <th>4</th>\n",
       "      <td>Schauffele, Xander</td>\n",
       "      <td>70.22</td>\n",
       "      <td>-0.07</td>\n",
       "      <td>0.20</td>\n",
       "      <td>0.79</td>\n",
       "      <td>0.63</td>\n",
       "      <td>1.63</td>\n",
       "      <td>1.51</td>\n",
       "      <td>302.35</td>\n",
       "      <td>0.64</td>\n",
       "      <td>...</td>\n",
       "      <td>0.63</td>\n",
       "      <td>32.69</td>\n",
       "      <td>28.21</td>\n",
       "      <td>3</td>\n",
       "      <td>5</td>\n",
       "      <td>1-100</td>\n",
       "      <td>7.0</td>\n",
       "      <td>1.4000</td>\n",
       "      <td>0.610000</td>\n",
       "      <td>-0.790000</td>\n",
       "    </tr>\n",
       "    <tr>\n",
       "      <th>5</th>\n",
       "      <td>Schauffele, Xander</td>\n",
       "      <td>68.97</td>\n",
       "      <td>0.32</td>\n",
       "      <td>0.27</td>\n",
       "      <td>0.20</td>\n",
       "      <td>0.72</td>\n",
       "      <td>1.18</td>\n",
       "      <td>1.50</td>\n",
       "      <td>296.91</td>\n",
       "      <td>0.68</td>\n",
       "      <td>...</td>\n",
       "      <td>0.59</td>\n",
       "      <td>52.26</td>\n",
       "      <td>33.24</td>\n",
       "      <td>3</td>\n",
       "      <td>5</td>\n",
       "      <td>1-100</td>\n",
       "      <td>7.0</td>\n",
       "      <td>1.4000</td>\n",
       "      <td>0.610000</td>\n",
       "      <td>-0.790000</td>\n",
       "    </tr>\n",
       "    <tr>\n",
       "      <th>6</th>\n",
       "      <td>Schauffele, Xander</td>\n",
       "      <td>68.94</td>\n",
       "      <td>0.93</td>\n",
       "      <td>0.34</td>\n",
       "      <td>0.46</td>\n",
       "      <td>0.38</td>\n",
       "      <td>1.18</td>\n",
       "      <td>1.98</td>\n",
       "      <td>297.55</td>\n",
       "      <td>0.65</td>\n",
       "      <td>...</td>\n",
       "      <td>0.64</td>\n",
       "      <td>40.02</td>\n",
       "      <td>34.93</td>\n",
       "      <td>3</td>\n",
       "      <td>5</td>\n",
       "      <td>1-100</td>\n",
       "      <td>7.0</td>\n",
       "      <td>1.4000</td>\n",
       "      <td>0.610000</td>\n",
       "      <td>-0.790000</td>\n",
       "    </tr>\n",
       "    <tr>\n",
       "      <th>7</th>\n",
       "      <td>Spieth, Jordan</td>\n",
       "      <td>69.77</td>\n",
       "      <td>-0.25</td>\n",
       "      <td>0.29</td>\n",
       "      <td>0.45</td>\n",
       "      <td>0.48</td>\n",
       "      <td>1.22</td>\n",
       "      <td>1.23</td>\n",
       "      <td>291.92</td>\n",
       "      <td>0.67</td>\n",
       "      <td>...</td>\n",
       "      <td>0.78</td>\n",
       "      <td>35.91</td>\n",
       "      <td>28.38</td>\n",
       "      <td>16</td>\n",
       "      <td>4</td>\n",
       "      <td>1-100</td>\n",
       "      <td>5.0</td>\n",
       "      <td>0.7300</td>\n",
       "      <td>1.515000</td>\n",
       "      <td>0.785000</td>\n",
       "    </tr>\n",
       "    <tr>\n",
       "      <th>8</th>\n",
       "      <td>Spieth, Jordan</td>\n",
       "      <td>69.58</td>\n",
       "      <td>0.30</td>\n",
       "      <td>0.59</td>\n",
       "      <td>1.15</td>\n",
       "      <td>0.12</td>\n",
       "      <td>1.86</td>\n",
       "      <td>2.22</td>\n",
       "      <td>294.24</td>\n",
       "      <td>0.61</td>\n",
       "      <td>...</td>\n",
       "      <td>0.62</td>\n",
       "      <td>41.78</td>\n",
       "      <td>33.22</td>\n",
       "      <td>16</td>\n",
       "      <td>4</td>\n",
       "      <td>1-100</td>\n",
       "      <td>5.0</td>\n",
       "      <td>0.7300</td>\n",
       "      <td>1.515000</td>\n",
       "      <td>0.785000</td>\n",
       "    </tr>\n",
       "    <tr>\n",
       "      <th>9</th>\n",
       "      <td>Spieth, Jordan</td>\n",
       "      <td>71.27</td>\n",
       "      <td>-0.25</td>\n",
       "      <td>0.30</td>\n",
       "      <td>-0.13</td>\n",
       "      <td>-0.50</td>\n",
       "      <td>-0.33</td>\n",
       "      <td>-0.53</td>\n",
       "      <td>293.01</td>\n",
       "      <td>0.58</td>\n",
       "      <td>...</td>\n",
       "      <td>0.65</td>\n",
       "      <td>43.53</td>\n",
       "      <td>29.97</td>\n",
       "      <td>16</td>\n",
       "      <td>4</td>\n",
       "      <td>1-100</td>\n",
       "      <td>5.0</td>\n",
       "      <td>0.7300</td>\n",
       "      <td>1.515000</td>\n",
       "      <td>0.785000</td>\n",
       "    </tr>\n",
       "    <tr>\n",
       "      <th>10</th>\n",
       "      <td>Spieth, Jordan</td>\n",
       "      <td>70.85</td>\n",
       "      <td>0.13</td>\n",
       "      <td>0.33</td>\n",
       "      <td>0.18</td>\n",
       "      <td>-0.57</td>\n",
       "      <td>-0.07</td>\n",
       "      <td>-0.00</td>\n",
       "      <td>297.40</td>\n",
       "      <td>0.55</td>\n",
       "      <td>...</td>\n",
       "      <td>0.66</td>\n",
       "      <td>47.75</td>\n",
       "      <td>35.01</td>\n",
       "      <td>16</td>\n",
       "      <td>4</td>\n",
       "      <td>1-100</td>\n",
       "      <td>5.0</td>\n",
       "      <td>0.7300</td>\n",
       "      <td>1.515000</td>\n",
       "      <td>0.785000</td>\n",
       "    </tr>\n",
       "    <tr>\n",
       "      <th>11</th>\n",
       "      <td>Leishman, Marc</td>\n",
       "      <td>70.25</td>\n",
       "      <td>-0.04</td>\n",
       "      <td>0.43</td>\n",
       "      <td>0.54</td>\n",
       "      <td>-0.28</td>\n",
       "      <td>0.69</td>\n",
       "      <td>0.91</td>\n",
       "      <td>293.33</td>\n",
       "      <td>0.59</td>\n",
       "      <td>...</td>\n",
       "      <td>0.64</td>\n",
       "      <td>46.82</td>\n",
       "      <td>29.97</td>\n",
       "      <td>76</td>\n",
       "      <td>1</td>\n",
       "      <td>1-100</td>\n",
       "      <td>4.0</td>\n",
       "      <td>0.9100</td>\n",
       "      <td>-0.380000</td>\n",
       "      <td>-1.290000</td>\n",
       "    </tr>\n",
       "    <tr>\n",
       "      <th>12</th>\n",
       "      <td>Cook, Austin</td>\n",
       "      <td>69.29</td>\n",
       "      <td>0.61</td>\n",
       "      <td>0.35</td>\n",
       "      <td>0.05</td>\n",
       "      <td>0.30</td>\n",
       "      <td>0.70</td>\n",
       "      <td>1.22</td>\n",
       "      <td>286.70</td>\n",
       "      <td>0.72</td>\n",
       "      <td>...</td>\n",
       "      <td>0.65</td>\n",
       "      <td>40.63</td>\n",
       "      <td>33.04</td>\n",
       "      <td>271</td>\n",
       "      <td>1</td>\n",
       "      <td>201-300</td>\n",
       "      <td>1.0</td>\n",
       "      <td>1.2200</td>\n",
       "      <td>-0.490000</td>\n",
       "      <td>-1.710000</td>\n",
       "    </tr>\n",
       "    <tr>\n",
       "      <th>13</th>\n",
       "      <td>Hossler, Beau</td>\n",
       "      <td>70.80</td>\n",
       "      <td>0.44</td>\n",
       "      <td>0.11</td>\n",
       "      <td>-0.48</td>\n",
       "      <td>0.03</td>\n",
       "      <td>-0.34</td>\n",
       "      <td>0.35</td>\n",
       "      <td>288.26</td>\n",
       "      <td>0.61</td>\n",
       "      <td>...</td>\n",
       "      <td>0.68</td>\n",
       "      <td>46.72</td>\n",
       "      <td>33.53</td>\n",
       "      <td>151</td>\n",
       "      <td>4</td>\n",
       "      <td>101-200</td>\n",
       "      <td>0.0</td>\n",
       "      <td>-0.0725</td>\n",
       "      <td>-1.117500</td>\n",
       "      <td>-1.045000</td>\n",
       "    </tr>\n",
       "    <tr>\n",
       "      <th>14</th>\n",
       "      <td>Hossler, Beau</td>\n",
       "      <td>71.50</td>\n",
       "      <td>0.56</td>\n",
       "      <td>-0.56</td>\n",
       "      <td>-0.40</td>\n",
       "      <td>0.08</td>\n",
       "      <td>-0.88</td>\n",
       "      <td>-0.32</td>\n",
       "      <td>284.89</td>\n",
       "      <td>0.63</td>\n",
       "      <td>...</td>\n",
       "      <td>0.72</td>\n",
       "      <td>32.48</td>\n",
       "      <td>28.68</td>\n",
       "      <td>151</td>\n",
       "      <td>4</td>\n",
       "      <td>101-200</td>\n",
       "      <td>0.0</td>\n",
       "      <td>-0.0725</td>\n",
       "      <td>-1.117500</td>\n",
       "      <td>-1.045000</td>\n",
       "    </tr>\n",
       "    <tr>\n",
       "      <th>15</th>\n",
       "      <td>Hossler, Beau</td>\n",
       "      <td>71.04</td>\n",
       "      <td>0.41</td>\n",
       "      <td>0.12</td>\n",
       "      <td>-0.21</td>\n",
       "      <td>-0.13</td>\n",
       "      <td>-0.22</td>\n",
       "      <td>0.22</td>\n",
       "      <td>288.60</td>\n",
       "      <td>0.54</td>\n",
       "      <td>...</td>\n",
       "      <td>0.56</td>\n",
       "      <td>40.59</td>\n",
       "      <td>40.62</td>\n",
       "      <td>151</td>\n",
       "      <td>4</td>\n",
       "      <td>101-200</td>\n",
       "      <td>0.0</td>\n",
       "      <td>-0.0725</td>\n",
       "      <td>-1.117500</td>\n",
       "      <td>-1.045000</td>\n",
       "    </tr>\n",
       "    <tr>\n",
       "      <th>16</th>\n",
       "      <td>Hossler, Beau</td>\n",
       "      <td>70.43</td>\n",
       "      <td>0.43</td>\n",
       "      <td>0.71</td>\n",
       "      <td>-0.87</td>\n",
       "      <td>-0.55</td>\n",
       "      <td>-0.71</td>\n",
       "      <td>-0.54</td>\n",
       "      <td>293.55</td>\n",
       "      <td>0.50</td>\n",
       "      <td>...</td>\n",
       "      <td>0.61</td>\n",
       "      <td>48.91</td>\n",
       "      <td>30.55</td>\n",
       "      <td>151</td>\n",
       "      <td>4</td>\n",
       "      <td>101-200</td>\n",
       "      <td>0.0</td>\n",
       "      <td>-0.0725</td>\n",
       "      <td>-1.117500</td>\n",
       "      <td>-1.045000</td>\n",
       "    </tr>\n",
       "    <tr>\n",
       "      <th>17</th>\n",
       "      <td>Putnam, Andrew</td>\n",
       "      <td>70.45</td>\n",
       "      <td>0.19</td>\n",
       "      <td>0.14</td>\n",
       "      <td>0.37</td>\n",
       "      <td>-0.29</td>\n",
       "      <td>0.23</td>\n",
       "      <td>0.51</td>\n",
       "      <td>285.04</td>\n",
       "      <td>0.64</td>\n",
       "      <td>...</td>\n",
       "      <td>0.70</td>\n",
       "      <td>55.14</td>\n",
       "      <td>34.20</td>\n",
       "      <td>108</td>\n",
       "      <td>3</td>\n",
       "      <td>101-200</td>\n",
       "      <td>0.0</td>\n",
       "      <td>0.3100</td>\n",
       "      <td>0.193333</td>\n",
       "      <td>-0.116667</td>\n",
       "    </tr>\n",
       "    <tr>\n",
       "      <th>18</th>\n",
       "      <td>Putnam, Andrew</td>\n",
       "      <td>71.11</td>\n",
       "      <td>0.32</td>\n",
       "      <td>-0.02</td>\n",
       "      <td>0.09</td>\n",
       "      <td>-0.50</td>\n",
       "      <td>-0.43</td>\n",
       "      <td>0.16</td>\n",
       "      <td>275.68</td>\n",
       "      <td>0.68</td>\n",
       "      <td>...</td>\n",
       "      <td>0.68</td>\n",
       "      <td>41.15</td>\n",
       "      <td>33.24</td>\n",
       "      <td>108</td>\n",
       "      <td>3</td>\n",
       "      <td>101-200</td>\n",
       "      <td>0.0</td>\n",
       "      <td>0.3100</td>\n",
       "      <td>0.193333</td>\n",
       "      <td>-0.116667</td>\n",
       "    </tr>\n",
       "    <tr>\n",
       "      <th>19</th>\n",
       "      <td>Putnam, Andrew</td>\n",
       "      <td>69.47</td>\n",
       "      <td>0.21</td>\n",
       "      <td>0.19</td>\n",
       "      <td>0.32</td>\n",
       "      <td>-0.21</td>\n",
       "      <td>0.30</td>\n",
       "      <td>0.26</td>\n",
       "      <td>280.61</td>\n",
       "      <td>0.67</td>\n",
       "      <td>...</td>\n",
       "      <td>0.66</td>\n",
       "      <td>39.39</td>\n",
       "      <td>35.25</td>\n",
       "      <td>108</td>\n",
       "      <td>3</td>\n",
       "      <td>101-200</td>\n",
       "      <td>0.0</td>\n",
       "      <td>0.3100</td>\n",
       "      <td>0.193333</td>\n",
       "      <td>-0.116667</td>\n",
       "    </tr>\n",
       "  </tbody>\n",
       "</table>\n",
       "<p>20 rows × 34 columns</p>\n",
       "</div>"
      ],
      "text/plain": [
       "           player_name  round_score  sg_putt  sg_arg  sg_app  sg_ott  sg_t2g  \\\n",
       "0           List, Luke        70.33    -0.17    0.20    0.07    0.54    0.81   \n",
       "1        Kisner, Kevin        71.56     0.21    0.05   -0.30   -0.09   -0.34   \n",
       "2   Schauffele, Xander        70.57     0.07   -0.00    0.46    0.29    0.74   \n",
       "3   Schauffele, Xander        69.10    -0.22    0.35    0.64    0.05    1.03   \n",
       "4   Schauffele, Xander        70.22    -0.07    0.20    0.79    0.63    1.63   \n",
       "5   Schauffele, Xander        68.97     0.32    0.27    0.20    0.72    1.18   \n",
       "6   Schauffele, Xander        68.94     0.93    0.34    0.46    0.38    1.18   \n",
       "7       Spieth, Jordan        69.77    -0.25    0.29    0.45    0.48    1.22   \n",
       "8       Spieth, Jordan        69.58     0.30    0.59    1.15    0.12    1.86   \n",
       "9       Spieth, Jordan        71.27    -0.25    0.30   -0.13   -0.50   -0.33   \n",
       "10      Spieth, Jordan        70.85     0.13    0.33    0.18   -0.57   -0.07   \n",
       "11      Leishman, Marc        70.25    -0.04    0.43    0.54   -0.28    0.69   \n",
       "12        Cook, Austin        69.29     0.61    0.35    0.05    0.30    0.70   \n",
       "13       Hossler, Beau        70.80     0.44    0.11   -0.48    0.03   -0.34   \n",
       "14       Hossler, Beau        71.50     0.56   -0.56   -0.40    0.08   -0.88   \n",
       "15       Hossler, Beau        71.04     0.41    0.12   -0.21   -0.13   -0.22   \n",
       "16       Hossler, Beau        70.43     0.43    0.71   -0.87   -0.55   -0.71   \n",
       "17      Putnam, Andrew        70.45     0.19    0.14    0.37   -0.29    0.23   \n",
       "18      Putnam, Andrew        71.11     0.32   -0.02    0.09   -0.50   -0.43   \n",
       "19      Putnam, Andrew        69.47     0.21    0.19    0.32   -0.21    0.30   \n",
       "\n",
       "    sg_total_round  driving_dist  driving_acc  ...  post_scrambling  \\\n",
       "0             0.75        304.56         0.57  ...             0.64   \n",
       "1            -0.24        280.79         0.68  ...             0.66   \n",
       "2             0.81        295.07         0.62  ...             0.53   \n",
       "3             1.20        295.91         0.65  ...             0.64   \n",
       "4             1.51        302.35         0.64  ...             0.63   \n",
       "5             1.50        296.91         0.68  ...             0.59   \n",
       "6             1.98        297.55         0.65  ...             0.64   \n",
       "7             1.23        291.92         0.67  ...             0.78   \n",
       "8             2.22        294.24         0.61  ...             0.62   \n",
       "9            -0.53        293.01         0.58  ...             0.65   \n",
       "10           -0.00        297.40         0.55  ...             0.66   \n",
       "11            0.91        293.33         0.59  ...             0.64   \n",
       "12            1.22        286.70         0.72  ...             0.65   \n",
       "13            0.35        288.26         0.61  ...             0.68   \n",
       "14           -0.32        284.89         0.63  ...             0.72   \n",
       "15            0.22        288.60         0.54  ...             0.56   \n",
       "16           -0.54        293.55         0.50  ...             0.61   \n",
       "17            0.51        285.04         0.64  ...             0.70   \n",
       "18            0.16        275.68         0.68  ...             0.68   \n",
       "19            0.26        280.61         0.67  ...             0.66   \n",
       "\n",
       "    post_prox_rgh  post_prox_fw  datagolf_rank  count  bin_100  career_wins  \\\n",
       "0           40.45         34.85             93      1    1-100          1.0   \n",
       "1           48.65         29.27             71      1    1-100          2.0   \n",
       "2           52.41         29.59              3      5    1-100          7.0   \n",
       "3           71.06         37.11              3      5    1-100          7.0   \n",
       "4           32.69         28.21              3      5    1-100          7.0   \n",
       "5           52.26         33.24              3      5    1-100          7.0   \n",
       "6           40.02         34.93              3      5    1-100          7.0   \n",
       "7           35.91         28.38             16      4    1-100          5.0   \n",
       "8           41.78         33.22             16      4    1-100          5.0   \n",
       "9           43.53         29.97             16      4    1-100          5.0   \n",
       "10          47.75         35.01             16      4    1-100          5.0   \n",
       "11          46.82         29.97             76      1    1-100          4.0   \n",
       "12          40.63         33.04            271      1  201-300          1.0   \n",
       "13          46.72         33.53            151      4  101-200          0.0   \n",
       "14          32.48         28.68            151      4  101-200          0.0   \n",
       "15          40.59         40.62            151      4  101-200          0.0   \n",
       "16          48.91         30.55            151      4  101-200          0.0   \n",
       "17          55.14         34.20            108      3  101-200          0.0   \n",
       "18          41.15         33.24            108      3  101-200          0.0   \n",
       "19          39.39         35.25            108      3  101-200          0.0   \n",
       "\n",
       "    sg_total  post_sg_total  delta_sg_total  \n",
       "0     0.7500       1.730000        0.980000  \n",
       "1    -0.2400       0.460000        0.700000  \n",
       "2     1.4000       0.610000       -0.790000  \n",
       "3     1.4000       0.610000       -0.790000  \n",
       "4     1.4000       0.610000       -0.790000  \n",
       "5     1.4000       0.610000       -0.790000  \n",
       "6     1.4000       0.610000       -0.790000  \n",
       "7     0.7300       1.515000        0.785000  \n",
       "8     0.7300       1.515000        0.785000  \n",
       "9     0.7300       1.515000        0.785000  \n",
       "10    0.7300       1.515000        0.785000  \n",
       "11    0.9100      -0.380000       -1.290000  \n",
       "12    1.2200      -0.490000       -1.710000  \n",
       "13   -0.0725      -1.117500       -1.045000  \n",
       "14   -0.0725      -1.117500       -1.045000  \n",
       "15   -0.0725      -1.117500       -1.045000  \n",
       "16   -0.0725      -1.117500       -1.045000  \n",
       "17    0.3100       0.193333       -0.116667  \n",
       "18    0.3100       0.193333       -0.116667  \n",
       "19    0.3100       0.193333       -0.116667  \n",
       "\n",
       "[20 rows x 34 columns]"
      ]
     },
     "execution_count": 16,
     "metadata": {},
     "output_type": "execute_result"
    }
   ],
   "source": [
    "custom_chart.head(20)"
   ]
  },
  {
   "cell_type": "code",
   "execution_count": null,
   "metadata": {},
   "outputs": [],
   "source": [
    "# CHART INPUTS ##############################################\n",
    "\n",
    "# stroke_delta chose 0, 1, or 2\n",
    "# weeks_prior chose any amount\n",
    "# weeks_after chose any amount\n",
    "# rank_bin chose 'bin_40' or 'bin_100'\n",
    "# min_instances chose any number > 0\n",
    "\n",
    "stroke_delta = int(1)\n",
    "weeks_prior = int(24)\n",
    "weeks_after = int(6)\n",
    "rank_bin = 'bin_100'\n",
    "min_instances = int(2)\n",
    "\n",
    "#############################################################\n",
    "\n",
    "chart_data = data[data.r4_delta <= stroke_delta].reset_index(drop=True)\n",
    "\n",
    "chart_data['prior_date'] = chart_data['event_completed'] - pd.Timedelta(weeks=weeks_prior)\n",
    "chart_data['post_date'] = chart_data['event_completed'] + pd.Timedelta(weeks=weeks_after)\n",
    "\n",
    "stats_cols = ['round_score','sg_putt', 'sg_arg', 'sg_app', 'sg_ott',\n",
    "       'sg_t2g', 'sg_total', 'driving_dist', 'driving_acc', 'gir',\n",
    "       'scrambling', 'prox_rgh', 'prox_fw']\n",
    "\n",
    "#######\n",
    "\n",
    "losers_rounds = []\n",
    "\n",
    "for i in np.arange(0, len(chart_data)):\n",
    "\n",
    "    guy = chart_data.player_name[i]\n",
    "    prior = str(chart_data.prior_date[i])\n",
    "    event = str(chart_data.event_completed[i])\n",
    "    post = str(chart_data.post_date[i])\n",
    "    \n",
    "    rounds_before = round(stats\n",
    "                          [(stats.player_name == guy) & (stats.event_completed > prior) & (stats.event_completed < event)]\n",
    "                          .groupby('player_name', as_index=False)\n",
    "                          [stats_cols]\n",
    "                          .mean(),2)\n",
    "    \n",
    "    rounds_after = round(stats\n",
    "                         [(stats.player_name == guy) & (stats.event_completed < post) & (stats.event_completed > event)]\n",
    "                         .groupby('player_name', as_index=False)\n",
    "                         [stats_cols]\n",
    "                         .mean(),2) \n",
    "\n",
    "    # add post_ prefix to columns headers\n",
    "    rounds_after.columns = 'post_' + rounds_after.columns\n",
    "    rounds_after.rename(columns={'post_player_name':'player_name'}, inplace=True)\n",
    "    \n",
    "    # merge players before and after rounds together and send to list\n",
    "    all_rounds = pd.merge(rounds_before,rounds_after, on='player_name')\n",
    "    losers_rounds.append(all_rounds)\n",
    "    \n",
    "########\n",
    "\n",
    "# concat before and after rounds\n",
    "custom_chart = pd.concat(losers_rounds).reset_index(drop=True)\n",
    "\n",
    "# add datagolf rankings columns\n",
    "temp_ranks = dg_rankings[['player_name','datagolf_rank']]\n",
    "custom_chart = pd.merge(custom_chart, temp_ranks, on='player_name')\n",
    "\n",
    "# bring in 'count', wins, and 'datagolf_rank', and 'rank_bin'\n",
    "temp_count = custom_chart.groupby('player_name',as_index=False)['driving_dist'].count().sort_values('driving_dist', ascending=False).rename(columns={'driving_dist':'count'}).reset_index(drop=True)\n",
    "custom_chart = custom_chart.merge(temp_count, on='player_name', how = 'left')\n",
    "temp_bin = chart_data[['player_name',rank_bin]].drop_duplicates()#.sort_values('loser_key', ascending=False).rename(columns={'loser_key':'count'}).reset_index(drop=True)\n",
    "custom_chart = custom_chart.merge(temp_bin, on='player_name', how = 'left')\n",
    "temp_wins = stats[(stats.finish_pos == 1) & (stats.round_num == 4)].groupby('player_name')['finish_pos'].count().sort_values(ascending=False)\n",
    "custom_chart = custom_chart.merge(temp_wins, on='player_name', how = 'left')\n",
    "custom_chart.rename(columns={'finish_pos':'career_wins'},inplace=True)\n",
    "custom_chart['career_wins'] = custom_chart['career_wins'].fillna(0)\n",
    "\n",
    "temp_m = custom_chart.groupby('player_name',as_index=False)[['sg_total', 'post_sg_total']].mean()\n",
    "custom_chart = custom_chart.merge(temp_m, on='player_name', how = 'left').rename(columns = \n",
    "                                                                                 {'sg_total_x':'sg_total_round', \n",
    "                                                                                  'sg_total_y':'sg_total', \n",
    "                                                                                  'post_sg_total_x':'post_sg_total_round',\n",
    "                                                                                  'post_sg_total_y':'post_sg_total'}\n",
    "                                                                                )\n",
    "# calculate deltas\n",
    "custom_chart['delta_sg_total'] = custom_chart['post_sg_total'] - custom_chart['sg_total']\n",
    "custom_chart['delta_sg_t2g'] = custom_chart['post_sg_t2g'] - custom_chart['sg_t2g']\n",
    "custom_chart['delta_sg_ott'] = custom_chart['post_sg_ott'] - custom_chart['sg_ott']\n",
    "custom_chart['delta_sg_app'] = custom_chart['post_sg_app'] - custom_chart['sg_app']\n",
    "custom_chart['delta_sg_arg'] = custom_chart['post_sg_arg'] - custom_chart['sg_arg']\n",
    "custom_chart['delta_sg_putt'] = custom_chart['post_sg_putt'] - custom_chart['sg_putt']\n",
    "\n",
    "def format_title(title, subtitle=None, subtitle_font_size=16):\n",
    "    title = f'<b>{title}</b>'\n",
    "    if not subtitle:\n",
    "        return title\n",
    "    subtitle = f'<span style=\"font-size: {subtitle_font_size}px;\">{subtitle}</span>'\n",
    "    return f\"{title} <b>{stroke_delta} or Less</b><br>Min Occurances: {min_instances}  /  {subtitle} {custom_chart[custom_chart['count'] >= min_instances]['delta_sg_total'].count()}  /  Player Count: {custom_chart[custom_chart['count'] >= min_instances]['player_name'].nunique()}<br>\"\n",
    "\n",
    "\n",
    "fig = px.scatter(round(custom_chart[custom_chart['count'] >= min_instances].sort_values(rank_bin),2),\n",
    "                 x = 'sg_total',\n",
    "                 y = 'post_sg_total',\n",
    "                 title = format_title('STROKES BACK:', \"Sample Size:\"),\n",
    "                 template = 'seaborn',\n",
    "                 color = rank_bin,\n",
    "                 size = 'count',\n",
    "                 size_max = 20,\n",
    "                 hover_name='player_name',\n",
    "                 custom_data=['player_name', 'count','datagolf_rank','delta_sg_total','career_wins'],\n",
    "                 height = 700,\n",
    "                 width = 950\n",
    "                )\n",
    "\n",
    "# format grids and lines\n",
    "fig.add_hline(y=0,line_width=3, line_color=\"Black\")\n",
    "fig.add_vline(x=0,line_width=3, line_color=\"Black\")\n",
    "fig.update_xaxes(showgrid=True, gridwidth=1, gridcolor='LightPink')\n",
    "fig.update_yaxes(showgrid=True, gridwidth=1, gridcolor='LightPink')\n",
    "fig.add_shape(type=\"line\", x0=-1.5, y0=-1.5, x1=2.5, y1=2.5, line=dict(color=\"DarkRed\", width=1.5, dash=\"dashdot\"))\n",
    "\n",
    "# format always-on labels\n",
    "fig.update_layout(xaxis_title=(f\"SG/Rd - {str(weeks_prior)} WEEKS PRIOR\"))\n",
    "fig.update_layout(yaxis_title=(f\"SG/Rd - {str(weeks_after)} WEEKS AFTER\"))\n",
    "fig.update_layout(yaxis = dict(titlefont = dict(size=15)))\n",
    "fig.update_layout(xaxis = dict(titlefont = dict(size=15)))\n",
    "fig.update_layout(legend_title=\"Datagolf Rank\")\n",
    "\n",
    "# format hover labels\n",
    "fig.update_layout(hoverlabel=dict(font_size=15,font_family=\"Rockwell\"))\n",
    "fig.update_traces(hovertemplate=\n",
    "                    \"<b>%{customdata[0]}</b> \\\n",
    "                    <br>Count: %{customdata[1]}</b> \\\n",
    "                    <br>=================</b> \\\n",
    "                    <br>SG Before:%{x:>20}<br>After Loss SG:%{y:>14}</b> \\\n",
    "                    <br><b>Change:%{customdata[3]:>23}</b> \\\n",
    "                    <br>=================</b> \\\n",
    "                    <br>Wins Since 2017:%{customdata[4]:>11}</b> \\\n",
    "                    <br>Data Golf Rank:%{customdata[2]:>13}\")\n",
    "                                                  \n",
    "\n",
    "fig.show()"
   ]
  },
  {
   "cell_type": "code",
   "execution_count": null,
   "metadata": {},
   "outputs": [],
   "source": [
    "round(custom_chart[custom_chart['count'] >= 1].sort_values(rank_bin),2).columns"
   ]
  },
  {
   "cell_type": "code",
   "execution_count": null,
   "metadata": {},
   "outputs": [],
   "source": [
    "# CHART INPUTS #\n",
    "\n",
    "stroke_delta = int(1)\n",
    "weeks_prior = int(20)\n",
    "weeks_after = int(6)\n",
    "rank_bin = 'bin_40'\n",
    "\n",
    "chart_data = data[data.r4_delta <= stroke_delta].reset_index(drop=True)\n",
    "\n",
    "chart_data['prior_date'] = chart_data['event_completed'] - pd.Timedelta(weeks=weeks_prior)\n",
    "chart_data['post_date'] = chart_data['event_completed'] + pd.Timedelta(weeks=weeks_after)\n",
    "\n",
    "stats_cols = ['round_score','sg_putt', 'sg_arg', 'sg_app', 'sg_ott',\n",
    "       'sg_t2g', 'sg_total', 'driving_dist', 'driving_acc', 'gir',\n",
    "       'scrambling', 'prox_rgh', 'prox_fw']\n",
    "\n",
    "#######\n",
    "\n",
    "losers_rounds = []\n",
    "\n",
    "for i in np.arange(0, len(chart_data)):\n",
    "\n",
    "    guy = chart_data.player_name[i]\n",
    "    prior = str(chart_data.prior_date[i])\n",
    "    event = str(chart_data.event_completed[i])\n",
    "    post = str(chart_data.post_date[i])\n",
    "    \n",
    "    rounds_before = round(stats\n",
    "                          [(stats.player_name == guy) & (stats.event_completed > prior) & (stats.event_completed < event)]\n",
    "                          .groupby('player_name', as_index=False)\n",
    "                          [stats_cols]\n",
    "                          .mean(),2)\n",
    "    \n",
    "    rounds_after = round(stats\n",
    "                         [(stats.player_name == guy) & (stats.event_completed < post) & (stats.event_completed > event)]\n",
    "                         .groupby('player_name', as_index=False)\n",
    "                         [stats_cols]\n",
    "                         .mean(),2) \n",
    "\n",
    "    # add post_ prefix to columns headers\n",
    "    rounds_after.columns = 'post_' + rounds_after.columns\n",
    "    rounds_after.rename(columns={'post_player_name':'player_name'}, inplace=True)\n",
    "    \n",
    "    # merge players before and after rounds together and send to list\n",
    "    all_rounds = pd.merge(rounds_before,rounds_after, on='player_name')\n",
    "    losers_rounds.append(all_rounds)\n",
    "    \n",
    "########\n",
    "\n",
    "# concat before and after rounds\n",
    "custom_chart = pd.concat(losers_rounds).reset_index(drop=True)\n",
    "\n",
    "temp_ranks = dg_rankings[['player_name','datagolf_rank']]\n",
    "custom_chart = pd.merge(custom_chart, temp_ranks, on='player_name')\n",
    "\n",
    "# bring in 'count', wins, and world ranking 'bin_100'\n",
    "temp_count = custom_chart.groupby('player_name',as_index=False)['driving_dist'].count().sort_values('driving_dist', ascending=False).rename(columns={'driving_dist':'count'}).reset_index(drop=True)\n",
    "custom_chart = custom_chart.merge(temp_count, on='player_name', how = 'left')\n",
    "temp_bin = chart_data[['player_name',rank_bin]].drop_duplicates()#.sort_values('loser_key', ascending=False).rename(columns={'loser_key':'count'}).reset_index(drop=True)\n",
    "custom_chart = custom_chart.merge(temp_bin, on='player_name', how = 'left')\n",
    "temp_wins = stats[(stats.finish_pos == 1) & (stats.round_num == 4)].groupby('player_name')['finish_pos'].count().sort_values(ascending=False)\n",
    "custom_chart = custom_chart.merge(temp_wins, on='player_name', how = 'left')\n",
    "custom_chart.rename(columns={'finish_pos':'career_wins'},inplace=True)\n",
    "custom_chart['career_wins'] = custom_chart['career_wins'].fillna(0)\n",
    "\n",
    "temp_m = custom_chart.groupby(rank_bin,as_index=False)[['sg_total', 'post_sg_total']].median()\n",
    "custom_chart = custom_chart.merge(temp_m, on=rank_bin, how = 'left').rename(columns = \n",
    "                                                                                 {'sg_total_x':'sg_total_round', \n",
    "                                                                                  'sg_total_y':'sg_total', \n",
    "                                                                                  'post_sg_total_x':'post_sg_total_round',\n",
    "                                                                                  'post_sg_total_y':'post_sg_total',\n",
    "                                                                                  'delta_sg_total_x':'delta_sg_total_round', \n",
    "                                                                                  'delta_sg_total_y':'delta_sg_total'}\n",
    "                                                                                )\n",
    "# add sg delta & datagolf rankings columns\n",
    "custom_chart['delta_sg_total'] = custom_chart['post_sg_total'] - custom_chart['sg_total']\n",
    "custom_chart['delta_sg_t2g'] = custom_chart['post_sg_t2g'] - custom_chart['sg_t2g']\n",
    "custom_chart['bubble_size'] = 5\n",
    "\n",
    "\n",
    "fig = px.scatter(round(custom_chart.sort_values(rank_bin),2),\n",
    "                 x = 'sg_total',\n",
    "                 y = 'post_sg_total',\n",
    "                 title = \"SG Before/After Big Loss\",\n",
    "                 template = 'seaborn',\n",
    "                 color = rank_bin,\n",
    "                 size = 'bubble_size',\n",
    "                 size_max = 20,\n",
    "                 hover_name='player_name',\n",
    "                 custom_data=['player_name', 'count','datagolf_rank','delta_sg_total','career_wins'],\n",
    "#                  marginal_x=\"box\",\n",
    "#                  marginal_y=\"box\",\n",
    "                 height = 700,\n",
    "                 width = 950\n",
    "                )\n",
    "\n",
    "# format grids and lines\n",
    "fig.add_hline(y=0,line_width=3, line_color=\"Black\")\n",
    "fig.add_vline(x=0,line_width=3, line_color=\"Black\")\n",
    "fig.update_xaxes(showgrid=True, gridwidth=1, gridcolor='LightPink')\n",
    "fig.update_yaxes(showgrid=True, gridwidth=1, gridcolor='LightPink')\n",
    "fig.add_shape(type=\"line\", x0=-1.5, y0=-1.5, x1=2.5, y1=2.5, line=dict(color=\"DarkRed\", width=1.5, dash=\"dashdot\"))\n",
    "\n",
    "# format always-on labels\n",
    "fig.update_layout(xaxis_title=\"SG / Rd - 24 weeks prior to 'tough loss'\")\n",
    "fig.update_layout(yaxis_title=\"SG / Rd - 3 weeks after 'tough loss'\")\n",
    "fig.update_layout(legend_title=\"World Rank\")\n",
    "\n",
    "# format hover labels\n",
    "fig.update_layout(hoverlabel=dict(font_size=15,font_family=\"Rockwell\"))\n",
    "fig.update_traces(hovertemplate=\n",
    "#                   \"<b>%{customdata[0]}</b> \\\n",
    "#                   \"<br>Count: %{customdata[1]}</b> \\\n",
    "#                    <br><br>Career Wins: %{customdata[4]}</b> \\\n",
    "#                    <br>World Rank: %{customdata[2]}</b> \\\n",
    "                  \"<br><br>Baseline SG:   %{x}<br>After Loss SG:   %{y}</b> \\\n",
    "                  <br><br>delta:  %{customdata[3]}\")\n",
    "fig.show()"
   ]
  },
  {
   "cell_type": "code",
   "execution_count": null,
   "metadata": {},
   "outputs": [],
   "source": [
    "# temp = custom_chart[custom_chart.delta_sg_total]\n",
    "print(\"============================\")\n",
    "print(f'Mean:               {round(custom_chart.delta_sg_total.mean(),2)}')\n",
    "print(\"============================\")\n",
    "print(f'Median:             {round(custom_chart.delta_sg_total.median(),2)}')\n",
    "print(\"============================\")\n",
    "print(f'Std Dev:             {round(custom_chart.delta_sg_total.std(),2)}')\n",
    "print(\"============================\")\n",
    "print(f'Variance:            {round(custom_chart.delta_sg_total.var(),2)}')\n",
    "print(\"============================\")\n",
    "# custom_chart.delta_sg_total.describe()\n",
    "#[custom_chart.player_name == 'Henley, Russell'][['player_name', '''sg_total_round', 'post_sg_total_round', 'delta_sg_total_round','sg_total', 'post_sg_total', 'delta_sg_total']]"
   ]
  },
  {
   "cell_type": "code",
   "execution_count": null,
   "metadata": {},
   "outputs": [],
   "source": [
    "# # all instances with means and deltas\n",
    "\n",
    "# print(custom_chart.shape)\n",
    "# print('==================')\n",
    "# print(custom_chart.dtypes)\n",
    "# print('==================')\n",
    "# print(custom_chart.columns)\n",
    "# print('==================')\n",
    "# round(custom_chart,2)"
   ]
  },
  {
   "cell_type": "code",
   "execution_count": null,
   "metadata": {},
   "outputs": [],
   "source": [
    "# quick look at sg stats before, after, and delta\n",
    "\n",
    "print(\"==========================\")\n",
    "print(round(custom_chart['sg_total'].mean(),2))\n",
    "print(\"==========================\")\n",
    "print(round(custom_chart['post_sg_total'].mean(),2))\n",
    "print(\"==========================\")\n",
    "print(round(custom_chart['delta_sg_total'].mean(),2))\n",
    "print(\"==========================\")"
   ]
  },
  {
   "cell_type": "code",
   "execution_count": null,
   "metadata": {},
   "outputs": [],
   "source": [
    "fig.write_html(\"../practice_files/r4_delta_final.html\")"
   ]
  }
 ],
 "metadata": {
  "interpreter": {
   "hash": "b7775f2844421d69ba470c8b8cb5ea84b1a969d97d6e36dcf1a852969776ec13"
  },
  "kernelspec": {
   "display_name": "Python 3 (ipykernel)",
   "language": "python",
   "name": "python3"
  },
  "language_info": {
   "codemirror_mode": {
    "name": "ipython",
    "version": 3
   },
   "file_extension": ".py",
   "mimetype": "text/x-python",
   "name": "python",
   "nbconvert_exporter": "python",
   "pygments_lexer": "ipython3",
   "version": "3.9.7"
  }
 },
 "nbformat": 4,
 "nbformat_minor": 2
}
